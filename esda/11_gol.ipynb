{
 "cells": [
  {
   "cell_type": "markdown",
   "metadata": {},
   "source": [
    "# Conway's Game of Life with PySAL"
   ]
  },
  {
   "cell_type": "markdown",
   "metadata": {},
   "source": [
    "## Rules ##\n",
    "\n",
    "   1. A cell that is currently alive and that has two **or** three live neighbors stays alive\n",
    "   2. A cell that is currently dead with **exactly** three live neighbors comes alive \n",
    "   3. All other cells remain dead, or die due to loneliness (less than 2 neighbors) or overcrowding (more than 3 neighbors)"
   ]
  },
  {
   "cell_type": "code",
   "execution_count": 1,
   "metadata": {
    "collapsed": false
   },
   "outputs": [
    {
     "name": "stdout",
     "output_type": "stream",
     "text": [
      "Populating the interactive namespace from numpy and matplotlib\n"
     ]
    }
   ],
   "source": [
    "import pysal as ps\n",
    "from scipy.stats import bernoulli\n",
    "%pylab inline"
   ]
  },
  {
   "cell_type": "code",
   "execution_count": 2,
   "metadata": {
    "collapsed": false
   },
   "outputs": [],
   "source": [
    "k = 8 # dimension of lattice"
   ]
  },
  {
   "cell_type": "code",
   "execution_count": 3,
   "metadata": {
    "collapsed": false
   },
   "outputs": [],
   "source": [
    "w = ps.lat2W(k,k,rook=False)"
   ]
  },
  {
   "cell_type": "code",
   "execution_count": 4,
   "metadata": {
    "collapsed": false
   },
   "outputs": [
    {
     "data": {
      "text/plain": [
       "64"
      ]
     },
     "execution_count": 4,
     "metadata": {},
     "output_type": "execute_result"
    }
   ],
   "source": [
    "w.n"
   ]
  },
  {
   "cell_type": "code",
   "execution_count": 5,
   "metadata": {
    "collapsed": false
   },
   "outputs": [
    {
     "data": {
      "text/plain": [
       "[8, 1, 9]"
      ]
     },
     "execution_count": 5,
     "metadata": {},
     "output_type": "execute_result"
    }
   ],
   "source": [
    "w.neighbors[0]"
   ]
  },
  {
   "cell_type": "code",
   "execution_count": 6,
   "metadata": {
    "collapsed": false
   },
   "outputs": [
    {
     "data": {
      "text/plain": [
       "[36, 37, 38, 44, 53, 46, 54, 52]"
      ]
     },
     "execution_count": 6,
     "metadata": {},
     "output_type": "execute_result"
    }
   ],
   "source": [
    "w.neighbors[45]"
   ]
  },
  {
   "cell_type": "code",
   "execution_count": 7,
   "metadata": {
    "collapsed": false
   },
   "outputs": [
    {
     "data": {
      "text/plain": [
       "[1.0, 1.0, 1.0]"
      ]
     },
     "execution_count": 7,
     "metadata": {},
     "output_type": "execute_result"
    }
   ],
   "source": [
    "w.weights[0]"
   ]
  },
  {
   "cell_type": "code",
   "execution_count": 8,
   "metadata": {
    "collapsed": false
   },
   "outputs": [],
   "source": [
    "y = bernoulli.rvs(0.45,size=w.n)"
   ]
  },
  {
   "cell_type": "code",
   "execution_count": 9,
   "metadata": {
    "collapsed": false
   },
   "outputs": [
    {
     "data": {
      "text/plain": [
       "array([1, 0, 1, 1, 0, 1, 0, 0, 0, 0, 0, 0, 1, 1, 0, 1, 1, 1, 0, 0, 0, 1, 0,\n",
       "       1, 0, 0, 0, 0, 0, 1, 0, 0, 1, 0, 0, 1, 0, 1, 1, 0, 0, 1, 1, 0, 0, 0,\n",
       "       1, 1, 1, 1, 0, 1, 1, 0, 0, 0, 1, 0, 1, 0, 0, 1, 0, 1])"
      ]
     },
     "execution_count": 9,
     "metadata": {},
     "output_type": "execute_result"
    }
   ],
   "source": [
    "y"
   ]
  },
  {
   "cell_type": "code",
   "execution_count": 10,
   "metadata": {
    "collapsed": false
   },
   "outputs": [],
   "source": [
    "wy = ps.lag_spatial(w,y)"
   ]
  },
  {
   "cell_type": "code",
   "execution_count": 11,
   "metadata": {
    "collapsed": false
   },
   "outputs": [
    {
     "data": {
      "text/plain": [
       "array([ 0.,  2.,  1.,  2.,  4.,  2.,  3.,  1.,  3.,  4.,  3.,  3.,  4.,\n",
       "        3.,  5.,  1.,  1.,  1.,  1.,  1.,  4.,  3.,  5.,  1.,  3.,  3.,\n",
       "        2.,  1.,  4.,  3.,  5.,  2.,  1.,  3.,  3.,  1.,  3.,  3.,  4.,\n",
       "        3.,  4.,  4.,  4.,  4.,  4.,  4.,  3.,  2.,  3.,  5.,  5.,  3.,\n",
       "        2.,  3.,  4.,  3.,  2.,  4.,  2.,  3.,  3.,  1.,  2.,  0.])"
      ]
     },
     "execution_count": 11,
     "metadata": {},
     "output_type": "execute_result"
    }
   ],
   "source": [
    "wy"
   ]
  },
  {
   "cell_type": "markdown",
   "metadata": {},
   "source": [
    "## Rules ##\n",
    "\n",
    "   1. A cell that is currently alive and that has two **or** three live neighbors stays alive\n",
    "   2. A cell that is currently dead with **exactly** three live neighbors comes alive \n",
    "   3. All other cells remain dead, or die due to loneliness (less than 2 neighbors) or overcrowding (more than 3 neighbors)"
   ]
  },
  {
   "cell_type": "markdown",
   "metadata": {},
   "source": [
    "Rule 1: find live cells and count their neighbors"
   ]
  },
  {
   "cell_type": "code",
   "execution_count": 12,
   "metadata": {
    "collapsed": false
   },
   "outputs": [],
   "source": [
    "ywy = y*wy"
   ]
  },
  {
   "cell_type": "code",
   "execution_count": 13,
   "metadata": {
    "collapsed": false
   },
   "outputs": [],
   "source": [
    "lw23 = np.nonzero( (ywy==2) + (ywy==3) )"
   ]
  },
  {
   "cell_type": "code",
   "execution_count": 14,
   "metadata": {
    "collapsed": false
   },
   "outputs": [
    {
     "data": {
      "text/plain": [
       "(array([ 3,  5, 13, 21, 29, 37, 46, 47, 48, 51, 52, 56, 58]),)"
      ]
     },
     "execution_count": 14,
     "metadata": {},
     "output_type": "execute_result"
    }
   ],
   "source": [
    "lw23"
   ]
  },
  {
   "cell_type": "markdown",
   "metadata": {},
   "source": [
    "Rule 2: find dead cells with exactly 3 neighbors"
   ]
  },
  {
   "cell_type": "code",
   "execution_count": 15,
   "metadata": {
    "collapsed": false
   },
   "outputs": [],
   "source": [
    "dw3 = (1-y) * wy"
   ]
  },
  {
   "cell_type": "code",
   "execution_count": 16,
   "metadata": {
    "collapsed": false
   },
   "outputs": [
    {
     "data": {
      "text/plain": [
       "(array([ 6,  8, 10, 11, 24, 25, 33, 34, 36, 39, 53, 55, 59, 60]),)"
      ]
     },
     "execution_count": 16,
     "metadata": {},
     "output_type": "execute_result"
    }
   ],
   "source": [
    "np.nonzero(dw3==3)"
   ]
  },
  {
   "cell_type": "markdown",
   "metadata": {},
   "source": [
    "Rules 1 and 2 give us the surviving cells"
   ]
  },
  {
   "cell_type": "code",
   "execution_count": 17,
   "metadata": {
    "collapsed": false
   },
   "outputs": [],
   "source": [
    "live_next = np.nonzero( (ywy==2) + (ywy==3) + (dw3==3) )"
   ]
  },
  {
   "cell_type": "code",
   "execution_count": 18,
   "metadata": {
    "collapsed": false
   },
   "outputs": [
    {
     "data": {
      "text/plain": [
       "(array([ 3,  5,  6,  8, 10, 11, 13, 21, 24, 25, 29, 33, 34, 36, 37, 39, 46,\n",
       "        47, 48, 51, 52, 53, 55, 56, 58, 59, 60]),)"
      ]
     },
     "execution_count": 18,
     "metadata": {},
     "output_type": "execute_result"
    }
   ],
   "source": [
    "live_next"
   ]
  },
  {
   "cell_type": "code",
   "execution_count": 19,
   "metadata": {
    "collapsed": false
   },
   "outputs": [
    {
     "data": {
      "text/plain": [
       "array([1, 1, 0, 0, 0, 0, 1, 1, 0, 0, 1, 0, 0, 0, 1, 0, 1, 1, 1, 1, 1, 0, 0,\n",
       "       1, 1, 0, 0])"
      ]
     },
     "execution_count": 19,
     "metadata": {},
     "output_type": "execute_result"
    }
   ],
   "source": [
    "y[live_next]"
   ]
  },
  {
   "cell_type": "markdown",
   "metadata": {},
   "source": [
    "So we see that in the future, some dead cells will becoming alive. But what about live cells now that die in the next period?\n",
    "\n",
    "We know that they will be dead next period. Allocate an array with zeros for the next period and assign the live cells. Everyone else is dead."
   ]
  },
  {
   "cell_type": "code",
   "execution_count": 20,
   "metadata": {
    "collapsed": false
   },
   "outputs": [],
   "source": [
    "y1 = np.zeros_like(y)"
   ]
  },
  {
   "cell_type": "code",
   "execution_count": 21,
   "metadata": {
    "collapsed": false
   },
   "outputs": [],
   "source": [
    "y1[live_next] = 1"
   ]
  },
  {
   "cell_type": "code",
   "execution_count": 22,
   "metadata": {
    "collapsed": false
   },
   "outputs": [
    {
     "data": {
      "text/plain": [
       "array([0, 0, 0, 1, 0, 1, 1, 0, 1, 0, 1, 1, 0, 1, 0, 0, 0, 0, 0, 0, 0, 1, 0,\n",
       "       0, 1, 1, 0, 0, 0, 1, 0, 0, 0, 1, 1, 0, 1, 1, 0, 1, 0, 0, 0, 0, 0, 0,\n",
       "       1, 1, 1, 0, 0, 1, 1, 1, 0, 1, 1, 0, 1, 1, 1, 0, 0, 0])"
      ]
     },
     "execution_count": 22,
     "metadata": {},
     "output_type": "execute_result"
    }
   ],
   "source": [
    "y1"
   ]
  },
  {
   "cell_type": "raw",
   "metadata": {},
   "source": [
    "We would then iterate these steps for future generations. \n",
    "\n",
    "Let's place the process inside a function for reuse later"
   ]
  },
  {
   "cell_type": "code",
   "execution_count": 23,
   "metadata": {
    "collapsed": false
   },
   "outputs": [],
   "source": [
    "def generation(y,w):\n",
    "    y1 = np.zeros_like(y)\n",
    "    wy = ps.lag_spatial(w,y)\n",
    "    ywy = y * wy\n",
    "    live_next = np.nonzero( ( ywy == 2 ) + ( ywy == 3 ) + ( ( 1-y ) * wy == 3 ) )\n",
    "    y1[live_next] = 1\n",
    "    return y1\n",
    "        "
   ]
  },
  {
   "cell_type": "raw",
   "metadata": {},
   "source": [
    "Try this out on some fresh data."
   ]
  },
  {
   "cell_type": "code",
   "execution_count": 24,
   "metadata": {
    "collapsed": false
   },
   "outputs": [],
   "source": [
    "y = bernoulli.rvs(0.45,size=w.n)"
   ]
  },
  {
   "cell_type": "code",
   "execution_count": 25,
   "metadata": {
    "collapsed": false
   },
   "outputs": [],
   "source": [
    "y1 = generation(y,w)"
   ]
  },
  {
   "cell_type": "code",
   "execution_count": 26,
   "metadata": {
    "collapsed": false
   },
   "outputs": [
    {
     "data": {
      "text/plain": [
       "array([0, 1, 0, 0, 0, 0, 1, 0, 1, 0, 0, 0, 1, 1, 0, 1, 1, 0, 1, 1, 0, 0, 1,\n",
       "       1, 1, 0, 0, 1, 0, 1, 1, 0, 0, 1, 0, 0, 0, 1, 0, 0, 0, 0, 0, 1, 1, 0,\n",
       "       0, 0, 0, 1, 0, 0, 0, 0, 0, 0, 0, 1, 0, 0, 1, 0, 0, 0])"
      ]
     },
     "execution_count": 26,
     "metadata": {},
     "output_type": "execute_result"
    }
   ],
   "source": [
    "y1"
   ]
  },
  {
   "cell_type": "code",
   "execution_count": 27,
   "metadata": {
    "collapsed": false
   },
   "outputs": [
    {
     "data": {
      "text/plain": [
       "array([1, 0, 1, 0, 0, 1, 0, 1, 1, 0, 0, 0, 1, 0, 0, 1, 1, 1, 1, 1, 0, 0, 1,\n",
       "       0, 1, 0, 0, 1, 0, 1, 1, 0, 1, 0, 1, 0, 0, 1, 0, 0, 0, 0, 0, 0, 0, 1,\n",
       "       0, 0, 0, 1, 1, 1, 0, 0, 0, 0, 0, 1, 1, 1, 1, 0, 0, 1])"
      ]
     },
     "execution_count": 27,
     "metadata": {},
     "output_type": "execute_result"
    }
   ],
   "source": [
    "y"
   ]
  },
  {
   "cell_type": "code",
   "execution_count": 28,
   "metadata": {
    "collapsed": false
   },
   "outputs": [],
   "source": [
    "y2 = generation(y1,w)"
   ]
  },
  {
   "cell_type": "code",
   "execution_count": 29,
   "metadata": {
    "collapsed": false
   },
   "outputs": [
    {
     "data": {
      "text/plain": [
       "array([0, 0, 0, 0, 0, 1, 1, 0, 1, 0, 1, 1, 1, 1, 0, 1, 1, 0, 1, 1, 0, 0, 0,\n",
       "       1, 1, 0, 0, 1, 0, 1, 0, 1, 0, 0, 1, 1, 0, 1, 1, 0, 0, 0, 1, 0, 1, 0,\n",
       "       0, 0, 0, 0, 1, 1, 1, 0, 0, 0, 0, 0, 0, 0, 0, 0, 0, 0])"
      ]
     },
     "execution_count": 29,
     "metadata": {},
     "output_type": "execute_result"
    }
   ],
   "source": [
    "y2"
   ]
  },
  {
   "cell_type": "markdown",
   "metadata": {},
   "source": [
    "One interesting initial pattern is the so called R-pentomino.\n",
    "\n",
    "We will create one and then run a simulation to see how the solutions evolve."
   ]
  },
  {
   "cell_type": "code",
   "execution_count": 30,
   "metadata": {
    "collapsed": false
   },
   "outputs": [
    {
     "name": "stdout",
     "output_type": "stream",
     "text": [
      "0 5.0 6.0\n",
      "1 6.0 7.0\n",
      "2 7.0 9.0\n",
      "3 9.0 8.0\n",
      "4 8.0 9.0\n",
      "5 9.0 12.0\n",
      "6 12.0 11.0\n",
      "7 11.0 18.0\n",
      "8 18.0 11.0\n",
      "9 11.0 11.0\n",
      "10 11.0 10.0\n",
      "11 10.0 13.0\n",
      "12 13.0 16.0\n",
      "13 16.0 19.0\n",
      "14 19.0 19.0\n",
      "15 19.0 23.0\n",
      "16 23.0 25.0\n",
      "17 25.0 35.0\n",
      "18 35.0 25.0\n",
      "19 25.0 32.0\n",
      "20 32.0 27.0\n",
      "21 27.0 37.0\n",
      "22 37.0 30.0\n",
      "23 30.0 46.0\n",
      "24 46.0 39.0\n",
      "25 39.0 45.0\n",
      "26 45.0 30.0\n",
      "27 30.0 31.0\n",
      "28 31.0 29.0\n",
      "29 29.0 27.0\n",
      "30 27.0 32.0\n",
      "31 32.0 32.0\n",
      "32 32.0 39.0\n",
      "33 39.0 34.0\n",
      "34 34.0 29.0\n",
      "35 29.0 34.0\n",
      "36 34.0 31.0\n",
      "37 31.0 34.0\n",
      "38 34.0 36.0\n",
      "39 36.0 33.0\n",
      "40 33.0 31.0\n",
      "41 31.0 29.0\n",
      "42 29.0 34.0\n",
      "43 34.0 31.0\n",
      "44 31.0 42.0\n",
      "45 42.0 37.0\n",
      "46 37.0 36.0\n",
      "47 36.0 45.0\n",
      "48 45.0 48.0\n",
      "49 48.0 64.0\n",
      "50 64.0 45.0\n",
      "51 45.0 60.0\n",
      "52 60.0 50.0\n",
      "53 50.0 67.0\n",
      "54 67.0 58.0\n",
      "55 58.0 66.0\n",
      "56 66.0 68.0\n",
      "57 68.0 72.0\n",
      "58 72.0 72.0\n",
      "59 72.0 79.0\n",
      "60 79.0 75.0\n",
      "61 75.0 80.0\n",
      "62 80.0 67.0\n",
      "63 67.0 69.0\n",
      "64 69.0 73.0\n",
      "65 73.0 65.0\n",
      "66 65.0 56.0\n",
      "67 56.0 61.0\n",
      "68 61.0 51.0\n",
      "69 51.0 52.0\n",
      "70 52.0 54.0\n",
      "71 54.0 57.0\n",
      "72 57.0 58.0\n",
      "73 58.0 55.0\n",
      "74 55.0 59.0\n",
      "75 59.0 55.0\n",
      "76 55.0 57.0\n",
      "77 57.0 63.0\n",
      "78 63.0 59.0\n",
      "79 59.0 51.0\n",
      "80 51.0 54.0\n",
      "81 54.0 58.0\n",
      "82 58.0 58.0\n",
      "83 58.0 69.0\n",
      "84 69.0 57.0\n",
      "85 57.0 67.0\n",
      "86 67.0 71.0\n",
      "87 71.0 63.0\n",
      "88 63.0 71.0\n",
      "89 71.0 72.0\n",
      "90 72.0 65.0\n",
      "91 65.0 78.0\n",
      "92 78.0 67.0\n",
      "93 67.0 69.0\n",
      "94 69.0 66.0\n",
      "95 66.0 62.0\n",
      "96 62.0 69.0\n",
      "97 69.0 69.0\n",
      "98 69.0 72.0\n",
      "99 72.0 78.0\n",
      "100 78.0 81.0\n",
      "101 81.0 77.0\n",
      "102 77.0 75.0\n",
      "103 75.0 83.0\n",
      "104 83.0 77.0\n",
      "105 77.0 96.0\n",
      "106 96.0 89.0\n",
      "107 89.0 104.0\n",
      "108 104.0 91.0\n",
      "109 91.0 93.0\n",
      "110 93.0 80.0\n",
      "111 80.0 89.0\n",
      "112 89.0 95.0\n",
      "113 95.0 82.0\n",
      "114 82.0 90.0\n",
      "115 90.0 85.0\n",
      "116 85.0 85.0\n",
      "117 85.0 89.0\n",
      "118 89.0 90.0\n",
      "119 90.0 96.0\n",
      "120 96.0 88.0\n",
      "121 88.0 86.0\n",
      "122 86.0 106.0\n",
      "123 106.0 91.0\n",
      "124 91.0 104.0\n",
      "125 104.0 91.0\n",
      "126 91.0 101.0\n",
      "127 101.0 87.0\n",
      "128 87.0 96.0\n",
      "129 96.0 89.0\n",
      "130 89.0 90.0\n",
      "131 90.0 85.0\n",
      "132 85.0 101.0\n",
      "133 101.0 89.0\n",
      "134 89.0 105.0\n",
      "135 105.0 90.0\n",
      "136 90.0 95.0\n",
      "137 95.0 95.0\n",
      "138 95.0 103.0\n",
      "139 103.0 110.0\n",
      "140 110.0 100.0\n",
      "141 100.0 110.0\n",
      "142 110.0 114.0\n",
      "143 114.0 118.0\n",
      "144 118.0 118.0\n",
      "145 118.0 108.0\n",
      "146 108.0 104.0\n",
      "147 104.0 124.0\n",
      "148 124.0 110.0\n",
      "149 110.0 111.0\n",
      "150 111.0 102.0\n",
      "151 102.0 102.0\n",
      "152 102.0 117.0\n",
      "153 117.0 99.0\n",
      "154 99.0 107.0\n",
      "155 107.0 109.0\n",
      "156 109.0 126.0\n",
      "157 126.0 116.0\n",
      "158 116.0 125.0\n",
      "159 125.0 120.0\n",
      "160 120.0 135.0\n",
      "161 135.0 136.0\n",
      "162 136.0 143.0\n",
      "163 143.0 138.0\n",
      "164 138.0 149.0\n",
      "165 149.0 154.0\n",
      "166 154.0 169.0\n",
      "167 169.0 160.0\n",
      "168 160.0 169.0\n",
      "169 169.0 149.0\n",
      "170 149.0 167.0\n",
      "171 167.0 135.0\n",
      "172 135.0 157.0\n",
      "173 157.0 148.0\n",
      "174 148.0 157.0\n",
      "175 157.0 160.0\n",
      "176 160.0 162.0\n",
      "177 162.0 163.0\n",
      "178 163.0 142.0\n",
      "179 142.0 156.0\n",
      "180 156.0 152.0\n",
      "181 152.0 157.0\n",
      "182 157.0 152.0\n",
      "183 152.0 144.0\n",
      "184 144.0 148.0\n",
      "185 148.0 152.0\n",
      "186 152.0 156.0\n",
      "187 156.0 151.0\n",
      "188 151.0 156.0\n",
      "189 156.0 144.0\n",
      "190 144.0 135.0\n",
      "191 135.0 141.0\n",
      "192 141.0 145.0\n",
      "193 145.0 146.0\n",
      "194 146.0 162.0\n",
      "195 162.0 148.0\n",
      "196 148.0 155.0\n",
      "197 155.0 133.0\n",
      "198 133.0 169.0\n",
      "199 169.0 140.0\n",
      "200 140.0 146.0\n",
      "201 146.0 142.0\n",
      "202 142.0 122.0\n",
      "203 122.0 124.0\n",
      "204 124.0 119.0\n",
      "205 119.0 130.0\n",
      "206 130.0 127.0\n",
      "207 127.0 129.0\n",
      "208 129.0 113.0\n",
      "209 113.0 106.0\n",
      "210 106.0 110.0\n",
      "211 110.0 108.0\n",
      "212 108.0 109.0\n",
      "213 109.0 112.0\n",
      "214 112.0 120.0\n",
      "215 120.0 99.0\n",
      "216 99.0 112.0\n",
      "217 112.0 100.0\n",
      "218 100.0 107.0\n",
      "219 107.0 102.0\n",
      "220 102.0 104.0\n",
      "221 104.0 102.0\n",
      "222 102.0 116.0\n",
      "223 116.0 88.0\n",
      "224 88.0 89.0\n",
      "225 89.0 93.0\n",
      "226 93.0 95.0\n",
      "227 95.0 94.0\n",
      "228 94.0 92.0\n",
      "229 92.0 98.0\n",
      "230 98.0 83.0\n",
      "231 83.0 94.0\n",
      "232 94.0 74.0\n",
      "233 74.0 77.0\n",
      "234 77.0 75.0\n",
      "235 75.0 79.0\n",
      "236 79.0 82.0\n",
      "237 82.0 74.0\n",
      "238 74.0 86.0\n",
      "239 86.0 67.0\n",
      "240 67.0 67.0\n",
      "241 67.0 59.0\n",
      "242 59.0 61.0\n",
      "243 61.0 65.0\n",
      "244 65.0 62.0\n",
      "245 62.0 68.0\n",
      "246 68.0 64.0\n",
      "247 64.0 75.0\n",
      "248 75.0 70.0\n",
      "249 70.0 73.0\n",
      "250 73.0 69.0\n",
      "251 69.0 79.0\n",
      "252 79.0 67.0\n",
      "253 67.0 71.0\n",
      "254 71.0 66.0\n",
      "255 66.0 66.0\n",
      "256 66.0 58.0\n",
      "257 58.0 60.0\n",
      "258 60.0 57.0\n",
      "259 57.0 58.0\n",
      "260 58.0 63.0\n",
      "261 63.0 62.0\n",
      "262 62.0 73.0\n",
      "263 73.0 66.0\n",
      "264 66.0 78.0\n",
      "265 78.0 75.0\n",
      "266 75.0 73.0\n",
      "267 73.0 79.0\n",
      "268 79.0 84.0\n",
      "269 84.0 93.0\n",
      "270 93.0 88.0\n",
      "271 88.0 86.0\n",
      "272 86.0 85.0\n",
      "273 85.0 84.0\n",
      "274 84.0 78.0\n",
      "275 78.0 71.0\n",
      "276 71.0 62.0\n",
      "277 62.0 63.0\n",
      "278 63.0 64.0\n",
      "279 64.0 72.0\n",
      "280 72.0 62.0\n",
      "281 62.0 55.0\n",
      "282 55.0 56.0\n",
      "283 56.0 54.0\n",
      "284 54.0 47.0\n",
      "285 47.0 48.0\n",
      "286 48.0 42.0\n",
      "287 42.0 42.0\n",
      "288 42.0 41.0\n",
      "289 41.0 39.0\n",
      "290 39.0 39.0\n",
      "291 39.0 39.0\n",
      "292 39.0 39.0\n",
      "293 39.0 39.0\n",
      "294 39.0 39.0\n",
      "295 39.0 39.0\n",
      "296 39.0 39.0\n",
      "297 39.0 39.0\n",
      "298 39.0 39.0\n",
      "299 39.0 39.0\n",
      "300 39.0 39.0\n",
      "301 39.0 39.0\n",
      "302 39.0 39.0\n",
      "303 39.0 39.0\n",
      "304 39.0 39.0\n",
      "305 39.0 39.0\n",
      "306 39.0 39.0\n",
      "307 39.0 39.0\n",
      "308 39.0 39.0\n",
      "309 39.0 39.0\n",
      "310 39.0 39.0\n",
      "311 39.0 39.0\n",
      "312 39.0 39.0\n",
      "313 39.0 39.0\n",
      "314 39.0 39.0\n",
      "315 39.0 39.0\n",
      "316 39.0 39.0\n",
      "317 39.0 39.0\n",
      "318 39.0 39.0\n",
      "319 39.0 39.0\n",
      "320 39.0 39.0\n",
      "321 39.0 39.0\n",
      "322 39.0 39.0\n",
      "323 39.0 39.0\n",
      "324 39.0 39.0\n",
      "325 39.0 39.0\n",
      "326 39.0 39.0\n",
      "327 39.0 39.0\n",
      "328 39.0 39.0\n",
      "329 39.0 39.0\n",
      "330 39.0 39.0\n",
      "331 39.0 39.0\n",
      "332 39.0 39.0\n",
      "333 39.0 39.0\n",
      "334 39.0 39.0\n",
      "335 39.0 39.0\n",
      "336 39.0 39.0\n",
      "337 39.0 39.0\n",
      "338 39.0 39.0\n",
      "339 39.0 39.0\n",
      "340 39.0 39.0\n",
      "341 39.0 39.0\n",
      "342 39.0 39.0\n",
      "343 39.0 39.0\n",
      "344 39.0 39.0\n",
      "345 39.0 39.0\n",
      "346 39.0 39.0\n",
      "347 39.0 39.0\n",
      "348 39.0 39.0\n",
      "349 39.0 39.0\n"
     ]
    }
   ],
   "source": [
    "ngen=350\n",
    "k = 50\n",
    "w = ps.lat2W(k, k, rook=False)\n",
    "#y = bernoulli.rvs(0.45,size=w.n)\n",
    "y = np.zeros((w.n,))\n",
    "#R-pentomino pattern\n",
    "kd2 = k/2\n",
    "top = kd2 +  k * ( kd2 - 1 )\n",
    "topr = top + 1\n",
    "midl = top + k -1\n",
    "mid = midl + 1\n",
    "bot = mid + k\n",
    "y[[top, topr, midl, mid, bot]] = 1\n",
    "results = {}\n",
    "for i in xrange(ngen):\n",
    "    y1 = generation(y,w)\n",
    "    results[i] = y1\n",
    "    if np.all(y == y1):\n",
    "        break\n",
    "    print i, y.sum(), y1.sum()\n",
    "    y = y1\n",
    "    "
   ]
  },
  {
   "cell_type": "raw",
   "metadata": {},
   "source": [
    "Create some graphs to look at both the the individual maps  from every 10th generation and then plot the aggregate population size by generation."
   ]
  },
  {
   "cell_type": "code",
   "execution_count": 31,
   "metadata": {
    "collapsed": false
   },
   "outputs": [
    {
     "data": {
      "image/png": "[encoded data removed]",
      "text/plain": [
       "<matplotlib.figure.Figure at 0x106e62ad0>"
      ]
     },
     "metadata": {},
     "output_type": "display_data"
    },
    {
     "data": {
      "image/png": "[encoded data removed]",
      "text/plain": [
       "<matplotlib.figure.Figure at 0x1078f6fd0>"
      ]
     },
     "metadata": {},
     "output_type": "display_data"
    },
    {
     "data": {
      "image/png": "[encoded data removed]",
      "text/plain": [
       "<matplotlib.figure.Figure at 0x107b01e10>"
      ]
     },
     "metadata": {},
     "output_type": "display_data"
    },
    {
     "data": {
      "image/png": "[encoded data removed]",
      "text/plain": [
       "<matplotlib.figure.Figure at 0x107d4a310>"
      ]
     },
     "metadata": {},
     "output_type": "display_data"
    },
    {
     "data": {
      "image/png": "[encoded data removed]",
      "text/plain": [
       "<matplotlib.figure.Figure at 0x107e67510>"
      ]
     },
     "metadata": {},
     "output_type": "display_data"
    },
    {
     "data": {
      "image/png": "[encoded data removed]",
      "text/plain": [
       "<matplotlib.figure.Figure at 0x107bdfe10>"
      ]
     },
     "metadata": {},
     "output_type": "display_data"
    },
    {
     "data": {
      "image/png": "[encoded data removed]",
      "text/plain": [
       "<matplotlib.figure.Figure at 0x1079e2310>"
      ]
     },
     "metadata": {},
     "output_type": "display_data"
    },
    {
     "data": {
      "image/png": "[encoded data removed]",
      "text/plain": [
       "<matplotlib.figure.Figure at 0x107bbe9d0>"
      ]
     },
     "metadata": {},
     "output_type": "display_data"
    },
    {
     "data": {
      "image/png": "[encoded data removed]",
      "text/plain": [
       "<matplotlib.figure.Figure at 0x107a85a90>"
      ]
     },
     "metadata": {},
     "output_type": "display_data"
    },
    {
     "data": {
      "image/png": "[encoded data removed]",
      "text/plain": [
       "<matplotlib.figure.Figure at 0x108076b50>"
      ]
     },
     "metadata": {},
     "output_type": "display_data"
    },
    {
     "data": {
      "image/png": "[encoded data removed]",
      "text/plain": [
       "<matplotlib.figure.Figure at 0x108162c10>"
      ]
     },
     "metadata": {},
     "output_type": "display_data"
    },
    {
     "data": {
      "image/png": "[encoded data removed]",
      "text/plain": [
       "<matplotlib.figure.Figure at 0x1082aecd0>"
      ]
     },
     "metadata": {},
     "output_type": "display_data"
    },
    {
     "data": {
      "image/png": "[encoded data removed]",
      "text/plain": [
       "<matplotlib.figure.Figure at 0x1083cdd90>"
      ]
     },
     "metadata": {},
     "output_type": "display_data"
    },
    {
     "data": {
      "image/png": "[encoded data removed]",
      "text/plain": [
       "<matplotlib.figure.Figure at 0x1084b9e50>"
      ]
     },
     "metadata": {},
     "output_type": "display_data"
    },
    {
     "data": {
      "image/png": "[encoded data removed]",
      "text/plain": [
       "<matplotlib.figure.Figure at 0x108709f10>"
      ]
     },
     "metadata": {},
     "output_type": "display_data"
    },
    {
     "data": {
      "image/png": "[encoded data removed]",
      "text/plain": [
       "<matplotlib.figure.Figure at 0x10913b050>"
      ]
     },
     "metadata": {},
     "output_type": "display_data"
    },
    {
     "data": {
      "image/png": "[encoded data removed]",
      "text/plain": [
       "<matplotlib.figure.Figure at 0x10862b210>"
      ]
     },
     "metadata": {},
     "output_type": "display_data"
    },
    {
     "data": {
      "image/png": "[encoded data removed]",
      "text/plain": [
       "<matplotlib.figure.Figure at 0x1082d0e50>"
      ]
     },
     "metadata": {},
     "output_type": "display_data"
    },
    {
     "data": {
      "image/png": "[encoded data removed]",
      "text/plain": [
       "<matplotlib.figure.Figure at 0x103d97ed0>"
      ]
     },
     "metadata": {},
     "output_type": "display_data"
    },
    {
     "data": {
      "image/png": "[encoded data removed]",
      "text/plain": [
       "<matplotlib.figure.Figure at 0x1079dea50>"
      ]
     },
     "metadata": {},
     "output_type": "display_data"
    },
    {
     "data": {
      "image/png": "[encoded data removed]",
      "text/plain": [
       "<matplotlib.figure.Figure at 0x108375b10>"
      ]
     },
     "metadata": {},
     "output_type": "display_data"
    },
    {
     "data": {
      "image/png": "[encoded data removed]",
      "text/plain": [
       "<matplotlib.figure.Figure at 0x1082c7bd0>"
      ]
     },
     "metadata": {},
     "output_type": "display_data"
    },
    {
     "data": {
      "image/png": "[encoded data removed]",
      "text/plain": [
       "<matplotlib.figure.Figure at 0x107d41450>"
      ]
     },
     "metadata": {},
     "output_type": "display_data"
    },
    {
     "data": {
      "image/png": "[encoded data removed]",
      "text/plain": [
       "<matplotlib.figure.Figure at 0x107b71d50>"
      ]
     },
     "metadata": {},
     "output_type": "display_data"
    },
    {
     "data": {
      "image/png": "[encoded data removed]",
      "text/plain": [
       "<matplotlib.figure.Figure at 0x10809ce10>"
      ]
     },
     "metadata": {},
     "output_type": "display_data"
    },
    {
     "data": {
      "image/png": "[encoded data removed]",
      "text/plain": [
       "<matplotlib.figure.Figure at 0x107a85bd0>"
      ]
     },
     "metadata": {},
     "output_type": "display_data"
    },
    {
     "data": {
      "image/png": "[encoded data removed]",
      "text/plain": [
       "<matplotlib.figure.Figure at 0x108102050>"
      ]
     },
     "metadata": {},
     "output_type": "display_data"
    },
    {
     "data": {
      "image/png": "[encoded data removed]",
      "text/plain": [
       "<matplotlib.figure.Figure at 0x10825f5d0>"
      ]
     },
     "metadata": {},
     "output_type": "display_data"
    },
    {
     "data": {
      "image/png": "[encoded data removed]",
      "text/plain": [
       "<matplotlib.figure.Figure at 0x107d53510>"
      ]
     },
     "metadata": {},
     "output_type": "display_data"
    },
    {
     "data": {
      "image/png": "[encoded data removed]",
      "text/plain": [
       "<matplotlib.figure.Figure at 0x107a42f50>"
      ]
     },
     "metadata": {},
     "output_type": "display_data"
    },
    {
     "data": {
      "image/png": "[encoded data removed]",
      "text/plain": [
       "<matplotlib.figure.Figure at 0x1079e5a10>"
      ]
     },
     "metadata": {},
     "output_type": "display_data"
    },
    {
     "data": {
      "image/png": "[encoded data removed]",
      "text/plain": [
       "<matplotlib.figure.Figure at 0x10832ead0>"
      ]
     },
     "metadata": {},
     "output_type": "display_data"
    },
    {
     "data": {
      "image/png": "[encoded data removed]",
      "text/plain": [
       "<matplotlib.figure.Figure at 0x1081aab90>"
      ]
     },
     "metadata": {},
     "output_type": "display_data"
    },
    {
     "data": {
      "image/png": "[encoded data removed]",
      "text/plain": [
       "<matplotlib.figure.Figure at 0x107e6bc50>"
      ]
     },
     "metadata": {},
     "output_type": "display_data"
    },
    {
     "data": {
      "image/png": "[encoded data removed]",
      "text/plain": [
       "<matplotlib.figure.Figure at 0x10836cd10>"
      ]
     },
     "metadata": {},
     "output_type": "display_data"
    }
   ],
   "source": [
    "generations = np.zeros((ngen,))\n",
    "living = np.zeros_like(generations)\n",
    "keys = results.keys()\n",
    "keys.sort()\n",
    "for i in keys:\n",
    "    generations[i] = i\n",
    "    living[i] = results[i].sum()\n",
    "    if not i%10:\n",
    "        ymat = results[i]\n",
    "        ymat.shape = (50,50)\n",
    "        imshow(ymat,cmap='Greys', interpolation='nearest')\n",
    "        title(\"Generation %d\"%i)\n",
    "        show()\n",
    "    "
   ]
  },
  {
   "cell_type": "code",
   "execution_count": 32,
   "metadata": {
    "collapsed": false
   },
   "outputs": [
    {
     "data": {
      "text/plain": [
       "(350,)"
      ]
     },
     "execution_count": 32,
     "metadata": {},
     "output_type": "execute_result"
    }
   ],
   "source": [
    "generations.shape"
   ]
  },
  {
   "cell_type": "code",
   "execution_count": 33,
   "metadata": {
    "collapsed": false
   },
   "outputs": [
    {
     "data": {
      "text/plain": [
       "[<matplotlib.lines.Line2D at 0x1087aeb90>]"
      ]
     },
     "execution_count": 33,
     "metadata": {},
     "output_type": "execute_result"
    },
    {
     "data": {
      "image/png": "[encoded data removed]",
      "text/plain": [
       "<matplotlib.figure.Figure at 0x106e62710>"
      ]
     },
     "metadata": {},
     "output_type": "display_data"
    }
   ],
   "source": [
    "plot(generations,living)"
   ]
  },
  {
   "cell_type": "code",
   "execution_count": 34,
   "metadata": {
    "collapsed": false
   },
   "outputs": [],
   "source": [
    "ymat = results[ngen-1]"
   ]
  },
  {
   "cell_type": "code",
   "execution_count": 35,
   "metadata": {
    "collapsed": false
   },
   "outputs": [
    {
     "data": {
      "text/plain": [
       "(2500,)"
      ]
     },
     "execution_count": 35,
     "metadata": {},
     "output_type": "execute_result"
    }
   ],
   "source": [
    "ymat.shape"
   ]
  },
  {
   "cell_type": "code",
   "execution_count": 36,
   "metadata": {
    "collapsed": false
   },
   "outputs": [],
   "source": [
    "ymat.shape=(50,50)"
   ]
  },
  {
   "cell_type": "code",
   "execution_count": 37,
   "metadata": {
    "collapsed": false
   },
   "outputs": [
    {
     "data": {
      "text/plain": [
       "<matplotlib.text.Text at 0x107e12510>"
      ]
     },
     "execution_count": 37,
     "metadata": {},
     "output_type": "execute_result"
    },
    {
     "data": {
      "image/png": "[encoded data removed]",
      "text/plain": [
       "<matplotlib.figure.Figure at 0x108151410>"
      ]
     },
     "metadata": {},
     "output_type": "display_data"
    }
   ],
   "source": [
    "imshow(ymat, cmap='Greys', interpolation='nearest')\n",
    "title(\"Last Generation\")"
   ]
  },
  {
   "cell_type": "code",
   "execution_count": 38,
   "metadata": {
    "collapsed": false
   },
   "outputs": [],
   "source": [
    "ymat = results[0]"
   ]
  },
  {
   "cell_type": "code",
   "execution_count": 39,
   "metadata": {
    "collapsed": false
   },
   "outputs": [],
   "source": [
    "ymat.shape = (50,50)"
   ]
  },
  {
   "cell_type": "code",
   "execution_count": 40,
   "metadata": {
    "collapsed": false
   },
   "outputs": [
    {
     "data": {
      "text/plain": [
       "<matplotlib.text.Text at 0x107bbce90>"
      ]
     },
     "execution_count": 40,
     "metadata": {},
     "output_type": "execute_result"
    },
    {
     "data": {
      "image/png": "[encoded data removed]",
      "text/plain": [
       "<matplotlib.figure.Figure at 0x1083ee2d0>"
      ]
     },
     "metadata": {},
     "output_type": "display_data"
    }
   ],
   "source": [
    "imshow(ymat, cmap='Greys', interpolation='nearest')\n",
    "title('First Generation: R-pentomino')"
   ]
  },
  {
   "cell_type": "code",
   "execution_count": 41,
   "metadata": {
    "collapsed": false
   },
   "outputs": [
    {
     "data": {
      "text/plain": [
       "<matplotlib.text.Text at 0x107e95690>"
      ]
     },
     "execution_count": 41,
     "metadata": {},
     "output_type": "execute_result"
    },
    {
     "data": {
      "image/png": "[encoded data removed]",
      "text/plain": [
       "<matplotlib.figure.Figure at 0x108393650>"
      ]
     },
     "metadata": {},
     "output_type": "display_data"
    }
   ],
   "source": [
    "ymat = results[ngen-2]\n",
    "ymat.shape=(50,50)\n",
    "imshow(ymat, cmap='Greys', interpolation='nearest')\n",
    "title(\"Penultimate Generation\")"
   ]
  },
  {
   "cell_type": "code",
   "execution_count": 42,
   "metadata": {
    "collapsed": false
   },
   "outputs": [
    {
     "data": {
      "text/plain": [
       "<matplotlib.text.Text at 0x108340790>"
      ]
     },
     "execution_count": 42,
     "metadata": {},
     "output_type": "execute_result"
    },
    {
     "data": {
      "image/png": "[encoded data removed]",
      "text/plain": [
       "<matplotlib.figure.Figure at 0x1081ddad0>"
      ]
     },
     "metadata": {},
     "output_type": "display_data"
    }
   ],
   "source": [
    "ymat = results[ngen-1]\n",
    "ymat.shape=(50,50)\n",
    "imshow(ymat, cmap='Greys', interpolation='nearest')\n",
    "title(\"Final Generation\")"
   ]
  },
  {
   "cell_type": "code",
   "execution_count": null,
   "metadata": {
    "collapsed": false
   },
   "outputs": [],
   "source": []
  }
 ],
 "metadata": {
  "kernelspec": {
   "display_name": "Python 2",
   "language": "python",
   "name": "python2"
  },
  "language_info": {
   "codemirror_mode": {
    "name": "ipython",
    "version": 2
   },
   "file_extension": ".py",
   "mimetype": "text/x-python",
   "name": "python",
   "nbconvert_exporter": "python",
   "pygments_lexer": "ipython2",
   "version": "2.7.10"
  }
 },
 "nbformat": 4,
 "nbformat_minor": 0
}
