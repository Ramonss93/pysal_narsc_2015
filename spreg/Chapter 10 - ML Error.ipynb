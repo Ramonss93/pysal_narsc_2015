{
 "cells": [
  {
   "cell_type": "markdown",
   "metadata": {},
   "source": [
    "This notebook contains the PySAL/spreg code for Chapter 10 - ML Error \n",
    "\n",
    "in\n",
    "Modern Spatial Econometrics in Practice: A Guide to GeoDa, GeoDaSpace and PySAL.\n",
    "\n",
    "by Luc Anselin and Sergio J. Rey\n",
    "\n",
    "(c) 2014 Luc Anselin and Sergio J. Rey, All Rights Reserved"
   ]
  },
  {
   "cell_type": "code",
   "execution_count": 1,
   "metadata": {
    "collapsed": false
   },
   "outputs": [],
   "source": [
    "__author__ = \"Luc Anselin luc.anselin@asu.edu\""
   ]
  },
  {
   "cell_type": "markdown",
   "metadata": {},
   "source": [
    "##Basic Regression Setup##"
   ]
  },
  {
   "cell_type": "markdown",
   "metadata": {},
   "source": [
    "###Model Specification###"
   ]
  },
  {
   "cell_type": "markdown",
   "metadata": {},
   "source": [
    "**Creating arrays for y and x for south.dbf example data set**"
   ]
  },
  {
   "cell_type": "markdown",
   "metadata": {},
   "source": [
    "Preliminaries, import **numpy** and **pysal**"
   ]
  },
  {
   "cell_type": "code",
   "execution_count": 1,
   "metadata": {
    "collapsed": false
   },
   "outputs": [
    {
     "name": "stdout",
     "output_type": "stream",
     "text": [
      "Populating the interactive namespace from numpy and matplotlib\n"
     ]
    }
   ],
   "source": [
    "%pylab inline"
   ]
  },
  {
   "cell_type": "code",
   "execution_count": 2,
   "metadata": {
    "collapsed": false
   },
   "outputs": [],
   "source": [
    "import numpy as np\n",
    "import pysal"
   ]
  },
  {
   "cell_type": "markdown",
   "metadata": {},
   "source": [
    "Basic Model"
   ]
  },
  {
   "cell_type": "code",
   "execution_count": 3,
   "metadata": {
    "collapsed": false
   },
   "outputs": [],
   "source": [
    "db = pysal.open(pysal.examples.get_path('south.dbf'),'r')\n",
    "y_name = \"HR90\"\n",
    "y = np.array([db.by_col(y_name)]).T\n",
    "x_names = [\"RD90\",\"PS90\",\"UE90\",\"DV90\"]\n",
    "x = np.array([db.by_col(var) for var in x_names]).T"
   ]
  },
  {
   "cell_type": "markdown",
   "metadata": {},
   "source": [
    "**Spatial Weights**"
   ]
  },
  {
   "cell_type": "markdown",
   "metadata": {},
   "source": [
    "Reading in the spatial weights"
   ]
  },
  {
   "cell_type": "code",
   "execution_count": 4,
   "metadata": {
    "collapsed": false
   },
   "outputs": [],
   "source": [
    "galw = pysal.open(pysal.examples.get_path(\"south_q.gal\"),'r')\n",
    "w = galw.read()\n",
    "galw.close\n",
    "w.transform = 'r'"
   ]
  },
  {
   "cell_type": "markdown",
   "metadata": {},
   "source": [
    "Alternatively, creating from scratch"
   ]
  },
  {
   "cell_type": "code",
   "execution_count": 5,
   "metadata": {
    "collapsed": false
   },
   "outputs": [],
   "source": [
    "w = pysal.queen_from_shapefile(pysal.examples.get_path(\"south.shp\"),idVariable=\"FIPSNO\")\n",
    "w.transform = 'r'"
   ]
  },
  {
   "cell_type": "markdown",
   "metadata": {},
   "source": [
    "##ML Error - Method Full##"
   ]
  },
  {
   "cell_type": "code",
   "execution_count": 10,
   "metadata": {
    "collapsed": false
   },
   "outputs": [],
   "source": [
    "reg1 = pysal.spreg.ML_Error(y,x,w,name_y=y_name,name_x=x_names,name_w = \"south_q\",name_ds = \"south\")"
   ]
  },
  {
   "cell_type": "markdown",
   "metadata": {},
   "source": [
    "Contents of the ML_Error object"
   ]
  },
  {
   "cell_type": "code",
   "execution_count": 11,
   "metadata": {
    "collapsed": false
   },
   "outputs": [
    {
     "data": {
      "text/plain": [
       "['__doc__',\n",
       " '__init__',\n",
       " '__module__',\n",
       " '__summary',\n",
       " '_cache',\n",
       " 'aic',\n",
       " 'betas',\n",
       " 'e_filtered',\n",
       " 'epsilon',\n",
       " 'get_x_lag',\n",
       " 'k',\n",
       " 'lam',\n",
       " 'logll',\n",
       " 'mean_y',\n",
       " 'method',\n",
       " 'n',\n",
       " 'name_ds',\n",
       " 'name_w',\n",
       " 'name_x',\n",
       " 'name_y',\n",
       " 'pr2',\n",
       " 'predy',\n",
       " 'schwarz',\n",
       " 'sig2',\n",
       " 'sig2n',\n",
       " 'sig2n_k',\n",
       " 'std_err',\n",
       " 'std_y',\n",
       " 'summary',\n",
       " 'title',\n",
       " 'u',\n",
       " 'utu',\n",
       " 'vm',\n",
       " 'vm1',\n",
       " 'x',\n",
       " 'y',\n",
       " 'z_stat']"
      ]
     },
     "execution_count": 11,
     "metadata": {},
     "output_type": "execute_result"
    }
   ],
   "source": [
    "dir(reg1)"
   ]
  },
  {
   "cell_type": "markdown",
   "metadata": {},
   "source": [
    "Regression coefficients, with lambda as last one"
   ]
  },
  {
   "cell_type": "code",
   "execution_count": 12,
   "metadata": {
    "collapsed": false
   },
   "outputs": [
    {
     "data": {
      "text/plain": [
       "array([[ 6.14922463],\n",
       "       [ 4.40242011],\n",
       "       [ 1.77837122],\n",
       "       [-0.3780731 ],\n",
       "       [ 0.48578576],\n",
       "       [ 0.29907787]])"
      ]
     },
     "execution_count": 12,
     "metadata": {},
     "output_type": "execute_result"
    }
   ],
   "source": [
    "reg1.betas"
   ]
  },
  {
   "cell_type": "markdown",
   "metadata": {},
   "source": [
    "Lambda extracted"
   ]
  },
  {
   "cell_type": "code",
   "execution_count": 13,
   "metadata": {
    "collapsed": false
   },
   "outputs": [
    {
     "data": {
      "text/plain": [
       "0.29907786543300452"
      ]
     },
     "execution_count": 13,
     "metadata": {},
     "output_type": "execute_result"
    }
   ],
   "source": [
    "reg1.betas[-1][0]"
   ]
  },
  {
   "cell_type": "markdown",
   "metadata": {},
   "source": [
    "Lambda explicitly"
   ]
  },
  {
   "cell_type": "code",
   "execution_count": 14,
   "metadata": {
    "collapsed": false
   },
   "outputs": [
    {
     "data": {
      "text/plain": [
       "0.29907786543300452"
      ]
     },
     "execution_count": 14,
     "metadata": {},
     "output_type": "execute_result"
    }
   ],
   "source": [
    "reg1.lam"
   ]
  },
  {
   "cell_type": "markdown",
   "metadata": {},
   "source": [
    "Full listing"
   ]
  },
  {
   "cell_type": "code",
   "execution_count": 15,
   "metadata": {
    "collapsed": false
   },
   "outputs": [
    {
     "name": "stdout",
     "output_type": "stream",
     "text": [
      "REGRESSION\n",
      "----------\n",
      "SUMMARY OF OUTPUT: MAXIMUM LIKELIHOOD SPATIAL ERROR (METHOD = FULL)\n",
      "-------------------------------------------------------------------\n",
      "Data set            :       south\n",
      "Weights matrix      :     south_q\n",
      "Dependent Variable  :        HR90                Number of Observations:        1412\n",
      "Mean dependent var  :      9.5493                Number of Variables   :           5\n",
      "S.D. dependent var  :      7.0389                Degrees of Freedom    :        1407\n",
      "Pseudo R-squared    :      0.3058\n",
      "Sigma-square ML     :      32.407                Log likelihood        :   -4471.407\n",
      "S.E of regression   :       5.693                Akaike info criterion :    8952.814\n",
      "                                                 Schwarz criterion     :    8979.078\n",
      "\n",
      "------------------------------------------------------------------------------------\n",
      "            Variable     Coefficient       Std.Error     z-Statistic     Probability\n",
      "------------------------------------------------------------------------------------\n",
      "            CONSTANT       6.1492246       1.0318747       5.9592748       0.0000000\n",
      "                DV90       0.4857858       0.1217110       3.9913061       0.0000657\n",
      "                PS90       1.7783712       0.2131787       8.3421630       0.0000000\n",
      "                RD90       4.4024201       0.2355472      18.6901825       0.0000000\n",
      "                UE90      -0.3780731       0.0783853      -4.8232683       0.0000014\n",
      "              lambda       0.2990779       0.0378155       7.9088793       0.0000000\n",
      "------------------------------------------------------------------------------------\n",
      "================================ END OF REPORT =====================================\n"
     ]
    }
   ],
   "source": [
    "print reg1.summary"
   ]
  },
  {
   "cell_type": "markdown",
   "metadata": {},
   "source": [
    "##ML Error - Method Ord##"
   ]
  },
  {
   "cell_type": "code",
   "execution_count": 17,
   "metadata": {
    "collapsed": false
   },
   "outputs": [],
   "source": [
    "reg2 = pysal.spreg.ML_Error(y,x,w,method='ord',\\\n",
    "                                    name_y=y_name,name_x=x_names,name_w = \"south_q\",name_ds = \"south\")"
   ]
  },
  {
   "cell_type": "markdown",
   "metadata": {},
   "source": [
    "Full listing of results"
   ]
  },
  {
   "cell_type": "code",
   "execution_count": 18,
   "metadata": {
    "collapsed": false
   },
   "outputs": [
    {
     "name": "stdout",
     "output_type": "stream",
     "text": [
      "REGRESSION\n",
      "----------\n",
      "SUMMARY OF OUTPUT: MAXIMUM LIKELIHOOD SPATIAL ERROR (METHOD = ORD)\n",
      "------------------------------------------------------------------\n",
      "Data set            :       south\n",
      "Weights matrix      :     south_q\n",
      "Dependent Variable  :        HR90                Number of Observations:        1412\n",
      "Mean dependent var  :      9.5493                Number of Variables   :           5\n",
      "S.D. dependent var  :      7.0389                Degrees of Freedom    :        1407\n",
      "Pseudo R-squared    :      0.3058\n",
      "Sigma-square ML     :      32.407                Log likelihood        :   -4471.407\n",
      "S.E of regression   :       5.693                Akaike info criterion :    8952.814\n",
      "                                                 Schwarz criterion     :    8979.078\n",
      "\n",
      "------------------------------------------------------------------------------------\n",
      "            Variable     Coefficient       Std.Error     z-Statistic     Probability\n",
      "------------------------------------------------------------------------------------\n",
      "            CONSTANT       6.1492248       1.0318746       5.9592751       0.0000000\n",
      "                DV90       0.4857858       0.1217110       3.9913061       0.0000657\n",
      "                PS90       1.7783713       0.2131787       8.3421633       0.0000000\n",
      "                RD90       4.4024201       0.2355472      18.6901829       0.0000000\n",
      "                UE90      -0.3780731       0.0783853      -4.8232686       0.0000014\n",
      "              lambda       0.2990778       0.0378155       7.9088781       0.0000000\n",
      "------------------------------------------------------------------------------------\n",
      "================================ END OF REPORT =====================================\n"
     ]
    }
   ],
   "source": [
    "print reg2.summary"
   ]
  },
  {
   "cell_type": "code",
   "execution_count": null,
   "metadata": {
    "collapsed": true
   },
   "outputs": [],
   "source": []
  },
  {
   "cell_type": "code",
   "execution_count": null,
   "metadata": {
    "collapsed": true
   },
   "outputs": [],
   "source": []
  }
 ],
 "metadata": {
  "kernelspec": {
   "display_name": "Python 2",
   "language": "python",
   "name": "python2"
  },
  "language_info": {
   "codemirror_mode": {
    "name": "ipython",
    "version": 2
   },
   "file_extension": ".py",
   "mimetype": "text/x-python",
   "name": "python",
   "nbconvert_exporter": "python",
   "pygments_lexer": "ipython2",
   "version": "2.7.10"
  }
 },
 "nbformat": 4,
 "nbformat_minor": 0
}
