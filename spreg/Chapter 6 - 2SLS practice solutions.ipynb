{
 "cells": [
  {
   "cell_type": "markdown",
   "metadata": {},
   "source": [
    "##Solutions to Practice Example Chapter 6##"
   ]
  },
  {
   "cell_type": "code",
   "execution_count": 1,
   "metadata": {
    "collapsed": false
   },
   "outputs": [
    {
     "name": "stdout",
     "output_type": "stream",
     "text": [
      "Populating the interactive namespace from numpy and matplotlib\n"
     ]
    }
   ],
   "source": [
    "%pylab inline"
   ]
  },
  {
   "cell_type": "code",
   "execution_count": 2,
   "metadata": {
    "collapsed": false
   },
   "outputs": [],
   "source": [
    "import numpy as np\n",
    "import pysal"
   ]
  },
  {
   "cell_type": "code",
   "execution_count": 3,
   "metadata": {
    "collapsed": false
   },
   "outputs": [],
   "source": [
    "db = pysal.open('data/natregimes.dbf','r')"
   ]
  },
  {
   "cell_type": "code",
   "execution_count": 4,
   "metadata": {
    "collapsed": false
   },
   "outputs": [
    {
     "data": {
      "text/plain": [
       "3085"
      ]
     },
     "execution_count": 4,
     "metadata": {},
     "output_type": "execute_result"
    }
   ],
   "source": [
    "len(db)"
   ]
  },
  {
   "cell_type": "code",
   "execution_count": 5,
   "metadata": {
    "collapsed": false
   },
   "outputs": [
    {
     "data": {
      "text/plain": [
       "['REGIONS',\n",
       " 'NOSOUTH',\n",
       " 'POLY_ID',\n",
       " 'NAME',\n",
       " 'STATE_NAME',\n",
       " 'STATE_FIPS',\n",
       " 'CNTY_FIPS',\n",
       " 'FIPS',\n",
       " 'STFIPS',\n",
       " 'COFIPS',\n",
       " 'FIPSNO',\n",
       " 'SOUTH',\n",
       " 'HR60',\n",
       " 'HR70',\n",
       " 'HR80',\n",
       " 'HR90',\n",
       " 'HC60',\n",
       " 'HC70',\n",
       " 'HC80',\n",
       " 'HC90',\n",
       " 'PO60',\n",
       " 'PO70',\n",
       " 'PO80',\n",
       " 'PO90',\n",
       " 'RD60',\n",
       " 'RD70',\n",
       " 'RD80',\n",
       " 'RD90',\n",
       " 'PS60',\n",
       " 'PS70',\n",
       " 'PS80',\n",
       " 'PS90',\n",
       " 'UE60',\n",
       " 'UE70',\n",
       " 'UE80',\n",
       " 'UE90',\n",
       " 'DV60',\n",
       " 'DV70',\n",
       " 'DV80',\n",
       " 'DV90',\n",
       " 'MA60',\n",
       " 'MA70',\n",
       " 'MA80',\n",
       " 'MA90',\n",
       " 'POL60',\n",
       " 'POL70',\n",
       " 'POL80',\n",
       " 'POL90',\n",
       " 'DNL60',\n",
       " 'DNL70',\n",
       " 'DNL80',\n",
       " 'DNL90',\n",
       " 'MFIL59',\n",
       " 'MFIL69',\n",
       " 'MFIL79',\n",
       " 'MFIL89',\n",
       " 'FP59',\n",
       " 'FP69',\n",
       " 'FP79',\n",
       " 'FP89',\n",
       " 'BLK60',\n",
       " 'BLK70',\n",
       " 'BLK80',\n",
       " 'BLK90',\n",
       " 'GI59',\n",
       " 'GI69',\n",
       " 'GI79',\n",
       " 'GI89',\n",
       " 'FH60',\n",
       " 'FH70',\n",
       " 'FH80',\n",
       " 'FH90',\n",
       " 'West']"
      ]
     },
     "execution_count": 5,
     "metadata": {},
     "output_type": "execute_result"
    }
   ],
   "source": [
    "db.header"
   ]
  },
  {
   "cell_type": "code",
   "execution_count": 6,
   "metadata": {
    "collapsed": false
   },
   "outputs": [],
   "source": [
    "y_name = 'HR60'\n",
    "y = np.array([db.by_col(y_name)]).T"
   ]
  },
  {
   "cell_type": "code",
   "execution_count": 7,
   "metadata": {
    "collapsed": false
   },
   "outputs": [],
   "source": [
    "x_names = ['RD60','MA60','PS60']\n",
    "x = np.array([db.by_col(var) for var in x_names]).T"
   ]
  },
  {
   "cell_type": "code",
   "execution_count": 8,
   "metadata": {
    "collapsed": false
   },
   "outputs": [],
   "source": [
    "yend_names = ['UE60']\n",
    "yend = np.array([db.by_col(var) for var in yend_names]).T"
   ]
  },
  {
   "cell_type": "code",
   "execution_count": 9,
   "metadata": {
    "collapsed": false
   },
   "outputs": [],
   "source": [
    "q_names = ['FH60','FP59','GI59']\n",
    "q = np.array([db.by_col(var) for var in q_names]).T"
   ]
  },
  {
   "cell_type": "code",
   "execution_count": 10,
   "metadata": {
    "collapsed": false
   },
   "outputs": [],
   "source": [
    "w = pysal.knnW_from_shapefile('data/natregimes.shp',\n",
    "                                k=6,radius=pysal.cg.RADIUS_EARTH_MILES,idVariable='FIPSNO')"
   ]
  },
  {
   "cell_type": "code",
   "execution_count": 11,
   "metadata": {
    "collapsed": false
   },
   "outputs": [
    {
     "data": {
      "text/plain": [
       "3085"
      ]
     },
     "execution_count": 11,
     "metadata": {},
     "output_type": "execute_result"
    }
   ],
   "source": [
    "w.n"
   ]
  },
  {
   "cell_type": "code",
   "execution_count": 12,
   "metadata": {
    "collapsed": false
   },
   "outputs": [],
   "source": [
    "w.transform = 'r'"
   ]
  },
  {
   "cell_type": "code",
   "execution_count": 13,
   "metadata": {
    "collapsed": false
   },
   "outputs": [],
   "source": [
    "kw = pysal.adaptive_kernelW_from_shapefile('data/natregimes.shp',\n",
    "                                             k=12,function='quadratic',radius=pysal.cg.RADIUS_EARTH_MILES,\n",
    "                                             diagonal=True,idVariable='FIPSNO')"
   ]
  },
  {
   "cell_type": "code",
   "execution_count": 14,
   "metadata": {
    "collapsed": false
   },
   "outputs": [
    {
     "data": {
      "text/plain": [
       "3085"
      ]
     },
     "execution_count": 14,
     "metadata": {},
     "output_type": "execute_result"
    }
   ],
   "source": [
    "kw.n"
   ]
  },
  {
   "cell_type": "markdown",
   "metadata": {},
   "source": [
    "two stage least squares with White standard errors and diagnostics for spatial dependence"
   ]
  },
  {
   "cell_type": "code",
   "execution_count": 15,
   "metadata": {
    "collapsed": false
   },
   "outputs": [],
   "source": [
    "reg1 = pysal.spreg.TSLS(y,x,yend,q,w=w,robust='white',spat_diag=True,\n",
    "                       name_y=y_name,name_x=x_names,name_yend=yend_names,\n",
    "                       name_q=q_names,name_w='nat_k6',\n",
    "                       name_ds='natregimes.shp')"
   ]
  },
  {
   "cell_type": "code",
   "execution_count": 16,
   "metadata": {
    "collapsed": false
   },
   "outputs": [
    {
     "name": "stdout",
     "output_type": "stream",
     "text": [
      "REGRESSION\n",
      "----------\n",
      "SUMMARY OF OUTPUT: TWO STAGE LEAST SQUARES\n",
      "------------------------------------------\n",
      "Data set            :natregimes.shp\n",
      "Weights matrix      :      nat_k6\n",
      "Dependent Variable  :        HR60                Number of Observations:        3085\n",
      "Mean dependent var  :      4.5041                Number of Variables   :           5\n",
      "S.D. dependent var  :      5.6497                Degrees of Freedom    :        3080\n",
      "Pseudo R-squared    :      0.2044\n",
      "\n",
      "White Standard Errors\n",
      "------------------------------------------------------------------------------------\n",
      "            Variable     Coefficient       Std.Error     z-Statistic     Probability\n",
      "------------------------------------------------------------------------------------\n",
      "            CONSTANT      13.4510208       0.9883561      13.6094882       0.0000000\n",
      "                MA60      -0.2485547       0.0212910     -11.6741458       0.0000000\n",
      "                PS60       0.4393596       0.1330675       3.3017812       0.0009607\n",
      "                RD60       2.3711959       0.1093345      21.6875296       0.0000000\n",
      "                UE60      -0.3302298       0.1171311      -2.8193185       0.0048126\n",
      "------------------------------------------------------------------------------------\n",
      "Instrumented: UE60\n",
      "Instruments: FH60, FP59, GI59\n",
      "\n",
      "DIAGNOSTICS FOR SPATIAL DEPENDENCE\n",
      "TEST                           MI/DF       VALUE           PROB\n",
      "Anselin-Kelejian Test             1         277.956          0.0000\n",
      "================================ END OF REPORT =====================================\n"
     ]
    }
   ],
   "source": [
    "print reg1.summary"
   ]
  },
  {
   "cell_type": "markdown",
   "metadata": {},
   "source": [
    "two stage least squares with HAC standard errors and diagnostics for spatial dependence"
   ]
  },
  {
   "cell_type": "code",
   "execution_count": 17,
   "metadata": {
    "collapsed": false
   },
   "outputs": [],
   "source": [
    "reg2 = pysal.spreg.TSLS(y,x,yend,q,w=w,robust='hac',gwk=kw,spat_diag=True,\n",
    "                       name_y=y_name,name_x=x_names,name_yend=yend_names,\n",
    "                       name_q=q_names,name_w='nat_k6',name_gwk='nat_quadratic_12',\n",
    "                       name_ds='natregimes.shp')"
   ]
  },
  {
   "cell_type": "code",
   "execution_count": 18,
   "metadata": {
    "collapsed": false
   },
   "outputs": [
    {
     "name": "stdout",
     "output_type": "stream",
     "text": [
      "REGRESSION\n",
      "----------\n",
      "SUMMARY OF OUTPUT: TWO STAGE LEAST SQUARES\n",
      "------------------------------------------\n",
      "Data set            :natregimes.shp\n",
      "Weights matrix      :      nat_k6\n",
      "Dependent Variable  :        HR60                Number of Observations:        3085\n",
      "Mean dependent var  :      4.5041                Number of Variables   :           5\n",
      "S.D. dependent var  :      5.6497                Degrees of Freedom    :        3080\n",
      "Pseudo R-squared    :      0.2044\n",
      "\n",
      "HAC Standard Errors; Kernel Weights: nat_quadratic_12\n",
      "------------------------------------------------------------------------------------\n",
      "            Variable     Coefficient       Std.Error     z-Statistic     Probability\n",
      "------------------------------------------------------------------------------------\n",
      "            CONSTANT      13.4510208       1.1336621      11.8651063       0.0000000\n",
      "                MA60      -0.2485547       0.0244053     -10.1844645       0.0000000\n",
      "                PS60       0.4393596       0.1461997       3.0052022       0.0026540\n",
      "                RD60       2.3711959       0.1308052      18.1276895       0.0000000\n",
      "                UE60      -0.3302298       0.1395031      -2.3671862       0.0179239\n",
      "------------------------------------------------------------------------------------\n",
      "Instrumented: UE60\n",
      "Instruments: FH60, FP59, GI59\n",
      "\n",
      "DIAGNOSTICS FOR SPATIAL DEPENDENCE\n",
      "TEST                           MI/DF       VALUE           PROB\n",
      "Anselin-Kelejian Test             1         277.956          0.0000\n",
      "================================ END OF REPORT =====================================\n"
     ]
    }
   ],
   "source": [
    "print reg2.summary"
   ]
  },
  {
   "cell_type": "code",
   "execution_count": null,
   "metadata": {
    "collapsed": false
   },
   "outputs": [],
   "source": []
  },
  {
   "cell_type": "code",
   "execution_count": null,
   "metadata": {
    "collapsed": true
   },
   "outputs": [],
   "source": []
  }
 ],
 "metadata": {
  "kernelspec": {
   "display_name": "Python 2",
   "language": "python",
   "name": "python2"
  },
  "language_info": {
   "codemirror_mode": {
    "name": "ipython",
    "version": 2
   },
   "file_extension": ".py",
   "mimetype": "text/x-python",
   "name": "python",
   "nbconvert_exporter": "python",
   "pygments_lexer": "ipython2",
   "version": "2.7.10"
  }
 },
 "nbformat": 4,
 "nbformat_minor": 0
}
