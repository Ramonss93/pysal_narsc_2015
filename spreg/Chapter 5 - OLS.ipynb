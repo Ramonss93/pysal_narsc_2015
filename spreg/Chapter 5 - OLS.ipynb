{
 "cells": [
  {
   "cell_type": "markdown",
   "metadata": {},
   "source": [
    "This notebook contains the PySAL/spreg code for Chapter 5 - OLS \n",
    "\n",
    "in\n",
    "Modern Spatial Econometrics in Practice: A Guide to GeoDa, GeoDaSpace and PySAL.\n",
    "\n",
    "by Luc Anselin and Sergio J. Rey\n",
    "\n",
    "(c) 2014 Luc Anselin and Sergio J. Rey, All Rights Reserved"
   ]
  },
  {
   "cell_type": "code",
   "execution_count": 48,
   "metadata": {
    "collapsed": false
   },
   "outputs": [],
   "source": [
    "__author__ = \"Luc Anselin luc.anselin@asu.edu\""
   ]
  },
  {
   "cell_type": "markdown",
   "metadata": {},
   "source": [
    "## Basic Regression Setup##"
   ]
  },
  {
   "cell_type": "markdown",
   "metadata": {},
   "source": [
    "**Creating arrays for y and x using the Baltimore example**"
   ]
  },
  {
   "cell_type": "markdown",
   "metadata": {},
   "source": [
    "Preliminaries, importing **numpy** and **PySAL**"
   ]
  },
  {
   "cell_type": "code",
   "execution_count": 49,
   "metadata": {
    "collapsed": false
   },
   "outputs": [
    {
     "name": "stdout",
     "output_type": "stream",
     "text": [
      "Populating the interactive namespace from numpy and matplotlib\n"
     ]
    },
    {
     "name": "stderr",
     "output_type": "stream",
     "text": [
      "WARNING: pylab import has clobbered these variables: ['var']\n",
      "`%matplotlib` prevents importing * from pylab and numpy\n"
     ]
    }
   ],
   "source": [
    "%pylab inline"
   ]
  },
  {
   "cell_type": "code",
   "execution_count": 50,
   "metadata": {
    "collapsed": false
   },
   "outputs": [],
   "source": [
    "import numpy as np\n",
    "import pysal"
   ]
  },
  {
   "cell_type": "markdown",
   "metadata": {},
   "source": [
    "Loading the data set and creating the data object\n",
    "\n",
    "This assumes that the sample data sets are contained in the 'data' subdirectory of the current working directory"
   ]
  },
  {
   "cell_type": "code",
   "execution_count": 51,
   "metadata": {
    "collapsed": false
   },
   "outputs": [],
   "source": [
    "db = pysal.open('data/baltim.dbf','r')"
   ]
  },
  {
   "cell_type": "markdown",
   "metadata": {},
   "source": [
    "Quick check on the number of observations and the contents of the data set in the db object"
   ]
  },
  {
   "cell_type": "code",
   "execution_count": 52,
   "metadata": {
    "collapsed": false
   },
   "outputs": [
    {
     "data": {
      "text/plain": [
       "211"
      ]
     },
     "execution_count": 52,
     "metadata": {},
     "output_type": "execute_result"
    }
   ],
   "source": [
    "len(db)"
   ]
  },
  {
   "cell_type": "code",
   "execution_count": 53,
   "metadata": {
    "collapsed": false
   },
   "outputs": [
    {
     "data": {
      "text/plain": [
       "['STATION',\n",
       " 'PRICE',\n",
       " 'NROOM',\n",
       " 'DWELL',\n",
       " 'NBATH',\n",
       " 'PATIO',\n",
       " 'FIREPL',\n",
       " 'AC',\n",
       " 'BMENT',\n",
       " 'NSTOR',\n",
       " 'GAR',\n",
       " 'AGE',\n",
       " 'CITCOU',\n",
       " 'LOTSZ',\n",
       " 'SQFT',\n",
       " 'X',\n",
       " 'Y']"
      ]
     },
     "execution_count": 53,
     "metadata": {},
     "output_type": "execute_result"
    }
   ],
   "source": [
    "db.header"
   ]
  },
  {
   "cell_type": "markdown",
   "metadata": {},
   "source": [
    "**y** - dependent variable is PRICE"
   ]
  },
  {
   "cell_type": "code",
   "execution_count": 54,
   "metadata": {
    "collapsed": false
   },
   "outputs": [],
   "source": [
    "y_name = \"PRICE\""
   ]
  },
  {
   "cell_type": "markdown",
   "metadata": {},
   "source": [
    "Create the y array as a n by 1 column vector (hence the transpose **T**)"
   ]
  },
  {
   "cell_type": "code",
   "execution_count": 55,
   "metadata": {
    "collapsed": false
   },
   "outputs": [],
   "source": [
    "y = np.array([db.by_col(y_name)]).T"
   ]
  },
  {
   "cell_type": "markdown",
   "metadata": {},
   "source": [
    "Check on the dimensions"
   ]
  },
  {
   "cell_type": "code",
   "execution_count": 56,
   "metadata": {
    "collapsed": false
   },
   "outputs": [
    {
     "data": {
      "text/plain": [
       "(211, 1)"
      ]
     },
     "execution_count": 56,
     "metadata": {},
     "output_type": "execute_result"
    }
   ],
   "source": [
    "y.shape"
   ]
  },
  {
   "cell_type": "markdown",
   "metadata": {},
   "source": [
    "**x** - the explanatory variables\n",
    "\n",
    "First create a list with the variable names, then use a list comprehension to create the **x** array"
   ]
  },
  {
   "cell_type": "code",
   "execution_count": 57,
   "metadata": {
    "collapsed": false
   },
   "outputs": [],
   "source": [
    "x_names = ['NROOM','NBATH','PATIO','FIREPL','AC','GAR','AGE',\n",
    "           'LOTSZ','SQFT']\n",
    "x = np.array([db.by_col(var) for var in x_names]).T"
   ]
  },
  {
   "cell_type": "markdown",
   "metadata": {},
   "source": [
    "Check on dimensions"
   ]
  },
  {
   "cell_type": "code",
   "execution_count": 58,
   "metadata": {
    "collapsed": false
   },
   "outputs": [
    {
     "data": {
      "text/plain": [
       "(211, 9)"
      ]
     },
     "execution_count": 58,
     "metadata": {},
     "output_type": "execute_result"
    }
   ],
   "source": [
    "x.shape"
   ]
  },
  {
   "cell_type": "markdown",
   "metadata": {},
   "source": [
    "**Model weights** - needed for spatial diagnostics"
   ]
  },
  {
   "cell_type": "markdown",
   "metadata": {},
   "source": [
    "k nearest neighbor with k=4 constructed from baltim.shp, using STATION as the ID variable"
   ]
  },
  {
   "cell_type": "code",
   "execution_count": 59,
   "metadata": {
    "collapsed": false
   },
   "outputs": [],
   "source": [
    "w = pysal.knnW_from_shapefile('data/baltim.shp',\n",
    "                                k=4,idVariable='STATION')"
   ]
  },
  {
   "cell_type": "markdown",
   "metadata": {},
   "source": [
    "Quick check on dimension"
   ]
  },
  {
   "cell_type": "code",
   "execution_count": 60,
   "metadata": {
    "collapsed": false
   },
   "outputs": [
    {
     "data": {
      "text/plain": [
       "211"
      ]
     },
     "execution_count": 60,
     "metadata": {},
     "output_type": "execute_result"
    }
   ],
   "source": [
    "w.n"
   ]
  },
  {
   "cell_type": "markdown",
   "metadata": {},
   "source": [
    "row-standardize - is **always** necessary"
   ]
  },
  {
   "cell_type": "code",
   "execution_count": 61,
   "metadata": {
    "collapsed": false
   },
   "outputs": [],
   "source": [
    "w.transform = 'r'"
   ]
  },
  {
   "cell_type": "markdown",
   "metadata": {},
   "source": [
    "Quick check on the values of the weights"
   ]
  },
  {
   "cell_type": "code",
   "execution_count": 62,
   "metadata": {
    "collapsed": false
   },
   "outputs": [
    {
     "data": {
      "text/plain": [
       "[0.25, 0.25, 0.25, 0.25]"
      ]
     },
     "execution_count": 62,
     "metadata": {},
     "output_type": "execute_result"
    }
   ],
   "source": [
    "w.weights[1]"
   ]
  },
  {
   "cell_type": "markdown",
   "metadata": {},
   "source": [
    "**Kernel weights** - needed for HAC standard error option"
   ]
  },
  {
   "cell_type": "markdown",
   "metadata": {},
   "source": [
    "triangular adaptive bandwidth kernel with k=12, constructed from baltim shape file"
   ]
  },
  {
   "cell_type": "code",
   "execution_count": 63,
   "metadata": {
    "collapsed": false
   },
   "outputs": [],
   "source": [
    "kw = pysal.adaptive_kernelW_from_shapefile('data/baltim.shp',\n",
    "                                             k=12,diagonal=True,idVariable='STATION')"
   ]
  },
  {
   "cell_type": "markdown",
   "metadata": {},
   "source": [
    "Check on dimension and actual weights - Note how diagonal element = 1, not 0\n",
    "\n",
    "This is the case for a triangular kernel function, whether or not the **diagonal** option is set to True or not. Otherwise\n",
    "the latter **must** be set to **True** (see also the example in Chapter 6)."
   ]
  },
  {
   "cell_type": "code",
   "execution_count": 64,
   "metadata": {
    "collapsed": false
   },
   "outputs": [
    {
     "data": {
      "text/plain": [
       "211"
      ]
     },
     "execution_count": 64,
     "metadata": {},
     "output_type": "execute_result"
    }
   ],
   "source": [
    "kw.n"
   ]
  },
  {
   "cell_type": "code",
   "execution_count": 65,
   "metadata": {
    "collapsed": false
   },
   "outputs": [
    {
     "data": {
      "text/plain": [
       "[1.0,\n",
       " 0.4849212978701576,\n",
       " 0.3611234988877102,\n",
       " 0.33567595079889523,\n",
       " 0.31302206649524533,\n",
       " 0.2768409033403173,\n",
       " 0.27156871375844516,\n",
       " 0.14137042299357871,\n",
       " 0.1179222999771653,\n",
       " 0.08526805755421585,\n",
       " 0.0564397505258174,\n",
       " 0.007682671413889897,\n",
       " 9.99999900663795e-08]"
      ]
     },
     "execution_count": 65,
     "metadata": {},
     "output_type": "execute_result"
    }
   ],
   "source": [
    "kw.weights[1]"
   ]
  },
  {
   "cell_type": "markdown",
   "metadata": {},
   "source": [
    "##Basic OLS##"
   ]
  },
  {
   "cell_type": "markdown",
   "metadata": {},
   "source": [
    "**Default settings, no variable names**"
   ]
  },
  {
   "cell_type": "code",
   "execution_count": 66,
   "metadata": {
    "collapsed": false
   },
   "outputs": [],
   "source": [
    "ols1 = pysal.spreg.OLS(y,x)"
   ]
  },
  {
   "cell_type": "markdown",
   "metadata": {},
   "source": [
    "the regression coefficiens, in the order of the columns of **x**"
   ]
  },
  {
   "cell_type": "code",
   "execution_count": 67,
   "metadata": {
    "collapsed": false
   },
   "outputs": [
    {
     "data": {
      "text/plain": [
       "<pysal.spreg.ols.OLS instance at 0x106dabe60>"
      ]
     },
     "execution_count": 67,
     "metadata": {},
     "output_type": "execute_result"
    }
   ],
   "source": [
    "ols1"
   ]
  },
  {
   "cell_type": "code",
   "execution_count": 68,
   "metadata": {
    "collapsed": false
   },
   "outputs": [
    {
     "data": {
      "text/plain": [
       "['__doc__',\n",
       " '__init__',\n",
       " '__module__',\n",
       " '__summary',\n",
       " '_cache',\n",
       " 'aic',\n",
       " 'ar2',\n",
       " 'betas',\n",
       " 'breusch_pagan',\n",
       " 'f_stat',\n",
       " 'jarque_bera',\n",
       " 'k',\n",
       " 'koenker_bassett',\n",
       " 'logll',\n",
       " 'mean_y',\n",
       " 'mulColli',\n",
       " 'n',\n",
       " 'name_ds',\n",
       " 'name_gwk',\n",
       " 'name_w',\n",
       " 'name_x',\n",
       " 'name_y',\n",
       " 'predy',\n",
       " 'r2',\n",
       " 'robust',\n",
       " 'schwarz',\n",
       " 'sig2',\n",
       " 'sig2ML',\n",
       " 'sig2n',\n",
       " 'sig2n_k',\n",
       " 'std_err',\n",
       " 'std_y',\n",
       " 'summary',\n",
       " 't_stat',\n",
       " 'title',\n",
       " 'u',\n",
       " 'utu',\n",
       " 'vm',\n",
       " 'x',\n",
       " 'xtx',\n",
       " 'xtxi',\n",
       " 'y']"
      ]
     },
     "execution_count": 68,
     "metadata": {},
     "output_type": "execute_result"
    }
   ],
   "source": [
    "dir(ols1)"
   ]
  },
  {
   "cell_type": "code",
   "execution_count": 69,
   "metadata": {
    "collapsed": false
   },
   "outputs": [
    {
     "data": {
      "text/plain": [
       "array([[ 23.26999634],\n",
       "       [  0.22249352],\n",
       "       [  5.64840507],\n",
       "       [ 10.33587549],\n",
       "       [ 11.17272765],\n",
       "       [  7.85416373],\n",
       "       [  5.40206849],\n",
       "       [ -0.21345497],\n",
       "       [  0.09490639],\n",
       "       [  0.18775621]])"
      ]
     },
     "execution_count": 69,
     "metadata": {},
     "output_type": "execute_result"
    }
   ],
   "source": [
    "ols1.betas"
   ]
  },
  {
   "cell_type": "code",
   "execution_count": 70,
   "metadata": {
    "collapsed": false
   },
   "outputs": [
    {
     "data": {
      "text/plain": [
       "array([[ 23.26999634],\n",
       "       [  0.22249352],\n",
       "       [  5.64840507],\n",
       "       [ 10.33587549],\n",
       "       [ 11.17272765],\n",
       "       [  7.85416373],\n",
       "       [  5.40206849],\n",
       "       [ -0.21345497],\n",
       "       [  0.09490639],\n",
       "       [  0.18775621]])"
      ]
     },
     "execution_count": 70,
     "metadata": {},
     "output_type": "execute_result"
    }
   ],
   "source": [
    "ols1.betas"
   ]
  },
  {
   "cell_type": "markdown",
   "metadata": {},
   "source": [
    "pretty output, but no variable names (coefficients in order of columns of **x**) or any other descriptive information about \n",
    "the data set, etc."
   ]
  },
  {
   "cell_type": "code",
   "execution_count": 71,
   "metadata": {
    "collapsed": false
   },
   "outputs": [
    {
     "name": "stdout",
     "output_type": "stream",
     "text": [
      "REGRESSION\n",
      "----------\n",
      "SUMMARY OF OUTPUT: ORDINARY LEAST SQUARES\n",
      "-----------------------------------------\n",
      "Data set            :     unknown\n",
      "Dependent Variable  :     dep_var                Number of Observations:         211\n",
      "Mean dependent var  :     44.3072                Number of Variables   :          10\n",
      "S.D. dependent var  :     23.6061                Degrees of Freedom    :         201\n",
      "R-squared           :      0.6500\n",
      "Adjusted R-squared  :      0.6343\n",
      "Sum squared residual:   40960.463                F-statistic           :     41.4718\n",
      "Sigma-square        :     203.783                Prob(F-statistic)     :    3.24e-41\n",
      "S.E. of regression  :      14.275                Log likelihood        :    -855.223\n",
      "Sigma-square ML     :     194.125                Akaike info criterion :    1730.446\n",
      "S.E of regression ML:     13.9329                Schwarz criterion     :    1763.965\n",
      "\n",
      "------------------------------------------------------------------------------------\n",
      "            Variable     Coefficient       Std.Error     t-Statistic     Probability\n",
      "------------------------------------------------------------------------------------\n",
      "            CONSTANT      23.2699963       5.2241658       4.4542989       0.0000140\n",
      "               var_1       0.2224935       1.2279277       0.1811943       0.8563976\n",
      "               var_2       5.6484051       2.0182820       2.7986204       0.0056318\n",
      "               var_3      10.3358755       3.1202987       3.3124635       0.0010966\n",
      "               var_4      11.1727277       2.7323132       4.0891094       0.0000626\n",
      "               var_5       7.8541637       2.7024343       2.9063292       0.0040671\n",
      "               var_6       5.4020685       1.9636140       2.7510848       0.0064824\n",
      "               var_7      -0.2134550       0.0573535      -3.7217456       0.0002568\n",
      "               var_8       0.0949064       0.0165355       5.7395480       0.0000000\n",
      "               var_9       0.1877562       0.1890598       0.9931047       0.3218530\n",
      "------------------------------------------------------------------------------------\n",
      "\n",
      "REGRESSION DIAGNOSTICS\n",
      "MULTICOLLINEARITY CONDITION NUMBER           20.609\n",
      "\n",
      "TEST ON NORMALITY OF ERRORS\n",
      "TEST                             DF        VALUE           PROB\n",
      "Jarque-Bera                       2         429.933           0.0000\n",
      "\n",
      "DIAGNOSTICS FOR HETEROSKEDASTICITY\n",
      "RANDOM COEFFICIENTS\n",
      "TEST                             DF        VALUE           PROB\n",
      "Breusch-Pagan test                9         167.792           0.0000\n",
      "Koenker-Bassett test              9          39.197           0.0000\n",
      "================================ END OF REPORT =====================================\n"
     ]
    }
   ],
   "source": [
    "print ols1.summary"
   ]
  },
  {
   "cell_type": "markdown",
   "metadata": {},
   "source": [
    "**OLS with variable and data set names**"
   ]
  },
  {
   "cell_type": "code",
   "execution_count": 72,
   "metadata": {
    "collapsed": false
   },
   "outputs": [],
   "source": [
    "ols1a = pysal.spreg.OLS(y,x,name_y=y_name,name_x=x_names,\n",
    "                        name_ds='baltim.shp')"
   ]
  },
  {
   "cell_type": "code",
   "execution_count": 73,
   "metadata": {
    "collapsed": false
   },
   "outputs": [
    {
     "name": "stdout",
     "output_type": "stream",
     "text": [
      "REGRESSION\n",
      "----------\n",
      "SUMMARY OF OUTPUT: ORDINARY LEAST SQUARES\n",
      "-----------------------------------------\n",
      "Data set            :  baltim.shp\n",
      "Dependent Variable  :       PRICE                Number of Observations:         211\n",
      "Mean dependent var  :     44.3072                Number of Variables   :          10\n",
      "S.D. dependent var  :     23.6061                Degrees of Freedom    :         201\n",
      "R-squared           :      0.6500\n",
      "Adjusted R-squared  :      0.6343\n",
      "Sum squared residual:   40960.463                F-statistic           :     41.4718\n",
      "Sigma-square        :     203.783                Prob(F-statistic)     :    3.24e-41\n",
      "S.E. of regression  :      14.275                Log likelihood        :    -855.223\n",
      "Sigma-square ML     :     194.125                Akaike info criterion :    1730.446\n",
      "S.E of regression ML:     13.9329                Schwarz criterion     :    1763.965\n",
      "\n",
      "------------------------------------------------------------------------------------\n",
      "            Variable     Coefficient       Std.Error     t-Statistic     Probability\n",
      "------------------------------------------------------------------------------------\n",
      "            CONSTANT      23.2699963       5.2241658       4.4542989       0.0000140\n",
      "                  AC       7.8541637       2.7024343       2.9063292       0.0040671\n",
      "                 AGE      -0.2134550       0.0573535      -3.7217456       0.0002568\n",
      "              FIREPL      11.1727277       2.7323132       4.0891094       0.0000626\n",
      "                 GAR       5.4020685       1.9636140       2.7510848       0.0064824\n",
      "               LOTSZ       0.0949064       0.0165355       5.7395480       0.0000000\n",
      "               NBATH       5.6484051       2.0182820       2.7986204       0.0056318\n",
      "               NROOM       0.2224935       1.2279277       0.1811943       0.8563976\n",
      "               PATIO      10.3358755       3.1202987       3.3124635       0.0010966\n",
      "                SQFT       0.1877562       0.1890598       0.9931047       0.3218530\n",
      "------------------------------------------------------------------------------------\n",
      "\n",
      "REGRESSION DIAGNOSTICS\n",
      "MULTICOLLINEARITY CONDITION NUMBER           20.609\n",
      "\n",
      "TEST ON NORMALITY OF ERRORS\n",
      "TEST                             DF        VALUE           PROB\n",
      "Jarque-Bera                       2         429.933           0.0000\n",
      "\n",
      "DIAGNOSTICS FOR HETEROSKEDASTICITY\n",
      "RANDOM COEFFICIENTS\n",
      "TEST                             DF        VALUE           PROB\n",
      "Breusch-Pagan test                9         167.792           0.0000\n",
      "Koenker-Bassett test              9          39.197           0.0000\n",
      "================================ END OF REPORT =====================================\n"
     ]
    }
   ],
   "source": [
    "print ols1a.summary"
   ]
  },
  {
   "cell_type": "markdown",
   "metadata": {},
   "source": [
    "note how the order of the coefficients is different from before, it follows the alfabetical order of the\n",
    "variable names"
   ]
  },
  {
   "cell_type": "markdown",
   "metadata": {},
   "source": [
    "##OLS with White Test##"
   ]
  },
  {
   "cell_type": "markdown",
   "metadata": {},
   "source": [
    "set **white_test = True**"
   ]
  },
  {
   "cell_type": "code",
   "execution_count": 74,
   "metadata": {
    "collapsed": false
   },
   "outputs": [],
   "source": [
    "ols2 = pysal.spreg.OLS(y,x,white_test=True,name_y=y_name,\n",
    "                       name_x=x_names,name_ds='baltim.shp')"
   ]
  },
  {
   "cell_type": "code",
   "execution_count": 75,
   "metadata": {
    "collapsed": false
   },
   "outputs": [
    {
     "name": "stdout",
     "output_type": "stream",
     "text": [
      "REGRESSION\n",
      "----------\n",
      "SUMMARY OF OUTPUT: ORDINARY LEAST SQUARES\n",
      "-----------------------------------------\n",
      "Data set            :  baltim.shp\n",
      "Dependent Variable  :       PRICE                Number of Observations:         211\n",
      "Mean dependent var  :     44.3072                Number of Variables   :          10\n",
      "S.D. dependent var  :     23.6061                Degrees of Freedom    :         201\n",
      "R-squared           :      0.6500\n",
      "Adjusted R-squared  :      0.6343\n",
      "Sum squared residual:   40960.463                F-statistic           :     41.4718\n",
      "Sigma-square        :     203.783                Prob(F-statistic)     :    3.24e-41\n",
      "S.E. of regression  :      14.275                Log likelihood        :    -855.223\n",
      "Sigma-square ML     :     194.125                Akaike info criterion :    1730.446\n",
      "S.E of regression ML:     13.9329                Schwarz criterion     :    1763.965\n",
      "\n",
      "------------------------------------------------------------------------------------\n",
      "            Variable     Coefficient       Std.Error     t-Statistic     Probability\n",
      "------------------------------------------------------------------------------------\n",
      "            CONSTANT      23.2699963       5.2241658       4.4542989       0.0000140\n",
      "                  AC       7.8541637       2.7024343       2.9063292       0.0040671\n",
      "                 AGE      -0.2134550       0.0573535      -3.7217456       0.0002568\n",
      "              FIREPL      11.1727277       2.7323132       4.0891094       0.0000626\n",
      "                 GAR       5.4020685       1.9636140       2.7510848       0.0064824\n",
      "               LOTSZ       0.0949064       0.0165355       5.7395480       0.0000000\n",
      "               NBATH       5.6484051       2.0182820       2.7986204       0.0056318\n",
      "               NROOM       0.2224935       1.2279277       0.1811943       0.8563976\n",
      "               PATIO      10.3358755       3.1202987       3.3124635       0.0010966\n",
      "                SQFT       0.1877562       0.1890598       0.9931047       0.3218530\n",
      "------------------------------------------------------------------------------------\n",
      "\n",
      "REGRESSION DIAGNOSTICS\n",
      "MULTICOLLINEARITY CONDITION NUMBER           20.609\n",
      "\n",
      "TEST ON NORMALITY OF ERRORS\n",
      "TEST                             DF        VALUE           PROB\n",
      "Jarque-Bera                       2         429.933           0.0000\n",
      "\n",
      "DIAGNOSTICS FOR HETEROSKEDASTICITY\n",
      "RANDOM COEFFICIENTS\n",
      "TEST                             DF        VALUE           PROB\n",
      "Breusch-Pagan test                9         167.792           0.0000\n",
      "Koenker-Bassett test              9          39.197           0.0000\n",
      "\n",
      "SPECIFICATION ROBUST TEST\n",
      "TEST                             DF        VALUE           PROB\n",
      "White                            51         164.335           0.0000\n",
      "================================ END OF REPORT =====================================\n"
     ]
    }
   ],
   "source": [
    "print ols2.summary"
   ]
  },
  {
   "cell_type": "markdown",
   "metadata": {},
   "source": [
    "now the **White** test is included as one of the diagnostics"
   ]
  },
  {
   "cell_type": "markdown",
   "metadata": {},
   "source": [
    "##OLS with Spatial Diagnostics##"
   ]
  },
  {
   "cell_type": "markdown",
   "metadata": {},
   "source": [
    "specify the weights (**w**) and set **spat_diag = True** and **moran = True**\n",
    "\n",
    "specify a name for the weights in **name_w**, all the rest is as before\n",
    "\n",
    "for convenience, white_test is back to default of False"
   ]
  },
  {
   "cell_type": "code",
   "execution_count": 76,
   "metadata": {
    "collapsed": false
   },
   "outputs": [],
   "source": [
    "ols3 = pysal.spreg.OLS(y,x,w=w,spat_diag=True,moran=True,\n",
    "                       name_y=y_name,name_x=x_names,name_w='baltim_k4',\n",
    "                       name_ds='baltim.shp')"
   ]
  },
  {
   "cell_type": "code",
   "execution_count": 77,
   "metadata": {
    "collapsed": false
   },
   "outputs": [
    {
     "name": "stdout",
     "output_type": "stream",
     "text": [
      "REGRESSION\n",
      "----------\n",
      "SUMMARY OF OUTPUT: ORDINARY LEAST SQUARES\n",
      "-----------------------------------------\n",
      "Data set            :  baltim.shp\n",
      "Weights matrix      :   baltim_k4\n",
      "Dependent Variable  :       PRICE                Number of Observations:         211\n",
      "Mean dependent var  :     44.3072                Number of Variables   :          10\n",
      "S.D. dependent var  :     23.6061                Degrees of Freedom    :         201\n",
      "R-squared           :      0.6500\n",
      "Adjusted R-squared  :      0.6343\n",
      "Sum squared residual:   40960.463                F-statistic           :     41.4718\n",
      "Sigma-square        :     203.783                Prob(F-statistic)     :    3.24e-41\n",
      "S.E. of regression  :      14.275                Log likelihood        :    -855.223\n",
      "Sigma-square ML     :     194.125                Akaike info criterion :    1730.446\n",
      "S.E of regression ML:     13.9329                Schwarz criterion     :    1763.965\n",
      "\n",
      "------------------------------------------------------------------------------------\n",
      "            Variable     Coefficient       Std.Error     t-Statistic     Probability\n",
      "------------------------------------------------------------------------------------\n",
      "            CONSTANT      23.2699963       5.2241658       4.4542989       0.0000140\n",
      "                  AC       7.8541637       2.7024343       2.9063292       0.0040671\n",
      "                 AGE      -0.2134550       0.0573535      -3.7217456       0.0002568\n",
      "              FIREPL      11.1727277       2.7323132       4.0891094       0.0000626\n",
      "                 GAR       5.4020685       1.9636140       2.7510848       0.0064824\n",
      "               LOTSZ       0.0949064       0.0165355       5.7395480       0.0000000\n",
      "               NBATH       5.6484051       2.0182820       2.7986204       0.0056318\n",
      "               NROOM       0.2224935       1.2279277       0.1811943       0.8563976\n",
      "               PATIO      10.3358755       3.1202987       3.3124635       0.0010966\n",
      "                SQFT       0.1877562       0.1890598       0.9931047       0.3218530\n",
      "------------------------------------------------------------------------------------\n",
      "\n",
      "REGRESSION DIAGNOSTICS\n",
      "MULTICOLLINEARITY CONDITION NUMBER           20.609\n",
      "\n",
      "TEST ON NORMALITY OF ERRORS\n",
      "TEST                             DF        VALUE           PROB\n",
      "Jarque-Bera                       2         429.933           0.0000\n",
      "\n",
      "DIAGNOSTICS FOR HETEROSKEDASTICITY\n",
      "RANDOM COEFFICIENTS\n",
      "TEST                             DF        VALUE           PROB\n",
      "Breusch-Pagan test                9         167.792           0.0000\n",
      "Koenker-Bassett test              9          39.197           0.0000\n",
      "\n",
      "DIAGNOSTICS FOR SPATIAL DEPENDENCE\n",
      "TEST                           MI/DF       VALUE           PROB\n",
      "Moran's I (error)              0.1057         2.613           0.0090\n",
      "Lagrange Multiplier (lag)         1          31.407           0.0000\n",
      "Robust LM (lag)                   1          29.685           0.0000\n",
      "Lagrange Multiplier (error)       1           5.283           0.0215\n",
      "Robust LM (error)                 1           3.560           0.0592\n",
      "Lagrange Multiplier (SARMA)       2          34.967           0.0000\n",
      "\n",
      "================================ END OF REPORT =====================================\n"
     ]
    }
   ],
   "source": [
    "print ols3.summary"
   ]
  },
  {
   "cell_type": "markdown",
   "metadata": {},
   "source": [
    "diagnostics for spatial dependence at the bottom of the listing"
   ]
  },
  {
   "cell_type": "markdown",
   "metadata": {},
   "source": [
    "## OLS with White Standard Errors##"
   ]
  },
  {
   "cell_type": "markdown",
   "metadata": {},
   "source": [
    "set **robust= 'white'** for the default scaling, dividing by $n - k$, the spatial diagnostics have been turned off"
   ]
  },
  {
   "cell_type": "code",
   "execution_count": 78,
   "metadata": {
    "collapsed": false
   },
   "outputs": [],
   "source": [
    "ols4 = pysal.spreg.OLS(y,x,robust='white',\n",
    "                       name_y=y_name,name_x=x_names,name_ds='baltim.shp')"
   ]
  },
  {
   "cell_type": "code",
   "execution_count": 79,
   "metadata": {
    "collapsed": false
   },
   "outputs": [
    {
     "name": "stdout",
     "output_type": "stream",
     "text": [
      "REGRESSION\n",
      "----------\n",
      "SUMMARY OF OUTPUT: ORDINARY LEAST SQUARES\n",
      "-----------------------------------------\n",
      "Data set            :  baltim.shp\n",
      "Dependent Variable  :       PRICE                Number of Observations:         211\n",
      "Mean dependent var  :     44.3072                Number of Variables   :          10\n",
      "S.D. dependent var  :     23.6061                Degrees of Freedom    :         201\n",
      "R-squared           :      0.6500\n",
      "Adjusted R-squared  :      0.6343\n",
      "Sum squared residual:   40960.463                F-statistic           :     41.4718\n",
      "Sigma-square        :     203.783                Prob(F-statistic)     :    3.24e-41\n",
      "S.E. of regression  :      14.275                Log likelihood        :    -855.223\n",
      "Sigma-square ML     :     194.125                Akaike info criterion :    1730.446\n",
      "S.E of regression ML:     13.9329                Schwarz criterion     :    1763.965\n",
      "\n",
      "White Standard Errors\n",
      "------------------------------------------------------------------------------------\n",
      "            Variable     Coefficient       Std.Error     t-Statistic     Probability\n",
      "------------------------------------------------------------------------------------\n",
      "            CONSTANT      23.2699963       6.5488415       3.5532997       0.0004741\n",
      "                  AC       7.8541637       3.1147472       2.5216055       0.0124581\n",
      "                 AGE      -0.2134550       0.1082717      -1.9714745       0.0500417\n",
      "              FIREPL      11.1727277       3.0235003       3.6952957       0.0002831\n",
      "                 GAR       5.4020685       3.2537312       1.6602688       0.0984196\n",
      "               LOTSZ       0.0949064       0.0260489       3.6433902       0.0003425\n",
      "               NBATH       5.6484051       2.4995696       2.2597511       0.0249092\n",
      "               NROOM       0.2224935       1.3934904       0.1596663       0.8733042\n",
      "               PATIO      10.3358755       4.1978783       2.4621665       0.0146520\n",
      "                SQFT       0.1877562       0.2099744       0.8941860       0.3722918\n",
      "------------------------------------------------------------------------------------\n",
      "\n",
      "REGRESSION DIAGNOSTICS\n",
      "MULTICOLLINEARITY CONDITION NUMBER           20.609\n",
      "\n",
      "TEST ON NORMALITY OF ERRORS\n",
      "TEST                             DF        VALUE           PROB\n",
      "Jarque-Bera                       2         429.933           0.0000\n",
      "\n",
      "DIAGNOSTICS FOR HETEROSKEDASTICITY\n",
      "RANDOM COEFFICIENTS\n",
      "TEST                             DF        VALUE           PROB\n",
      "Breusch-Pagan test                9         167.792           0.0000\n",
      "Koenker-Bassett test              9          39.197           0.0000\n",
      "================================ END OF REPORT =====================================\n"
     ]
    }
   ],
   "source": [
    "print ols4.summary"
   ]
  },
  {
   "cell_type": "markdown",
   "metadata": {},
   "source": [
    "turn off scaling (i.e., divide by n) by setting **sig2n_k = False**"
   ]
  },
  {
   "cell_type": "code",
   "execution_count": 80,
   "metadata": {
    "collapsed": false
   },
   "outputs": [],
   "source": [
    "ols5 = pysal.spreg.OLS(y,x,robust='white',sig2n_k=False,\n",
    "                       name_y=y_name,name_x=x_names,name_ds='baltim.shp')"
   ]
  },
  {
   "cell_type": "code",
   "execution_count": 81,
   "metadata": {
    "collapsed": false
   },
   "outputs": [
    {
     "name": "stdout",
     "output_type": "stream",
     "text": [
      "REGRESSION\n",
      "----------\n",
      "SUMMARY OF OUTPUT: ORDINARY LEAST SQUARES\n",
      "-----------------------------------------\n",
      "Data set            :  baltim.shp\n",
      "Dependent Variable  :       PRICE                Number of Observations:         211\n",
      "Mean dependent var  :     44.3072                Number of Variables   :          10\n",
      "S.D. dependent var  :     23.6061                Degrees of Freedom    :         201\n",
      "R-squared           :      0.6500\n",
      "Adjusted R-squared  :      0.6343\n",
      "Sum squared residual:   40960.463                F-statistic           :     41.4718\n",
      "Sigma-square        :     194.125                Prob(F-statistic)     :    3.24e-41\n",
      "S.E. of regression  :      13.933                Log likelihood        :    -855.223\n",
      "Sigma-square ML     :     194.125                Akaike info criterion :    1730.446\n",
      "S.E of regression ML:     13.9329                Schwarz criterion     :    1763.965\n",
      "\n",
      "White Standard Errors\n",
      "------------------------------------------------------------------------------------\n",
      "            Variable     Coefficient       Std.Error     t-Statistic     Probability\n",
      "------------------------------------------------------------------------------------\n",
      "            CONSTANT      23.2699963       6.3917721       3.6406174       0.0003459\n",
      "                  AC       7.8541637       3.0400421       2.5835707       0.0104876\n",
      "                 AGE      -0.2134550       0.1056749      -2.0199209       0.0447190\n",
      "              FIREPL      11.1727277       2.9509837       3.7861028       0.0002020\n",
      "                 GAR       5.4020685       3.1756927       1.7010678       0.0904767\n",
      "               LOTSZ       0.0949064       0.0254242       3.7329217       0.0002464\n",
      "               NBATH       5.6484051       2.4396191       2.3152815       0.0216067\n",
      "               NROOM       0.2224935       1.3600685       0.1635899       0.8702183\n",
      "               PATIO      10.3358755       4.0971951       2.5226710       0.0124216\n",
      "                SQFT       0.1877562       0.2049383       0.9161595       0.3606811\n",
      "------------------------------------------------------------------------------------\n",
      "\n",
      "REGRESSION DIAGNOSTICS\n",
      "MULTICOLLINEARITY CONDITION NUMBER           20.609\n",
      "\n",
      "TEST ON NORMALITY OF ERRORS\n",
      "TEST                             DF        VALUE           PROB\n",
      "Jarque-Bera                       2         429.933           0.0000\n",
      "\n",
      "DIAGNOSTICS FOR HETEROSKEDASTICITY\n",
      "RANDOM COEFFICIENTS\n",
      "TEST                             DF        VALUE           PROB\n",
      "Breusch-Pagan test                9         167.792           0.0000\n",
      "Koenker-Bassett test              9          39.197           0.0000\n",
      "================================ END OF REPORT =====================================\n"
     ]
    }
   ],
   "source": [
    "print ols5.summary"
   ]
  },
  {
   "cell_type": "markdown",
   "metadata": {},
   "source": [
    "note how all the estimates remain the same, but the standard errors change (slightly)"
   ]
  },
  {
   "cell_type": "markdown",
   "metadata": {},
   "source": [
    "## OLS with HAC Standard Errors##"
   ]
  },
  {
   "cell_type": "markdown",
   "metadata": {},
   "source": [
    "set **robust = 'hac'**, specify the kernel weights **gwk = kw** and give a name for the weights in **name_gwk**"
   ]
  },
  {
   "cell_type": "code",
   "execution_count": 82,
   "metadata": {
    "collapsed": false
   },
   "outputs": [],
   "source": [
    "ols6 = pysal.spreg.OLS(y,x,robust='hac',gwk=kw,\n",
    "                       name_y=y_name,name_x=x_names,\n",
    "                       name_gwk='baltim_tri_k12',name_ds='baltim.shp')"
   ]
  },
  {
   "cell_type": "code",
   "execution_count": 83,
   "metadata": {
    "collapsed": false
   },
   "outputs": [
    {
     "ename": "TypeError",
     "evalue": "__init__() takes at least 3 arguments (1 given)",
     "output_type": "error",
     "traceback": [
      "\u001b[0;31m---------------------------------------------------------------------------\u001b[0m",
      "\u001b[0;31mTypeError\u001b[0m                                 Traceback (most recent call last)",
      "\u001b[0;32m<ipython-input-83-65d92a8396c9>\u001b[0m in \u001b[0;36m<module>\u001b[0;34m()\u001b[0m\n\u001b[0;32m----> 1\u001b[0;31m \u001b[0mpysal\u001b[0m\u001b[0;34m.\u001b[0m\u001b[0mspreg\u001b[0m\u001b[0;34m.\u001b[0m\u001b[0mOLS\u001b[0m\u001b[0;34m(\u001b[0m\u001b[0;34m)\u001b[0m\u001b[0;34m\u001b[0m\u001b[0m\n\u001b[0m",
      "\u001b[0;31mTypeError\u001b[0m: __init__() takes at least 3 arguments (1 given)"
     ]
    }
   ],
   "source": [
    "pysal.spreg.OLS()"
   ]
  },
  {
   "cell_type": "code",
   "execution_count": 84,
   "metadata": {
    "collapsed": false
   },
   "outputs": [
    {
     "name": "stdout",
     "output_type": "stream",
     "text": [
      "REGRESSION\n",
      "----------\n",
      "SUMMARY OF OUTPUT: ORDINARY LEAST SQUARES\n",
      "-----------------------------------------\n",
      "Data set            :  baltim.shp\n",
      "Dependent Variable  :       PRICE                Number of Observations:         211\n",
      "Mean dependent var  :     44.3072                Number of Variables   :          10\n",
      "S.D. dependent var  :     23.6061                Degrees of Freedom    :         201\n",
      "R-squared           :      0.6500\n",
      "Adjusted R-squared  :      0.6343\n",
      "Sum squared residual:   40960.463                F-statistic           :     41.4718\n",
      "Sigma-square        :     203.783                Prob(F-statistic)     :    3.24e-41\n",
      "S.E. of regression  :      14.275                Log likelihood        :    -855.223\n",
      "Sigma-square ML     :     194.125                Akaike info criterion :    1730.446\n",
      "S.E of regression ML:     13.9329                Schwarz criterion     :    1763.965\n",
      "\n",
      "HAC Standard Errors; Kernel Weights: baltim_tri_k12\n",
      "------------------------------------------------------------------------------------\n",
      "            Variable     Coefficient       Std.Error     t-Statistic     Probability\n",
      "------------------------------------------------------------------------------------\n",
      "            CONSTANT      23.2699963       6.7557589       3.4444682       0.0006964\n",
      "                  AC       7.8541637       3.2786034       2.3955822       0.0175113\n",
      "                 AGE      -0.2134550       0.1067463      -1.9996471       0.0468849\n",
      "              FIREPL      11.1727277       2.9682469       3.7640830       0.0002194\n",
      "                 GAR       5.4020685       3.5732508       1.5118078       0.1321534\n",
      "               LOTSZ       0.0949064       0.0251785       3.7693418       0.0002151\n",
      "               NBATH       5.6484051       2.4853389       2.2726901       0.0241027\n",
      "               NROOM       0.2224935       1.3841624       0.1607424       0.8724578\n",
      "               PATIO      10.3358755       4.4904057       2.3017687       0.0223729\n",
      "                SQFT       0.1877562       0.1867878       1.0051843       0.3160167\n",
      "------------------------------------------------------------------------------------\n",
      "\n",
      "REGRESSION DIAGNOSTICS\n",
      "MULTICOLLINEARITY CONDITION NUMBER           20.609\n",
      "\n",
      "TEST ON NORMALITY OF ERRORS\n",
      "TEST                             DF        VALUE           PROB\n",
      "Jarque-Bera                       2         429.933           0.0000\n",
      "\n",
      "DIAGNOSTICS FOR HETEROSKEDASTICITY\n",
      "RANDOM COEFFICIENTS\n",
      "TEST                             DF        VALUE           PROB\n",
      "Breusch-Pagan test                9         167.792           0.0000\n",
      "Koenker-Bassett test              9          39.197           0.0000\n",
      "================================ END OF REPORT =====================================\n"
     ]
    }
   ],
   "source": [
    "print ols6.summary"
   ]
  },
  {
   "cell_type": "markdown",
   "metadata": {},
   "source": [
    "Again, same estimates as before, but different standard errors"
   ]
  },
  {
   "cell_type": "markdown",
   "metadata": {},
   "source": [
    "## Accessing Individual Functions##"
   ]
  },
  {
   "cell_type": "markdown",
   "metadata": {},
   "source": [
    "**Muticollinearity Diagnostics** - Variance inflation factor"
   ]
  },
  {
   "cell_type": "markdown",
   "metadata": {},
   "source": [
    "use **vif** and pass a regression object, e.g., **ols1**"
   ]
  },
  {
   "cell_type": "code",
   "execution_count": 85,
   "metadata": {
    "collapsed": false
   },
   "outputs": [],
   "source": [
    "v = pysal.spreg.diagnostics.vif(ols1)"
   ]
  },
  {
   "cell_type": "code",
   "execution_count": 86,
   "metadata": {
    "collapsed": false
   },
   "outputs": [
    {
     "data": {
      "text/plain": [
       "[None,\n",
       " (2.1282653585417042, 0.46986622038767001),\n",
       " (1.7612737468067754, 0.56777091114485756),\n",
       " (1.2635001075481409, 0.79145224763021937),\n",
       " (1.4167716982292522, 0.70583002275514606),\n",
       " (1.3859551858036305, 0.72152405088059268),\n",
       " (1.4320753736980556, 0.69828726781167594),\n",
       " (1.3336259007911946, 0.74983546690772451),\n",
       " (1.5646798143926104, 0.63910839189050817),\n",
       " (2.4833041895651888, 0.40268928961743256)]"
      ]
     },
     "execution_count": 86,
     "metadata": {},
     "output_type": "execute_result"
    }
   ],
   "source": [
    "v"
   ]
  },
  {
   "cell_type": "markdown",
   "metadata": {},
   "source": [
    "extract the statistics by skipping over the first element in the list, **v[1:]**"
   ]
  },
  {
   "cell_type": "code",
   "execution_count": 87,
   "metadata": {
    "collapsed": false
   },
   "outputs": [
    {
     "data": {
      "text/plain": [
       "[(2.1282653585417042, 0.46986622038767001),\n",
       " (1.7612737468067754, 0.56777091114485756),\n",
       " (1.2635001075481409, 0.79145224763021937),\n",
       " (1.4167716982292522, 0.70583002275514606),\n",
       " (1.3859551858036305, 0.72152405088059268),\n",
       " (1.4320753736980556, 0.69828726781167594),\n",
       " (1.3336259007911946, 0.74983546690772451),\n",
       " (1.5646798143926104, 0.63910839189050817),\n",
       " (2.4833041895651888, 0.40268928961743256)]"
      ]
     },
     "execution_count": 87,
     "metadata": {},
     "output_type": "execute_result"
    }
   ],
   "source": [
    "v[1:]"
   ]
  },
  {
   "cell_type": "markdown",
   "metadata": {},
   "source": [
    "This list contains a tuple with for each variable (in the order given in **x**) the variance inflation factor (VIF) and its inverse, the tolerance factor. The rule of thumb is to keep the VIF under 5 or 10 and the tolerance factor above 0.2 or 0.1."
   ]
  },
  {
   "cell_type": "markdown",
   "metadata": {},
   "source": [
    "**Lagrange Multiplier Tests** - accessing individual statistics"
   ]
  },
  {
   "cell_type": "markdown",
   "metadata": {},
   "source": [
    "use **LMtests** with a regression object and a weights object"
   ]
  },
  {
   "cell_type": "code",
   "execution_count": 88,
   "metadata": {
    "collapsed": false
   },
   "outputs": [],
   "source": [
    "vw = pysal.spreg.diagnostics_sp.LMtests(ols1,w)"
   ]
  },
  {
   "cell_type": "code",
   "execution_count": 89,
   "metadata": {
    "collapsed": false
   },
   "outputs": [
    {
     "data": {
      "text/plain": [
       "<pysal.spreg.diagnostics_sp.LMtests instance at 0x1076f8b00>"
      ]
     },
     "execution_count": 89,
     "metadata": {},
     "output_type": "execute_result"
    }
   ],
   "source": [
    "vw"
   ]
  },
  {
   "cell_type": "markdown",
   "metadata": {},
   "source": [
    "check the contents of this object using **dir**"
   ]
  },
  {
   "cell_type": "code",
   "execution_count": 90,
   "metadata": {
    "collapsed": false
   },
   "outputs": [
    {
     "data": {
      "text/plain": [
       "['__doc__', '__init__', '__module__', 'lme', 'lml', 'rlme', 'rlml', 'sarma']"
      ]
     },
     "execution_count": 90,
     "metadata": {},
     "output_type": "execute_result"
    }
   ],
   "source": [
    "dir(vw)"
   ]
  },
  {
   "cell_type": "markdown",
   "metadata": {},
   "source": [
    "extract the specific test statistic as attributes, e.g., **lme, lml,\n",
    "rlme, rlml, sarma**"
   ]
  },
  {
   "cell_type": "code",
   "execution_count": 91,
   "metadata": {
    "collapsed": false
   },
   "outputs": [
    {
     "data": {
      "text/plain": [
       "(5.2825246195978197, 0.021540492505405306)"
      ]
     },
     "execution_count": 91,
     "metadata": {},
     "output_type": "execute_result"
    }
   ],
   "source": [
    "vw.lme"
   ]
  },
  {
   "cell_type": "code",
   "execution_count": 92,
   "metadata": {
    "collapsed": false
   },
   "outputs": [
    {
     "data": {
      "text/plain": [
       "(31.407013776695475, 2.0922374390272532e-08)"
      ]
     },
     "execution_count": 92,
     "metadata": {},
     "output_type": "execute_result"
    }
   ],
   "source": [
    "vw.lml"
   ]
  },
  {
   "cell_type": "markdown",
   "metadata": {},
   "source": [
    "## Practice##"
   ]
  },
  {
   "cell_type": "markdown",
   "metadata": {},
   "source": [
    "Create a regression object using the classic Harrison-Rubinfeld Boston house price data set (included as Boston.shp). Regression median house value (MEDV) on crime rate (CRIM), Charles river dummy (CHAS), nitric oxides (NOX), number of rooms (RM), age (AGE), weighted distance to five employment centers (DIS) and percent \"lower status population\" (LSTAT). A full description of the Boston data set is available on the GeoDa Center sample data set site.\n",
    "\n",
    "Use a k-nearest neighbor spatial weights (k = 4) for the spatial diagnostics, and a triangular adaptive bandwidth kernel weights (k = 12) for the HAC standard errors.\n",
    "\n",
    "What is the most likely alternative spatial regression model, given the results of a spatial specification search.\n",
    "\n",
    "Try including the White test and see what happens.\n",
    "\n",
    "Try any other combinations of explanatory variables, spatial weights and standard error specifications."
   ]
  },
  {
   "cell_type": "code",
   "execution_count": null,
   "metadata": {
    "collapsed": false
   },
   "outputs": [],
   "source": []
  }
 ],
 "metadata": {
  "kernelspec": {
   "display_name": "Python 2",
   "language": "python",
   "name": "python2"
  },
  "language_info": {
   "codemirror_mode": {
    "name": "ipython",
    "version": 2
   },
   "file_extension": ".py",
   "mimetype": "text/x-python",
   "name": "python",
   "nbconvert_exporter": "python",
   "pygments_lexer": "ipython2",
   "version": "2.7.10"
  }
 },
 "nbformat": 4,
 "nbformat_minor": 0
}
