{
 "cells": [
  {
   "cell_type": "markdown",
   "metadata": {},
   "source": [
    "This notebook contains the PySAL/spreg code for Chapter 6 - 2SLS \n",
    "\n",
    "in\n",
    "Modern Spatial Econometrics in Practice: A Guide to GeoDa, GeoDaSpace and PySAL.\n",
    "\n",
    "by Luc Anselin and Sergio J. Rey\n",
    "\n",
    "(c) 2014 Luc Anselin and Sergio J. Rey, All Rights Reserved"
   ]
  },
  {
   "cell_type": "code",
   "execution_count": 34,
   "metadata": {
    "collapsed": false
   },
   "outputs": [],
   "source": [
    "__author__ = \"Luc Anselin luc.anselin@asu.edu\""
   ]
  },
  {
   "cell_type": "markdown",
   "metadata": {},
   "source": [
    "## Basic Regression Setup##"
   ]
  },
  {
   "cell_type": "markdown",
   "metadata": {},
   "source": [
    "**Creating arrays for y, x, the endogenous variables yend and the instruments q**\n",
    "\n",
    "Using the **natregimes.dbf** example"
   ]
  },
  {
   "cell_type": "markdown",
   "metadata": {},
   "source": [
    "Preliminaries, importing **numpy** and **pysal**"
   ]
  },
  {
   "cell_type": "code",
   "execution_count": 35,
   "metadata": {
    "collapsed": false
   },
   "outputs": [
    {
     "name": "stdout",
     "output_type": "stream",
     "text": [
      "Populating the interactive namespace from numpy and matplotlib\n"
     ]
    },
    {
     "name": "stderr",
     "output_type": "stream",
     "text": [
      "WARNING: pylab import has clobbered these variables: ['var']\n",
      "`%matplotlib` prevents importing * from pylab and numpy\n"
     ]
    }
   ],
   "source": [
    "%pylab inline"
   ]
  },
  {
   "cell_type": "code",
   "execution_count": 36,
   "metadata": {
    "collapsed": false
   },
   "outputs": [],
   "source": [
    "import numpy as np\n",
    "import pysal"
   ]
  },
  {
   "cell_type": "markdown",
   "metadata": {},
   "source": [
    "Loading the data set and creating the data object"
   ]
  },
  {
   "cell_type": "code",
   "execution_count": 37,
   "metadata": {
    "collapsed": false
   },
   "outputs": [],
   "source": [
    "db = pysal.open('data/natregimes.dbf','r')"
   ]
  },
  {
   "cell_type": "code",
   "execution_count": 38,
   "metadata": {
    "collapsed": false
   },
   "outputs": [
    {
     "data": {
      "text/plain": [
       "3085"
      ]
     },
     "execution_count": 38,
     "metadata": {},
     "output_type": "execute_result"
    }
   ],
   "source": [
    "len(db)"
   ]
  },
  {
   "cell_type": "code",
   "execution_count": 39,
   "metadata": {
    "collapsed": false
   },
   "outputs": [
    {
     "data": {
      "text/plain": [
       "['REGIONS',\n",
       " 'NOSOUTH',\n",
       " 'POLY_ID',\n",
       " 'NAME',\n",
       " 'STATE_NAME',\n",
       " 'STATE_FIPS',\n",
       " 'CNTY_FIPS',\n",
       " 'FIPS',\n",
       " 'STFIPS',\n",
       " 'COFIPS',\n",
       " 'FIPSNO',\n",
       " 'SOUTH',\n",
       " 'HR60',\n",
       " 'HR70',\n",
       " 'HR80',\n",
       " 'HR90',\n",
       " 'HC60',\n",
       " 'HC70',\n",
       " 'HC80',\n",
       " 'HC90',\n",
       " 'PO60',\n",
       " 'PO70',\n",
       " 'PO80',\n",
       " 'PO90',\n",
       " 'RD60',\n",
       " 'RD70',\n",
       " 'RD80',\n",
       " 'RD90',\n",
       " 'PS60',\n",
       " 'PS70',\n",
       " 'PS80',\n",
       " 'PS90',\n",
       " 'UE60',\n",
       " 'UE70',\n",
       " 'UE80',\n",
       " 'UE90',\n",
       " 'DV60',\n",
       " 'DV70',\n",
       " 'DV80',\n",
       " 'DV90',\n",
       " 'MA60',\n",
       " 'MA70',\n",
       " 'MA80',\n",
       " 'MA90',\n",
       " 'POL60',\n",
       " 'POL70',\n",
       " 'POL80',\n",
       " 'POL90',\n",
       " 'DNL60',\n",
       " 'DNL70',\n",
       " 'DNL80',\n",
       " 'DNL90',\n",
       " 'MFIL59',\n",
       " 'MFIL69',\n",
       " 'MFIL79',\n",
       " 'MFIL89',\n",
       " 'FP59',\n",
       " 'FP69',\n",
       " 'FP79',\n",
       " 'FP89',\n",
       " 'BLK60',\n",
       " 'BLK70',\n",
       " 'BLK80',\n",
       " 'BLK90',\n",
       " 'GI59',\n",
       " 'GI69',\n",
       " 'GI79',\n",
       " 'GI89',\n",
       " 'FH60',\n",
       " 'FH70',\n",
       " 'FH80',\n",
       " 'FH90',\n",
       " 'West']"
      ]
     },
     "execution_count": 39,
     "metadata": {},
     "output_type": "execute_result"
    }
   ],
   "source": [
    "db.header"
   ]
  },
  {
   "cell_type": "markdown",
   "metadata": {},
   "source": [
    "**y** - dependent variable HR90"
   ]
  },
  {
   "cell_type": "code",
   "execution_count": 40,
   "metadata": {
    "collapsed": false
   },
   "outputs": [],
   "source": [
    "y_name = \"HR90\"\n",
    "y = np.array([db.by_col(y_name)]).T"
   ]
  },
  {
   "cell_type": "code",
   "execution_count": 41,
   "metadata": {
    "collapsed": false
   },
   "outputs": [
    {
     "data": {
      "text/plain": [
       "(3085, 1)"
      ]
     },
     "execution_count": 41,
     "metadata": {},
     "output_type": "execute_result"
    }
   ],
   "source": [
    "y.shape"
   ]
  },
  {
   "cell_type": "markdown",
   "metadata": {},
   "source": [
    "**x** - array with observations on explanatory variables"
   ]
  },
  {
   "cell_type": "code",
   "execution_count": 42,
   "metadata": {
    "collapsed": false
   },
   "outputs": [],
   "source": [
    "x_names = ['RD90','MA90','PS90']\n",
    "x = np.array([db.by_col(var) for var in x_names]).T"
   ]
  },
  {
   "cell_type": "code",
   "execution_count": 43,
   "metadata": {
    "collapsed": false
   },
   "outputs": [
    {
     "data": {
      "text/plain": [
       "(3085, 3)"
      ]
     },
     "execution_count": 43,
     "metadata": {},
     "output_type": "execute_result"
    }
   ],
   "source": [
    "x.shape"
   ]
  },
  {
   "cell_type": "markdown",
   "metadata": {},
   "source": [
    "**yend** - endogenous explanatory variable, UE90"
   ]
  },
  {
   "cell_type": "code",
   "execution_count": 44,
   "metadata": {
    "collapsed": false
   },
   "outputs": [],
   "source": [
    "yend_names = ['UE90']\n",
    "yend = np.array([db.by_col(var) for var in yend_names]).T"
   ]
  },
  {
   "cell_type": "code",
   "execution_count": 45,
   "metadata": {
    "collapsed": false
   },
   "outputs": [
    {
     "data": {
      "text/plain": [
       "(3085, 1)"
      ]
     },
     "execution_count": 45,
     "metadata": {},
     "output_type": "execute_result"
    }
   ],
   "source": [
    "yend.shape"
   ]
  },
  {
   "cell_type": "markdown",
   "metadata": {},
   "source": [
    "**q** - array of instruments"
   ]
  },
  {
   "cell_type": "code",
   "execution_count": 46,
   "metadata": {
    "collapsed": false
   },
   "outputs": [],
   "source": [
    "q_names = ['FH90','FP89','GI89']\n",
    "q = np.array([db.by_col(var) for var in q_names]).T"
   ]
  },
  {
   "cell_type": "code",
   "execution_count": 47,
   "metadata": {
    "collapsed": false
   },
   "outputs": [
    {
     "data": {
      "text/plain": [
       "(3085, 3)"
      ]
     },
     "execution_count": 47,
     "metadata": {},
     "output_type": "execute_result"
    }
   ],
   "source": [
    "q.shape"
   ]
  },
  {
   "cell_type": "markdown",
   "metadata": {},
   "source": [
    "**Creating the model weights, queen contiguity for natregimes.shp**, using FIPSNO as the ID variable"
   ]
  },
  {
   "cell_type": "code",
   "execution_count": 48,
   "metadata": {
    "collapsed": false
   },
   "outputs": [],
   "source": [
    "w = pysal.queen_from_shapefile('data/natregimes.shp',idVariable=\"FIPSNO\")"
   ]
  },
  {
   "cell_type": "code",
   "execution_count": 49,
   "metadata": {
    "collapsed": false
   },
   "outputs": [
    {
     "data": {
      "text/plain": [
       "3085"
      ]
     },
     "execution_count": 49,
     "metadata": {},
     "output_type": "execute_result"
    }
   ],
   "source": [
    "w.n"
   ]
  },
  {
   "cell_type": "markdown",
   "metadata": {},
   "source": [
    "row-standardize"
   ]
  },
  {
   "cell_type": "code",
   "execution_count": 50,
   "metadata": {
    "collapsed": false
   },
   "outputs": [],
   "source": [
    "w.transform = 'r'"
   ]
  },
  {
   "cell_type": "markdown",
   "metadata": {},
   "source": [
    "**Creating the kernel weights, triangular with k=20**"
   ]
  },
  {
   "cell_type": "markdown",
   "metadata": {},
   "source": [
    "since natregimes.shp coordinates are in lat-lon, use **radius** to get great circle distance\n",
    "\n",
    "note that **diagonal = True** to ensure that the value of 1 is on the diagonal"
   ]
  },
  {
   "cell_type": "code",
   "execution_count": 51,
   "metadata": {
    "collapsed": false
   },
   "outputs": [],
   "source": [
    "kw = pysal.adaptive_kernelW_from_shapefile('data/natregimes.shp',\n",
    "                                             k=20,radius=pysal.cg.RADIUS_EARTH_MILES,\n",
    "                                             diagonal=True,idVariable='FIPSNO')"
   ]
  },
  {
   "cell_type": "markdown",
   "metadata": {},
   "source": [
    "## Basic Two Stage Least Squares##"
   ]
  },
  {
   "cell_type": "markdown",
   "metadata": {},
   "source": [
    "**default settings** including variable names and data set name"
   ]
  },
  {
   "cell_type": "code",
   "execution_count": 52,
   "metadata": {
    "collapsed": false
   },
   "outputs": [],
   "source": [
    "reg1 = pysal.spreg.TSLS(y,x,yend,q,name_y=y_name,name_x=x_names,\n",
    "                        name_yend=yend_names,name_q=q_names,name_ds='nat.dbf')"
   ]
  },
  {
   "cell_type": "markdown",
   "metadata": {},
   "source": [
    "regression coefficients, in alphabetical order of the variable names"
   ]
  },
  {
   "cell_type": "code",
   "execution_count": 53,
   "metadata": {
    "collapsed": false
   },
   "outputs": [
    {
     "data": {
      "text/plain": [
       "array([[ 15.64555155],\n",
       "       [  5.72924882],\n",
       "       [ -0.09837584],\n",
       "       [  1.8770506 ],\n",
       "       [ -0.91445539]])"
      ]
     },
     "execution_count": 53,
     "metadata": {},
     "output_type": "execute_result"
    }
   ],
   "source": [
    "reg1.betas"
   ]
  },
  {
   "cell_type": "markdown",
   "metadata": {},
   "source": [
    "pretty listing"
   ]
  },
  {
   "cell_type": "code",
   "execution_count": 54,
   "metadata": {
    "collapsed": false
   },
   "outputs": [
    {
     "name": "stdout",
     "output_type": "stream",
     "text": [
      "REGRESSION\n",
      "----------\n",
      "SUMMARY OF OUTPUT: TWO STAGE LEAST SQUARES\n",
      "------------------------------------------\n",
      "Data set            :     nat.dbf\n",
      "Dependent Variable  :        HR90                Number of Observations:        3085\n",
      "Mean dependent var  :      6.1829                Number of Variables   :           5\n",
      "S.D. dependent var  :      6.6414                Degrees of Freedom    :        3080\n",
      "Pseudo R-squared    :      0.3570\n",
      "\n",
      "------------------------------------------------------------------------------------\n",
      "            Variable     Coefficient       Std.Error     z-Statistic     Probability\n",
      "------------------------------------------------------------------------------------\n",
      "            CONSTANT      15.6455516       1.3545018      11.5507796       0.0000000\n",
      "                MA90      -0.0983758       0.0299492      -3.2847583       0.0010207\n",
      "                PS90       1.8770506       0.1070934      17.5272273       0.0000000\n",
      "                RD90       5.7292488       0.2129126      26.9089171       0.0000000\n",
      "                UE90      -0.9144554       0.0986831      -9.2665854       0.0000000\n",
      "------------------------------------------------------------------------------------\n",
      "Instrumented: UE90\n",
      "Instruments: FH90, FP89, GI89\n",
      "================================ END OF REPORT =====================================\n"
     ]
    }
   ],
   "source": [
    "print reg1.summary"
   ]
  },
  {
   "cell_type": "markdown",
   "metadata": {},
   "source": [
    "## The Two Stages of 2SLS##"
   ]
  },
  {
   "cell_type": "markdown",
   "metadata": {},
   "source": [
    "create a matrix with all the instruments, i.e., both **x** and **q**"
   ]
  },
  {
   "cell_type": "code",
   "execution_count": 55,
   "metadata": {
    "collapsed": false
   },
   "outputs": [],
   "source": [
    "bigx = np.hstack((x,q))"
   ]
  },
  {
   "cell_type": "code",
   "execution_count": 56,
   "metadata": {
    "collapsed": false
   },
   "outputs": [
    {
     "data": {
      "text/plain": [
       "(3085, 6)"
      ]
     },
     "execution_count": 56,
     "metadata": {},
     "output_type": "execute_result"
    }
   ],
   "source": [
    "bigx.shape"
   ]
  },
  {
   "cell_type": "markdown",
   "metadata": {},
   "source": [
    "OLS regression of endogenous variable on all the instruments (**x** and **q**)"
   ]
  },
  {
   "cell_type": "code",
   "execution_count": 57,
   "metadata": {
    "collapsed": false
   },
   "outputs": [],
   "source": [
    "step1 = pysal.spreg.OLS(yend,bigx)"
   ]
  },
  {
   "cell_type": "markdown",
   "metadata": {},
   "source": [
    "predicted values for endogenous variable"
   ]
  },
  {
   "cell_type": "code",
   "execution_count": 58,
   "metadata": {
    "collapsed": false
   },
   "outputs": [],
   "source": [
    "y2 = step1.predy"
   ]
  },
  {
   "cell_type": "markdown",
   "metadata": {},
   "source": [
    "replace the endogenous variable by its predicted value"
   ]
  },
  {
   "cell_type": "code",
   "execution_count": 59,
   "metadata": {
    "collapsed": false
   },
   "outputs": [],
   "source": [
    "newx = np.hstack((x,y2))"
   ]
  },
  {
   "cell_type": "markdown",
   "metadata": {},
   "source": [
    "second step OLS regression"
   ]
  },
  {
   "cell_type": "code",
   "execution_count": 60,
   "metadata": {
    "collapsed": false
   },
   "outputs": [],
   "source": [
    "step2 = pysal.spreg.OLS(y,newx)"
   ]
  },
  {
   "cell_type": "code",
   "execution_count": 61,
   "metadata": {
    "collapsed": false
   },
   "outputs": [
    {
     "name": "stdout",
     "output_type": "stream",
     "text": [
      "REGRESSION\n",
      "----------\n",
      "SUMMARY OF OUTPUT: ORDINARY LEAST SQUARES\n",
      "-----------------------------------------\n",
      "Data set            :     unknown\n",
      "Dependent Variable  :     dep_var                Number of Observations:        3085\n",
      "Mean dependent var  :      6.1829                Number of Variables   :           5\n",
      "S.D. dependent var  :      6.6414                Degrees of Freedom    :        3080\n",
      "R-squared           :      0.4027\n",
      "Adjusted R-squared  :      0.4019\n",
      "Sum squared residual:   81252.812                F-statistic           :    519.1009\n",
      "Sigma-square        :      26.381                Prob(F-statistic)     :           0\n",
      "S.E. of regression  :       5.136                Log likelihood        :   -9422.964\n",
      "Sigma-square ML     :      26.338                Akaike info criterion :   18855.928\n",
      "S.E of regression ML:      5.1321                Schwarz criterion     :   18886.100\n",
      "\n",
      "------------------------------------------------------------------------------------\n",
      "            Variable     Coefficient       Std.Error     t-Statistic     Probability\n",
      "------------------------------------------------------------------------------------\n",
      "            CONSTANT      15.6455516       1.2962099      12.0702300       0.0000000\n",
      "               var_1       5.7292488       0.2037498      28.1190386       0.0000000\n",
      "               var_2      -0.0983758       0.0286603      -3.4324773       0.0006060\n",
      "               var_3       1.8770506       0.1024846      18.3154447       0.0000000\n",
      "               var_4      -0.9144554       0.0944362      -9.6833132       0.0000000\n",
      "------------------------------------------------------------------------------------\n",
      "\n",
      "REGRESSION DIAGNOSTICS\n",
      "MULTICOLLINEARITY CONDITION NUMBER           30.224\n",
      "\n",
      "TEST ON NORMALITY OF ERRORS\n",
      "TEST                             DF        VALUE           PROB\n",
      "Jarque-Bera                       2       56513.324           0.0000\n",
      "\n",
      "DIAGNOSTICS FOR HETEROSKEDASTICITY\n",
      "RANDOM COEFFICIENTS\n",
      "TEST                             DF        VALUE           PROB\n",
      "Breusch-Pagan test                4        1350.019           0.0000\n",
      "Koenker-Bassett test              4         120.991           0.0000\n",
      "================================ END OF REPORT =====================================\n"
     ]
    }
   ],
   "source": [
    "print step2.summary"
   ]
  },
  {
   "cell_type": "markdown",
   "metadata": {},
   "source": [
    "ignore measure of fit and diagnostics, but the coefficient estimates match, the estimated standard\n",
    "errors do not, because they are based on the wrong residuals"
   ]
  },
  {
   "cell_type": "markdown",
   "metadata": {},
   "source": [
    "##2SLS with Spatial Diagnostics##"
   ]
  },
  {
   "cell_type": "markdown",
   "metadata": {},
   "source": [
    "set **spat_diag = True** and specify a weights object **w** (and, optionally, its name in **name_w**)"
   ]
  },
  {
   "cell_type": "code",
   "execution_count": 62,
   "metadata": {
    "collapsed": false
   },
   "outputs": [],
   "source": [
    "reg2 = pysal.spreg.TSLS(y,x,yend,q,w=w,spat_diag=True,\n",
    "                        name_y=y_name,name_x=x_names,name_yend=yend_names,\n",
    "                        name_q=q_names,name_w=\"nat_queen\",name_ds=\"nat.dbf\")"
   ]
  },
  {
   "cell_type": "code",
   "execution_count": 63,
   "metadata": {
    "collapsed": false
   },
   "outputs": [
    {
     "name": "stdout",
     "output_type": "stream",
     "text": [
      "REGRESSION\n",
      "----------\n",
      "SUMMARY OF OUTPUT: TWO STAGE LEAST SQUARES\n",
      "------------------------------------------\n",
      "Data set            :     nat.dbf\n",
      "Weights matrix      :   nat_queen\n",
      "Dependent Variable  :        HR90                Number of Observations:        3085\n",
      "Mean dependent var  :      6.1829                Number of Variables   :           5\n",
      "S.D. dependent var  :      6.6414                Degrees of Freedom    :        3080\n",
      "Pseudo R-squared    :      0.3570\n",
      "\n",
      "------------------------------------------------------------------------------------\n",
      "            Variable     Coefficient       Std.Error     z-Statistic     Probability\n",
      "------------------------------------------------------------------------------------\n",
      "            CONSTANT      15.6455516       1.3545018      11.5507796       0.0000000\n",
      "                MA90      -0.0983758       0.0299492      -3.2847583       0.0010207\n",
      "                PS90       1.8770506       0.1070934      17.5272273       0.0000000\n",
      "                RD90       5.7292488       0.2129126      26.9089171       0.0000000\n",
      "                UE90      -0.9144554       0.0986831      -9.2665854       0.0000000\n",
      "------------------------------------------------------------------------------------\n",
      "Instrumented: UE90\n",
      "Instruments: FH90, FP89, GI89\n",
      "\n",
      "DIAGNOSTICS FOR SPATIAL DEPENDENCE\n",
      "TEST                           MI/DF       VALUE           PROB\n",
      "Anselin-Kelejian Test             1         124.415          0.0000\n",
      "================================ END OF REPORT =====================================\n"
     ]
    }
   ],
   "source": [
    "print reg2.summary"
   ]
  },
  {
   "cell_type": "markdown",
   "metadata": {},
   "source": [
    "##2SLS with White Standard Errors##"
   ]
  },
  {
   "cell_type": "markdown",
   "metadata": {},
   "source": [
    "set **robust = 'white'**"
   ]
  },
  {
   "cell_type": "code",
   "execution_count": 64,
   "metadata": {
    "collapsed": false
   },
   "outputs": [],
   "source": [
    "reg3 = pysal.spreg.TSLS(y,x,yend,q,robust='white',\n",
    "                        name_y=y_name,name_x=x_names,name_yend=yend_names,\n",
    "                        name_q=q_names,name_ds=\"nat.dbf\")"
   ]
  },
  {
   "cell_type": "code",
   "execution_count": 65,
   "metadata": {
    "collapsed": false
   },
   "outputs": [
    {
     "name": "stdout",
     "output_type": "stream",
     "text": [
      "REGRESSION\n",
      "----------\n",
      "SUMMARY OF OUTPUT: TWO STAGE LEAST SQUARES\n",
      "------------------------------------------\n",
      "Data set            :     nat.dbf\n",
      "Dependent Variable  :        HR90                Number of Observations:        3085\n",
      "Mean dependent var  :      6.1829                Number of Variables   :           5\n",
      "S.D. dependent var  :      6.6414                Degrees of Freedom    :        3080\n",
      "Pseudo R-squared    :      0.3570\n",
      "\n",
      "White Standard Errors\n",
      "------------------------------------------------------------------------------------\n",
      "            Variable     Coefficient       Std.Error     z-Statistic     Probability\n",
      "------------------------------------------------------------------------------------\n",
      "            CONSTANT      15.6455516       1.5393092      10.1640082       0.0000000\n",
      "                MA90      -0.0983758       0.0316213      -3.1110577       0.0018642\n",
      "                PS90       1.8770506       0.1688432      11.1171261       0.0000000\n",
      "                RD90       5.7292488       0.3053397      18.7635242       0.0000000\n",
      "                UE90      -0.9144554       0.1384631      -6.6043272       0.0000000\n",
      "------------------------------------------------------------------------------------\n",
      "Instrumented: UE90\n",
      "Instruments: FH90, FP89, GI89\n",
      "================================ END OF REPORT =====================================\n"
     ]
    }
   ],
   "source": [
    "print reg3.summary"
   ]
  },
  {
   "cell_type": "markdown",
   "metadata": {},
   "source": [
    "##2SLS with HAC Standard Errors##"
   ]
  },
  {
   "cell_type": "markdown",
   "metadata": {},
   "source": [
    "set **robust = 'hac'** and specify a kernel weights object as **gkw** (**name_gwk** is optional)"
   ]
  },
  {
   "cell_type": "code",
   "execution_count": 66,
   "metadata": {
    "collapsed": false
   },
   "outputs": [],
   "source": [
    "reg4 = pysal.spreg.TSLS(y,x,yend,q,robust='hac',gwk=kw,\n",
    "                        name_y=y_name,name_x=x_names,name_yend=yend_names,\n",
    "                        name_q=q_names,name_gwk=\"nat_k20_triang\",\n",
    "                        name_ds=\"nat.dbf\")"
   ]
  },
  {
   "cell_type": "code",
   "execution_count": 67,
   "metadata": {
    "collapsed": false
   },
   "outputs": [
    {
     "name": "stdout",
     "output_type": "stream",
     "text": [
      "REGRESSION\n",
      "----------\n",
      "SUMMARY OF OUTPUT: TWO STAGE LEAST SQUARES\n",
      "------------------------------------------\n",
      "Data set            :     nat.dbf\n",
      "Dependent Variable  :        HR90                Number of Observations:        3085\n",
      "Mean dependent var  :      6.1829                Number of Variables   :           5\n",
      "S.D. dependent var  :      6.6414                Degrees of Freedom    :        3080\n",
      "Pseudo R-squared    :      0.3570\n",
      "\n",
      "HAC Standard Errors; Kernel Weights: nat_k20_triang\n",
      "------------------------------------------------------------------------------------\n",
      "            Variable     Coefficient       Std.Error     z-Statistic     Probability\n",
      "------------------------------------------------------------------------------------\n",
      "            CONSTANT      15.6455516       1.6405678       9.5366688       0.0000000\n",
      "                MA90      -0.0983758       0.0341965      -2.8767776       0.0040176\n",
      "                PS90       1.8770506       0.1982054       9.4702289       0.0000000\n",
      "                RD90       5.7292488       0.3304847      17.3358973       0.0000000\n",
      "                UE90      -0.9144554       0.1429221      -6.3982775       0.0000000\n",
      "------------------------------------------------------------------------------------\n",
      "Instrumented: UE90\n",
      "Instruments: FH90, FP89, GI89\n",
      "================================ END OF REPORT =====================================\n"
     ]
    }
   ],
   "source": [
    "print reg4.summary"
   ]
  },
  {
   "cell_type": "markdown",
   "metadata": {},
   "source": [
    "##Practice##"
   ]
  },
  {
   "cell_type": "markdown",
   "metadata": {},
   "source": [
    "Repeat the 2SLS regression with spatial diagnostics using the natregimes data set, but for a different year, say using HR60.\n",
    "\n",
    "Check the effect of HAC estimates on the standard errors.\n",
    "\n",
    "Create a different model weights, using k=6 nearest neighbors and a kernel weights using quadratic (Epanechnicov) kernel."
   ]
  },
  {
   "cell_type": "code",
   "execution_count": null,
   "metadata": {
    "collapsed": false
   },
   "outputs": [],
   "source": []
  }
 ],
 "metadata": {
  "kernelspec": {
   "display_name": "Python 2",
   "language": "python",
   "name": "python2"
  },
  "language_info": {
   "codemirror_mode": {
    "name": "ipython",
    "version": 2
   },
   "file_extension": ".py",
   "mimetype": "text/x-python",
   "name": "python",
   "nbconvert_exporter": "python",
   "pygments_lexer": "ipython2",
   "version": "2.7.10"
  }
 },
 "nbformat": 4,
 "nbformat_minor": 0
}
