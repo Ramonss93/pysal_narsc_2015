{
 "cells": [
  {
   "cell_type": "markdown",
   "metadata": {},
   "source": [
    "This notebook contains the PySAL/spreg code for Chapter 7 - Spatial 2SLS \n",
    "\n",
    "in\n",
    "Modern Spatial Econometrics in Practice: A Guide to GeoDa, GeoDaSpace and PySAL.\n",
    "\n",
    "by Luc Anselin and Sergio J. Rey\n",
    "\n",
    "(c) 2014 Luc Anselin and Sergio J. Rey, All Rights Reserved"
   ]
  },
  {
   "cell_type": "code",
   "execution_count": 1,
   "metadata": {
    "collapsed": false
   },
   "outputs": [],
   "source": [
    "__author__ = \"Luc Anselin luc.anselin@asu.edu\""
   ]
  },
  {
   "cell_type": "markdown",
   "metadata": {},
   "source": [
    "##Basic Regression Setup##"
   ]
  },
  {
   "cell_type": "markdown",
   "metadata": {},
   "source": [
    "##Spatial Lag without Endogenous Variables##"
   ]
  },
  {
   "cell_type": "markdown",
   "metadata": {},
   "source": [
    "**Creating arrays for y and x using the Baltimore example - see also Chapter 5 Notebook**"
   ]
  },
  {
   "cell_type": "markdown",
   "metadata": {},
   "source": [
    "Preliminaries, import **numpy** and **pysal**"
   ]
  },
  {
   "cell_type": "code",
   "execution_count": 2,
   "metadata": {
    "collapsed": false
   },
   "outputs": [
    {
     "name": "stdout",
     "output_type": "stream",
     "text": [
      "Populating the interactive namespace from numpy and matplotlib\n"
     ]
    }
   ],
   "source": [
    "%pylab inline"
   ]
  },
  {
   "cell_type": "code",
   "execution_count": 3,
   "metadata": {
    "collapsed": false
   },
   "outputs": [],
   "source": [
    "import numpy as np\n",
    "import pysal"
   ]
  },
  {
   "cell_type": "markdown",
   "metadata": {},
   "source": [
    "the **baltimore** sample data set"
   ]
  },
  {
   "cell_type": "code",
   "execution_count": 4,
   "metadata": {
    "collapsed": false
   },
   "outputs": [],
   "source": [
    "db = pysal.open('data/baltim.dbf','r')\n",
    "y_name = \"PRICE\"\n",
    "y = np.array([db.by_col(y_name)]).T\n",
    "x_names = ['NROOM','NBATH','PATIO','FIREPL','AC','GAR','AGE',\n",
    "           'LOTSZ','SQFT']\n",
    "x = np.array([db.by_col(var) for var in x_names]).T"
   ]
  },
  {
   "cell_type": "markdown",
   "metadata": {},
   "source": [
    "model weights - k nearest neighbors with k=4"
   ]
  },
  {
   "cell_type": "code",
   "execution_count": 5,
   "metadata": {
    "collapsed": false
   },
   "outputs": [],
   "source": [
    "w = pysal.knnW_from_shapefile('data/baltim.shp',\n",
    "                                k=4,idVariable='STATION')\n",
    "w.transform = 'r'"
   ]
  },
  {
   "cell_type": "markdown",
   "metadata": {},
   "source": [
    "kernel weights - triangular with k=12"
   ]
  },
  {
   "cell_type": "code",
   "execution_count": 6,
   "metadata": {
    "collapsed": false
   },
   "outputs": [],
   "source": [
    "kw12 = pysal.adaptive_kernelW_from_shapefile('data/baltim.shp',\n",
    "                                             k=12,diagonal=True,idVariable='STATION')"
   ]
  },
  {
   "cell_type": "markdown",
   "metadata": {},
   "source": [
    "##Basic Spatial 2SLS##"
   ]
  },
  {
   "cell_type": "markdown",
   "metadata": {},
   "source": [
    "default settings"
   ]
  },
  {
   "cell_type": "code",
   "execution_count": 7,
   "metadata": {
    "collapsed": false
   },
   "outputs": [],
   "source": [
    "reg1 = pysal.spreg.GM_Lag(y,x,w=w,name_y=y_name,name_x=x_names,\n",
    "                          name_w='baltim_k4',name_ds='baltim')"
   ]
  },
  {
   "cell_type": "markdown",
   "metadata": {},
   "source": [
    "coefficients in the order of variables in **x_names** - last one is spatial autoregressive coefficient"
   ]
  },
  {
   "cell_type": "code",
   "execution_count": 8,
   "metadata": {
    "collapsed": false
   },
   "outputs": [
    {
     "data": {
      "text/plain": [
       "['__doc__',\n",
       " '__init__',\n",
       " '__module__',\n",
       " '__summary',\n",
       " '_cache',\n",
       " 'betas',\n",
       " 'e_pred',\n",
       " 'h',\n",
       " 'hth',\n",
       " 'hthi',\n",
       " 'htz',\n",
       " 'k',\n",
       " 'kstar',\n",
       " 'mean_y',\n",
       " 'n',\n",
       " 'name_ds',\n",
       " 'name_gwk',\n",
       " 'name_h',\n",
       " 'name_q',\n",
       " 'name_w',\n",
       " 'name_x',\n",
       " 'name_y',\n",
       " 'name_yend',\n",
       " 'name_z',\n",
       " 'pfora1a2',\n",
       " 'pr2',\n",
       " 'pr2_e',\n",
       " 'predy',\n",
       " 'predy_e',\n",
       " 'q',\n",
       " 'rho',\n",
       " 'robust',\n",
       " 'sig2',\n",
       " 'sig2n',\n",
       " 'sig2n_k',\n",
       " 'std_err',\n",
       " 'std_y',\n",
       " 'summary',\n",
       " 'title',\n",
       " 'u',\n",
       " 'utu',\n",
       " 'varb',\n",
       " 'vm',\n",
       " 'x',\n",
       " 'y',\n",
       " 'yend',\n",
       " 'z',\n",
       " 'z_stat',\n",
       " 'zthhthi']"
      ]
     },
     "execution_count": 8,
     "metadata": {},
     "output_type": "execute_result"
    }
   ],
   "source": [
    "dir(reg1)"
   ]
  },
  {
   "cell_type": "code",
   "execution_count": 9,
   "metadata": {
    "collapsed": false
   },
   "outputs": [
    {
     "data": {
      "text/plain": [
       "array([[-0.062598  ],\n",
       "       [ 1.01935457],\n",
       "       [ 5.5644252 ],\n",
       "       [ 7.07238883],\n",
       "       [ 7.30516192],\n",
       "       [ 6.12992825],\n",
       "       [ 3.41029693],\n",
       "       [-0.09081007],\n",
       "       [ 0.06599566],\n",
       "       [ 0.06279926],\n",
       "       [ 0.50431292]])"
      ]
     },
     "execution_count": 9,
     "metadata": {},
     "output_type": "execute_result"
    }
   ],
   "source": [
    "reg1.betas"
   ]
  },
  {
   "cell_type": "code",
   "execution_count": 10,
   "metadata": {
    "collapsed": false
   },
   "outputs": [
    {
     "name": "stdout",
     "output_type": "stream",
     "text": [
      "REGRESSION\n",
      "----------\n",
      "SUMMARY OF OUTPUT: SPATIAL TWO STAGE LEAST SQUARES\n",
      "--------------------------------------------------\n",
      "Data set            :      baltim\n",
      "Weights matrix      :   baltim_k4\n",
      "Dependent Variable  :       PRICE                Number of Observations:         211\n",
      "Mean dependent var  :     44.3072                Number of Variables   :          11\n",
      "S.D. dependent var  :     23.6061                Degrees of Freedom    :         200\n",
      "Pseudo R-squared    :      0.7083\n",
      "Spatial Pseudo R-squared:  0.6820\n",
      "\n",
      "------------------------------------------------------------------------------------\n",
      "            Variable     Coefficient       Std.Error     z-Statistic     Probability\n",
      "------------------------------------------------------------------------------------\n",
      "            CONSTANT      -0.0625980       5.8254085      -0.0107457       0.9914263\n",
      "                  AC       6.1299283       2.4221367       2.5307937       0.0113805\n",
      "                 AGE      -0.0908101       0.0543237      -1.6716465       0.0945941\n",
      "              FIREPL       7.3051619       2.5031259       2.9184157       0.0035181\n",
      "                 GAR       3.4102969       1.7752218       1.9210539       0.0547249\n",
      "               LOTSZ       0.0659957       0.0153611       4.2962809       0.0000174\n",
      "               NBATH       5.5644252       1.7986364       3.0936910       0.0019768\n",
      "               NROOM       1.0193546       1.1007833       0.9260266       0.3544322\n",
      "               PATIO       7.0723888       2.8234577       2.5048680       0.0122497\n",
      "                SQFT       0.0627993       0.1695211       0.3704509       0.7110465\n",
      "             W_PRICE       0.5043129       0.0756850       6.6633137       0.0000000\n",
      "------------------------------------------------------------------------------------\n",
      "Instrumented: W_PRICE\n",
      "Instruments: W_AC, W_AGE, W_FIREPL, W_GAR, W_LOTSZ, W_NBATH, W_NROOM,\n",
      "             W_PATIO, W_SQFT\n",
      "================================ END OF REPORT =====================================\n"
     ]
    }
   ],
   "source": [
    "print reg1.summary"
   ]
  },
  {
   "cell_type": "markdown",
   "metadata": {},
   "source": [
    "using second order spatial lags for the instruments, set **w_lags = 2**"
   ]
  },
  {
   "cell_type": "code",
   "execution_count": 11,
   "metadata": {
    "collapsed": false
   },
   "outputs": [],
   "source": [
    "reg2 = pysal.spreg.GM_Lag(y,x,w=w,w_lags=2,name_y=y_name,\n",
    "                          name_x=x_names,name_w='baltim_k4',\n",
    "                          name_ds='baltim')"
   ]
  },
  {
   "cell_type": "code",
   "execution_count": 12,
   "metadata": {
    "collapsed": false
   },
   "outputs": [
    {
     "name": "stdout",
     "output_type": "stream",
     "text": [
      "REGRESSION\n",
      "----------\n",
      "SUMMARY OF OUTPUT: SPATIAL TWO STAGE LEAST SQUARES\n",
      "--------------------------------------------------\n",
      "Data set            :      baltim\n",
      "Weights matrix      :   baltim_k4\n",
      "Dependent Variable  :       PRICE                Number of Observations:         211\n",
      "Mean dependent var  :     44.3072                Number of Variables   :          11\n",
      "S.D. dependent var  :     23.6061                Degrees of Freedom    :         200\n",
      "Pseudo R-squared    :      0.7080\n",
      "Spatial Pseudo R-squared:  0.6808\n",
      "\n",
      "------------------------------------------------------------------------------------\n",
      "            Variable     Coefficient       Std.Error     z-Statistic     Probability\n",
      "------------------------------------------------------------------------------------\n",
      "            CONSTANT      -0.4328107       5.7762571      -0.0749293       0.9402710\n",
      "                  AC       6.1025702       2.4229066       2.5186981       0.0117790\n",
      "                 AGE      -0.0888641       0.0542009      -1.6395316       0.1011026\n",
      "              FIREPL       7.2437962       2.5012790       2.8960369       0.0037791\n",
      "                 GAR       3.3786940       1.7750369       1.9034500       0.0569818\n",
      "               LOTSZ       0.0655369       0.0153398       4.2723431       0.0000193\n",
      "               NBATH       5.5630927       1.7997173       3.0910926       0.0019942\n",
      "               NROOM       1.0319982       1.1011225       0.9372238       0.3486435\n",
      "               PATIO       7.0206079       2.8230413       2.4868952       0.0128863\n",
      "                SQFT       0.0608166       0.1695715       0.3586486       0.7198580\n",
      "             W_PRICE       0.5123147       0.0738216       6.9399055       0.0000000\n",
      "------------------------------------------------------------------------------------\n",
      "Instrumented: W_PRICE\n",
      "Instruments: W2_AC, W2_AGE, W2_FIREPL, W2_GAR, W2_LOTSZ, W2_NBATH, W2_NROOM,\n",
      "             W2_PATIO, W2_SQFT, W_AC, W_AGE, W_FIREPL, W_GAR, W_LOTSZ,\n",
      "             W_NBATH, W_NROOM, W_PATIO, W_SQFT\n",
      "================================ END OF REPORT =====================================\n"
     ]
    }
   ],
   "source": [
    "print reg2.summary"
   ]
  },
  {
   "cell_type": "markdown",
   "metadata": {},
   "source": [
    "up to third order spatial lags, set **w_lags=3**"
   ]
  },
  {
   "cell_type": "code",
   "execution_count": 13,
   "metadata": {
    "collapsed": false
   },
   "outputs": [],
   "source": [
    "reg2a = pysal.spreg.GM_Lag(y,x,w=w,w_lags=3,name_y=y_name,\n",
    "                          name_x=x_names,name_w='baltim_k4',\n",
    "                          name_ds='baltim')"
   ]
  },
  {
   "cell_type": "code",
   "execution_count": 14,
   "metadata": {
    "collapsed": false
   },
   "outputs": [
    {
     "name": "stdout",
     "output_type": "stream",
     "text": [
      "REGRESSION\n",
      "----------\n",
      "SUMMARY OF OUTPUT: SPATIAL TWO STAGE LEAST SQUARES\n",
      "--------------------------------------------------\n",
      "Data set            :      baltim\n",
      "Weights matrix      :   baltim_k4\n",
      "Dependent Variable  :       PRICE                Number of Observations:         211\n",
      "Mean dependent var  :     44.3072                Number of Variables   :          11\n",
      "S.D. dependent var  :     23.6061                Degrees of Freedom    :         200\n",
      "Pseudo R-squared    :      0.7084\n",
      "Spatial Pseudo R-squared:  0.6820\n",
      "\n",
      "------------------------------------------------------------------------------------\n",
      "            Variable     Coefficient       Std.Error     z-Statistic     Probability\n",
      "------------------------------------------------------------------------------------\n",
      "            CONSTANT      -0.0440376       5.7436761      -0.0076671       0.9938826\n",
      "                  AC       6.1312998       2.4210039       2.5325444       0.0113238\n",
      "                 AGE      -0.0909076       0.0540817      -1.6809322       0.0927761\n",
      "              FIREPL       7.3082385       2.4978703       2.9257878       0.0034359\n",
      "                 GAR       3.4118813       1.7732335       1.9241015       0.0543419\n",
      "               LOTSZ       0.0660187       0.0153134       4.3111560       0.0000162\n",
      "               NBATH       5.5644920       1.7985819       3.0938219       0.0019760\n",
      "               NROOM       1.0187207       1.1002520       0.9258976       0.3544992\n",
      "               PATIO       7.0749848       2.8201064       2.5087652       0.0121154\n",
      "                SQFT       0.0628987       0.1694365       0.3712227       0.7104717\n",
      "             W_PRICE       0.5039118       0.0727121       6.9302290       0.0000000\n",
      "------------------------------------------------------------------------------------\n",
      "Instrumented: W_PRICE\n",
      "Instruments: W2_AC, W2_AGE, W2_FIREPL, W2_GAR, W2_LOTSZ, W2_NBATH, W2_NROOM,\n",
      "             W2_PATIO, W2_SQFT, W3_AC, W3_AGE, W3_FIREPL, W3_GAR, W3_LOTSZ,\n",
      "             W3_NBATH, W3_NROOM, W3_PATIO, W3_SQFT, W_AC, W_AGE, W_FIREPL,\n",
      "             W_GAR, W_LOTSZ, W_NBATH, W_NROOM, W_PATIO, W_SQFT\n",
      "================================ END OF REPORT =====================================\n"
     ]
    }
   ],
   "source": [
    "print reg2a.summary"
   ]
  },
  {
   "cell_type": "markdown",
   "metadata": {},
   "source": [
    "###Direct, Indirect and Total Effects###"
   ]
  },
  {
   "cell_type": "markdown",
   "metadata": {},
   "source": [
    "extract the regression coefficients"
   ]
  },
  {
   "cell_type": "code",
   "execution_count": 15,
   "metadata": {
    "collapsed": false
   },
   "outputs": [],
   "source": [
    "b = reg1.betas[:-1]"
   ]
  },
  {
   "cell_type": "code",
   "execution_count": 16,
   "metadata": {
    "collapsed": false
   },
   "outputs": [
    {
     "data": {
      "text/plain": [
       "array([[-0.062598  ],\n",
       "       [ 1.01935457],\n",
       "       [ 5.5644252 ],\n",
       "       [ 7.07238883],\n",
       "       [ 7.30516192],\n",
       "       [ 6.12992825],\n",
       "       [ 3.41029693],\n",
       "       [-0.09081007],\n",
       "       [ 0.06599566],\n",
       "       [ 0.06279926]])"
      ]
     },
     "execution_count": 16,
     "metadata": {},
     "output_type": "execute_result"
    }
   ],
   "source": [
    "b"
   ]
  },
  {
   "cell_type": "markdown",
   "metadata": {},
   "source": [
    "extract the spatial autoregressive coefficient"
   ]
  },
  {
   "cell_type": "code",
   "execution_count": 17,
   "metadata": {
    "collapsed": false
   },
   "outputs": [],
   "source": [
    "rho = reg1.betas[-1]"
   ]
  },
  {
   "cell_type": "code",
   "execution_count": 18,
   "metadata": {
    "collapsed": false
   },
   "outputs": [
    {
     "data": {
      "text/plain": [
       "array([ 0.50431292])"
      ]
     },
     "execution_count": 18,
     "metadata": {},
     "output_type": "execute_result"
    }
   ],
   "source": [
    "rho"
   ]
  },
  {
   "cell_type": "markdown",
   "metadata": {},
   "source": [
    "total effect using the multiplier"
   ]
  },
  {
   "cell_type": "code",
   "execution_count": 19,
   "metadata": {
    "collapsed": false
   },
   "outputs": [],
   "source": [
    "btot = b / (1.0 - rho)"
   ]
  },
  {
   "cell_type": "code",
   "execution_count": 20,
   "metadata": {
    "collapsed": false
   },
   "outputs": [
    {
     "data": {
      "text/plain": [
       "array([[ -0.12628532],\n",
       "       [  2.05644774],\n",
       "       [ 11.22568142],\n",
       "       [ 14.26784998],\n",
       "       [ 14.73744683],\n",
       "       [ 12.3665283 ],\n",
       "       [  6.87993918],\n",
       "       [ -0.1832004 ],\n",
       "       [  0.13313977],\n",
       "       [  0.12669135]])"
      ]
     },
     "execution_count": 20,
     "metadata": {},
     "output_type": "execute_result"
    }
   ],
   "source": [
    "btot"
   ]
  },
  {
   "cell_type": "markdown",
   "metadata": {},
   "source": [
    "indirect effect"
   ]
  },
  {
   "cell_type": "code",
   "execution_count": 21,
   "metadata": {
    "collapsed": false
   },
   "outputs": [],
   "source": [
    "bind = btot - b"
   ]
  },
  {
   "cell_type": "markdown",
   "metadata": {},
   "source": [
    "summary of the results"
   ]
  },
  {
   "cell_type": "code",
   "execution_count": 22,
   "metadata": {
    "collapsed": false
   },
   "outputs": [
    {
     "name": "stdout",
     "output_type": "stream",
     "text": [
      "Variable       Direct       Indirect      Total\n",
      "  CONSTANT   -0.0625980   -0.0636873   -0.1262853\n",
      "     NROOM    1.0193546    1.0370932    2.0564477\n",
      "     NBATH    5.5644252    5.6612562   11.2256814\n",
      "     PATIO    7.0723888    7.1954611   14.2678500\n",
      "    FIREPL    7.3051619    7.4322849   14.7374468\n",
      "        AC    6.1299283    6.2366001   12.3665283\n",
      "       GAR    3.4102969    3.4696422    6.8799392\n",
      "       AGE   -0.0908101   -0.0923903   -0.1832004\n",
      "     LOTSZ    0.0659957    0.0671441    0.1331398\n",
      "      SQFT    0.0627993    0.0638921    0.1266913\n"
     ]
    }
   ],
   "source": [
    "varnames = [\"CONSTANT\"] + x_names\n",
    "print \"Variable       Direct       Indirect      Total\"\n",
    "for i in range(len(varnames)):\n",
    "    print \"%10s %12.7f %12.7f %12.7f\" % (varnames[i],b[i][0],bind[i][0],btot[i][0])"
   ]
  },
  {
   "cell_type": "markdown",
   "metadata": {},
   "source": [
    "##Spatial 2SLS with Spatial Diagnostics##"
   ]
  },
  {
   "cell_type": "markdown",
   "metadata": {},
   "source": [
    "specify the weights as **w=w**, set **spat_diag = True** and optionally specify a name for the weights"
   ]
  },
  {
   "cell_type": "code",
   "execution_count": 23,
   "metadata": {
    "collapsed": false
   },
   "outputs": [],
   "source": [
    "reg3 = pysal.spreg.GM_Lag(y,x,w=w,spat_diag=True,\n",
    "                          name_y=y_name,name_x=x_names,\n",
    "                          name_w='baltim_k4',name_ds='baltim')"
   ]
  },
  {
   "cell_type": "code",
   "execution_count": 24,
   "metadata": {
    "collapsed": false
   },
   "outputs": [
    {
     "name": "stdout",
     "output_type": "stream",
     "text": [
      "REGRESSION\n",
      "----------\n",
      "SUMMARY OF OUTPUT: SPATIAL TWO STAGE LEAST SQUARES\n",
      "--------------------------------------------------\n",
      "Data set            :      baltim\n",
      "Weights matrix      :   baltim_k4\n",
      "Dependent Variable  :       PRICE                Number of Observations:         211\n",
      "Mean dependent var  :     44.3072                Number of Variables   :          11\n",
      "S.D. dependent var  :     23.6061                Degrees of Freedom    :         200\n",
      "Pseudo R-squared    :      0.7083\n",
      "Spatial Pseudo R-squared:  0.6820\n",
      "\n",
      "------------------------------------------------------------------------------------\n",
      "            Variable     Coefficient       Std.Error     z-Statistic     Probability\n",
      "------------------------------------------------------------------------------------\n",
      "            CONSTANT      -0.0625980       5.8254085      -0.0107457       0.9914263\n",
      "                  AC       6.1299283       2.4221367       2.5307937       0.0113805\n",
      "                 AGE      -0.0908101       0.0543237      -1.6716465       0.0945941\n",
      "              FIREPL       7.3051619       2.5031259       2.9184157       0.0035181\n",
      "                 GAR       3.4102969       1.7752218       1.9210539       0.0547249\n",
      "               LOTSZ       0.0659957       0.0153611       4.2962809       0.0000174\n",
      "               NBATH       5.5644252       1.7986364       3.0936910       0.0019768\n",
      "               NROOM       1.0193546       1.1007833       0.9260266       0.3544322\n",
      "               PATIO       7.0723888       2.8234577       2.5048680       0.0122497\n",
      "                SQFT       0.0627993       0.1695211       0.3704509       0.7110465\n",
      "             W_PRICE       0.5043129       0.0756850       6.6633137       0.0000000\n",
      "------------------------------------------------------------------------------------\n",
      "Instrumented: W_PRICE\n",
      "Instruments: W_AC, W_AGE, W_FIREPL, W_GAR, W_LOTSZ, W_NBATH, W_NROOM,\n",
      "             W_PATIO, W_SQFT\n",
      "\n",
      "DIAGNOSTICS FOR SPATIAL DEPENDENCE\n",
      "TEST                           MI/DF       VALUE           PROB\n",
      "Anselin-Kelejian Test             1           3.808          0.0510\n",
      "================================ END OF REPORT =====================================\n"
     ]
    }
   ],
   "source": [
    "print reg3.summary"
   ]
  },
  {
   "cell_type": "markdown",
   "metadata": {},
   "source": [
    "##Spatial 2SLS with White Standard Errors##"
   ]
  },
  {
   "cell_type": "markdown",
   "metadata": {},
   "source": [
    "set **robust = 'white'**"
   ]
  },
  {
   "cell_type": "code",
   "execution_count": 25,
   "metadata": {
    "collapsed": false
   },
   "outputs": [],
   "source": [
    "reg4 = pysal.spreg.GM_Lag(y,x,w=w,robust='white',\n",
    "                          spat_diag=True,name_y=y_name,name_x=x_names,\n",
    "                          name_w='baltim_k4',name_ds='baltim')"
   ]
  },
  {
   "cell_type": "code",
   "execution_count": 26,
   "metadata": {
    "collapsed": false
   },
   "outputs": [
    {
     "name": "stdout",
     "output_type": "stream",
     "text": [
      "REGRESSION\n",
      "----------\n",
      "SUMMARY OF OUTPUT: SPATIAL TWO STAGE LEAST SQUARES\n",
      "--------------------------------------------------\n",
      "Data set            :      baltim\n",
      "Weights matrix      :   baltim_k4\n",
      "Dependent Variable  :       PRICE                Number of Observations:         211\n",
      "Mean dependent var  :     44.3072                Number of Variables   :          11\n",
      "S.D. dependent var  :     23.6061                Degrees of Freedom    :         200\n",
      "Pseudo R-squared    :      0.7083\n",
      "Spatial Pseudo R-squared:  0.6820\n",
      "\n",
      "White Standard Errors\n",
      "------------------------------------------------------------------------------------\n",
      "            Variable     Coefficient       Std.Error     z-Statistic     Probability\n",
      "------------------------------------------------------------------------------------\n",
      "            CONSTANT      -0.0625980       7.0759267      -0.0088466       0.9929415\n",
      "                  AC       6.1299283       2.6896173       2.2791080       0.0226606\n",
      "                 AGE      -0.0908101       0.0987981      -0.9191482       0.3580180\n",
      "              FIREPL       7.3051619       2.4393854       2.9946731       0.0027474\n",
      "                 GAR       3.4102969       2.3317110       1.4625728       0.1435843\n",
      "               LOTSZ       0.0659957       0.0250854       2.6308391       0.0085174\n",
      "               NBATH       5.5644252       2.1966956       2.5330888       0.0113062\n",
      "               NROOM       1.0193546       1.3880042       0.7344031       0.4627031\n",
      "               PATIO       7.0723888       3.1649223       2.2346169       0.0254425\n",
      "                SQFT       0.0627993       0.2244260       0.2798217       0.7796143\n",
      "             W_PRICE       0.5043129       0.1296471       3.8898897       0.0001003\n",
      "------------------------------------------------------------------------------------\n",
      "Instrumented: W_PRICE\n",
      "Instruments: W_AC, W_AGE, W_FIREPL, W_GAR, W_LOTSZ, W_NBATH, W_NROOM,\n",
      "             W_PATIO, W_SQFT\n",
      "\n",
      "DIAGNOSTICS FOR SPATIAL DEPENDENCE\n",
      "TEST                           MI/DF       VALUE           PROB\n",
      "Anselin-Kelejian Test             1           3.808          0.0510\n",
      "================================ END OF REPORT =====================================\n"
     ]
    }
   ],
   "source": [
    "print reg4.summary"
   ]
  },
  {
   "cell_type": "markdown",
   "metadata": {},
   "source": [
    "##Spatial 2SLS with HAC Standard Errors##"
   ]
  },
  {
   "cell_type": "markdown",
   "metadata": {},
   "source": [
    "set **robust = 'hac'** and specify the kernel weights **gwk** and optionally their name **name_gwk**"
   ]
  },
  {
   "cell_type": "code",
   "execution_count": 27,
   "metadata": {
    "collapsed": false
   },
   "outputs": [],
   "source": [
    "reg5 = pysal.spreg.GM_Lag(y,x,w=w,robust='hac',gwk=kw12,\n",
    "                          spat_diag=True,name_y=y_name,name_x=x_names,\n",
    "                          name_w='baltim_k4',name_gwk='baltim_tri_k12',\n",
    "                          name_ds='baltim')"
   ]
  },
  {
   "cell_type": "code",
   "execution_count": 28,
   "metadata": {
    "collapsed": false
   },
   "outputs": [
    {
     "name": "stdout",
     "output_type": "stream",
     "text": [
      "REGRESSION\n",
      "----------\n",
      "SUMMARY OF OUTPUT: SPATIAL TWO STAGE LEAST SQUARES\n",
      "--------------------------------------------------\n",
      "Data set            :      baltim\n",
      "Weights matrix      :   baltim_k4\n",
      "Dependent Variable  :       PRICE                Number of Observations:         211\n",
      "Mean dependent var  :     44.3072                Number of Variables   :          11\n",
      "S.D. dependent var  :     23.6061                Degrees of Freedom    :         200\n",
      "Pseudo R-squared    :      0.7083\n",
      "Spatial Pseudo R-squared:  0.6820\n",
      "\n",
      "HAC Standard Errors; Kernel Weights: baltim_tri_k12\n",
      "------------------------------------------------------------------------------------\n",
      "            Variable     Coefficient       Std.Error     z-Statistic     Probability\n",
      "------------------------------------------------------------------------------------\n",
      "            CONSTANT      -0.0625980       7.5653787      -0.0082743       0.9933982\n",
      "                  AC       6.1299283       2.9543705       2.0748678       0.0379988\n",
      "                 AGE      -0.0908101       0.0971168      -0.9350604       0.3497572\n",
      "              FIREPL       7.3051619       2.3926962       3.0531089       0.0022648\n",
      "                 GAR       3.4102969       2.3260367       1.4661406       0.1426100\n",
      "               LOTSZ       0.0659957       0.0230781       2.8596607       0.0042409\n",
      "               NBATH       5.5644252       2.1838594       2.5479778       0.0108349\n",
      "               NROOM       1.0193546       1.4038047       0.7261370       0.4677548\n",
      "               PATIO       7.0723888       3.1502414       2.2450308       0.0247662\n",
      "                SQFT       0.0627993       0.2004246       0.3133312       0.7540291\n",
      "             W_PRICE       0.5043129       0.1216681       4.1449874       0.0000340\n",
      "------------------------------------------------------------------------------------\n",
      "Instrumented: W_PRICE\n",
      "Instruments: W_AC, W_AGE, W_FIREPL, W_GAR, W_LOTSZ, W_NBATH, W_NROOM,\n",
      "             W_PATIO, W_SQFT\n",
      "\n",
      "DIAGNOSTICS FOR SPATIAL DEPENDENCE\n",
      "TEST                           MI/DF       VALUE           PROB\n",
      "Anselin-Kelejian Test             1           3.808          0.0510\n",
      "================================ END OF REPORT =====================================\n"
     ]
    }
   ],
   "source": [
    "print reg5.summary"
   ]
  },
  {
   "cell_type": "markdown",
   "metadata": {},
   "source": [
    "##Spatial Lag Model with other Endogenous Variables##"
   ]
  },
  {
   "cell_type": "markdown",
   "metadata": {},
   "source": [
    "create the variable arrays using the **natregimes** sample data set"
   ]
  },
  {
   "cell_type": "code",
   "execution_count": 29,
   "metadata": {
    "collapsed": false
   },
   "outputs": [],
   "source": [
    "db = pysal.open('data/natregimes.dbf','r')\n",
    "y_name = \"HR90\"\n",
    "y = np.array([db.by_col(y_name)]).T\n",
    "x_names = ['RD90','MA90','PS90']\n",
    "x = np.array([db.by_col(var) for var in x_names]).T\n",
    "yend_names = ['UE90']\n",
    "yend = np.array([db.by_col(var) for var in yend_names]).T\n",
    "q_names = ['FH90','FP89','GI89']\n",
    "q = np.array([db.by_col(var) for var in q_names]).T"
   ]
  },
  {
   "cell_type": "markdown",
   "metadata": {},
   "source": [
    "model weights"
   ]
  },
  {
   "cell_type": "code",
   "execution_count": 30,
   "metadata": {
    "collapsed": false
   },
   "outputs": [],
   "source": [
    "w = pysal.queen_from_shapefile('data/natregimes.shp',idVariable=\"FIPSNO\")\n",
    "w.transform = 'r'"
   ]
  },
  {
   "cell_type": "markdown",
   "metadata": {},
   "source": [
    "###Spatial Lag with Endogenous Variables###"
   ]
  },
  {
   "cell_type": "markdown",
   "metadata": {},
   "source": [
    "base case with spatial diagnostics"
   ]
  },
  {
   "cell_type": "code",
   "execution_count": 31,
   "metadata": {
    "collapsed": false
   },
   "outputs": [],
   "source": [
    "reg6 = pysal.spreg.GM_Lag(y,x,yend,q,w=w,spat_diag=True,\n",
    "                          name_y=y_name,name_x=x_names,name_yend=yend_names,\n",
    "                          name_q=q_names,name_w='natqueen',name_ds='nat')"
   ]
  },
  {
   "cell_type": "code",
   "execution_count": 32,
   "metadata": {
    "collapsed": false
   },
   "outputs": [
    {
     "name": "stdout",
     "output_type": "stream",
     "text": [
      "REGRESSION\n",
      "----------\n",
      "SUMMARY OF OUTPUT: SPATIAL TWO STAGE LEAST SQUARES\n",
      "--------------------------------------------------\n",
      "Data set            :         nat\n",
      "Weights matrix      :    natqueen\n",
      "Dependent Variable  :        HR90                Number of Observations:        3085\n",
      "Mean dependent var  :      6.1829                Number of Variables   :           6\n",
      "S.D. dependent var  :      6.6414                Degrees of Freedom    :        3079\n",
      "Pseudo R-squared    :      0.4186\n",
      "Spatial Pseudo R-squared:  0.3914\n",
      "\n",
      "------------------------------------------------------------------------------------\n",
      "            Variable     Coefficient       Std.Error     z-Statistic     Probability\n",
      "------------------------------------------------------------------------------------\n",
      "            CONSTANT      10.0338240       1.3616383       7.3689349       0.0000000\n",
      "                MA90      -0.0500990       0.0286025      -1.7515613       0.0798493\n",
      "                PS90       1.5813070       0.1084249      14.5843567       0.0000000\n",
      "                RD90       4.4092974       0.2400482      18.3683863       0.0000000\n",
      "                UE90      -0.5182722       0.0882736      -5.8712062       0.0000000\n",
      "              W_HR90       0.2123364       0.0371805       5.7109639       0.0000000\n",
      "------------------------------------------------------------------------------------\n",
      "Instrumented: UE90, W_HR90\n",
      "Instruments: FH90, FP89, GI89, W_FH90, W_FP89, W_GI89, W_MA90, W_PS90,\n",
      "             W_RD90\n",
      "\n",
      "DIAGNOSTICS FOR SPATIAL DEPENDENCE\n",
      "TEST                           MI/DF       VALUE           PROB\n",
      "Anselin-Kelejian Test             1           2.517          0.1127\n",
      "================================ END OF REPORT =====================================\n"
     ]
    }
   ],
   "source": [
    "print reg6.summary"
   ]
  },
  {
   "cell_type": "markdown",
   "metadata": {},
   "source": [
    "without spatial lags for the instruments, set **lag_q = False**"
   ]
  },
  {
   "cell_type": "code",
   "execution_count": 33,
   "metadata": {
    "collapsed": false
   },
   "outputs": [],
   "source": [
    "reg7 = pysal.spreg.GM_Lag(y,x,yend,q,w=w,lag_q=False,spat_diag=True,\n",
    "                          name_y=y_name,name_x=x_names,name_yend=yend_names,\n",
    "                          name_q=q_names,name_w='nat_queen',name_ds='nat')"
   ]
  },
  {
   "cell_type": "code",
   "execution_count": 35,
   "metadata": {
    "collapsed": false
   },
   "outputs": [
    {
     "name": "stdout",
     "output_type": "stream",
     "text": [
      "REGRESSION\n",
      "----------\n",
      "SUMMARY OF OUTPUT: SPATIAL TWO STAGE LEAST SQUARES\n",
      "--------------------------------------------------\n",
      "Data set            :         nat\n",
      "Weights matrix      :   nat_queen\n",
      "Dependent Variable  :        HR90                Number of Observations:        3085\n",
      "Mean dependent var  :      6.1829                Number of Variables   :           6\n",
      "S.D. dependent var  :      6.6414                Degrees of Freedom    :        3079\n",
      "Pseudo R-squared    :      0.4076\n",
      "Spatial Pseudo R-squared:  0.3802\n",
      "\n",
      "------------------------------------------------------------------------------------\n",
      "            Variable     Coefficient       Std.Error     z-Statistic     Probability\n",
      "------------------------------------------------------------------------------------\n",
      "            CONSTANT      11.2850228       1.4177538       7.9597903       0.0000000\n",
      "                MA90      -0.0601927       0.0290474      -2.0722259       0.0382444\n",
      "                PS90       1.6149324       0.1105060      14.6139849       0.0000000\n",
      "                RD90       4.6642007       0.2537771      18.3791221       0.0000000\n",
      "                UE90      -0.6580528       0.0951942      -6.9127375       0.0000000\n",
      "              W_HR90       0.2163835       0.0389967       5.5487653       0.0000000\n",
      "------------------------------------------------------------------------------------\n",
      "Instrumented: UE90, W_HR90\n",
      "Instruments: FH90, FP89, GI89, W_MA90, W_PS90, W_RD90\n",
      "\n",
      "DIAGNOSTICS FOR SPATIAL DEPENDENCE\n",
      "TEST                           MI/DF       VALUE           PROB\n",
      "Anselin-Kelejian Test             1           2.442          0.1182\n",
      "================================ END OF REPORT =====================================\n"
     ]
    }
   ],
   "source": [
    "print reg7.summary"
   ]
  },
  {
   "cell_type": "markdown",
   "metadata": {},
   "source": [
    "##Practice##"
   ]
  },
  {
   "cell_type": "markdown",
   "metadata": {},
   "source": [
    "Replicate the analysis above using a subset of the U.S. counties, i.e., the south data set. Use both k=6 nearest neighbors and queen contiguity as weights and compare the results. Use adaptive bandwidth quadratic kernel weights (k=12) to assess the effect of HAC standard errors."
   ]
  },
  {
   "cell_type": "code",
   "execution_count": null,
   "metadata": {
    "collapsed": false
   },
   "outputs": [],
   "source": []
  }
 ],
 "metadata": {
  "kernelspec": {
   "display_name": "Python 2",
   "language": "python",
   "name": "python2"
  },
  "language_info": {
   "codemirror_mode": {
    "name": "ipython",
    "version": 2
   },
   "file_extension": ".py",
   "mimetype": "text/x-python",
   "name": "python",
   "nbconvert_exporter": "python",
   "pygments_lexer": "ipython2",
   "version": "2.7.10"
  }
 },
 "nbformat": 4,
 "nbformat_minor": 0
}
