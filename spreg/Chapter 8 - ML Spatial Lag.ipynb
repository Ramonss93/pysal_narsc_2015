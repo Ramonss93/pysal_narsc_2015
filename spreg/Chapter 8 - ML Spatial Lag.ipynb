{
 "cells": [
  {
   "cell_type": "markdown",
   "metadata": {},
   "source": [
    "This notebook contains the PySAL/spreg code for Chapter 8 - ML Spatial Lag \n",
    "\n",
    "in\n",
    "Modern Spatial Econometrics in Practice: A Guide to GeoDa, GeoDaSpace and PySAL.\n",
    "\n",
    "by Luc Anselin and Sergio J. Rey\n",
    "\n",
    "(c) 2014 Luc Anselin and Sergio J. Rey, All Rights Reserved"
   ]
  },
  {
   "cell_type": "code",
   "execution_count": 1,
   "metadata": {
    "collapsed": false
   },
   "outputs": [],
   "source": [
    "__author__ = \"Luc Anselin luc.anselin@asu.edu\""
   ]
  },
  {
   "cell_type": "markdown",
   "metadata": {},
   "source": [
    "##Basic Regression Setup##"
   ]
  },
  {
   "cell_type": "markdown",
   "metadata": {},
   "source": [
    "###Model Specification###"
   ]
  },
  {
   "cell_type": "markdown",
   "metadata": {},
   "source": [
    "**Creating arrays for y and x using the Baltimore example - see also Chapter 5 Notebook**"
   ]
  },
  {
   "cell_type": "markdown",
   "metadata": {},
   "source": [
    "Preliminaries, import **numpy** and **pysal**"
   ]
  },
  {
   "cell_type": "code",
   "execution_count": 2,
   "metadata": {
    "collapsed": false
   },
   "outputs": [
    {
     "name": "stdout",
     "output_type": "stream",
     "text": [
      "Populating the interactive namespace from numpy and matplotlib\n"
     ]
    }
   ],
   "source": [
    "%pylab inline"
   ]
  },
  {
   "cell_type": "code",
   "execution_count": 3,
   "metadata": {
    "collapsed": false
   },
   "outputs": [],
   "source": [
    "import numpy as np\n",
    "import pysal"
   ]
  },
  {
   "cell_type": "markdown",
   "metadata": {},
   "source": [
    "the **baltimore** sample data set"
   ]
  },
  {
   "cell_type": "code",
   "execution_count": 4,
   "metadata": {
    "collapsed": false
   },
   "outputs": [],
   "source": [
    "db = pysal.open(pysal.examples.get_path('baltim.dbf'),'r')\n",
    "y_name = \"PRICE\"\n",
    "y = np.array([db.by_col(y_name)]).T\n",
    "x_names = ['NROOM','NBATH','PATIO','FIREPL','AC','GAR','AGE',\n",
    "           'LOTSZ','SQFT']\n",
    "x = np.array([db.by_col(var) for var in x_names]).T"
   ]
  },
  {
   "cell_type": "markdown",
   "metadata": {},
   "source": [
    "model weights - k nearest neighbors with k=4"
   ]
  },
  {
   "cell_type": "code",
   "execution_count": 5,
   "metadata": {
    "collapsed": false
   },
   "outputs": [],
   "source": [
    "w = pysal.knnW_from_shapefile(pysal.examples.get_path('baltim.shp'),\n",
    "                                k=4,idVariable='STATION')\n",
    "w.transform = 'r'"
   ]
  },
  {
   "cell_type": "markdown",
   "metadata": {},
   "source": [
    "##ML Estimation of Spatial Lag Model##"
   ]
  },
  {
   "cell_type": "markdown",
   "metadata": {},
   "source": [
    "###Full Method###"
   ]
  },
  {
   "cell_type": "code",
   "execution_count": 6,
   "metadata": {
    "collapsed": false
   },
   "outputs": [
    {
     "name": "stderr",
     "output_type": "stream",
     "text": [
      "/Users/serge/anaconda/envs/pysal110/lib/python2.7/site-packages/scipy/optimize/_minimize.py:593: RuntimeWarning: Method 'bounded' does not support relative tolerance in x; defaulting to absolute tolerance.\n",
      "  \"defaulting to absolute tolerance.\", RuntimeWarning)\n"
     ]
    }
   ],
   "source": [
    "reg1 = pysal.spreg.ML_Lag(y,x,w,name_y=y_name,name_x=x_names,\n",
    "                          name_w = \"baltim_k4\",name_ds = \"baltim\")"
   ]
  },
  {
   "cell_type": "markdown",
   "metadata": {},
   "source": [
    "contents of the ML_Lag object"
   ]
  },
  {
   "cell_type": "code",
   "execution_count": 7,
   "metadata": {
    "collapsed": false
   },
   "outputs": [
    {
     "data": {
      "text/plain": [
       "['__doc__',\n",
       " '__init__',\n",
       " '__module__',\n",
       " '__summary',\n",
       " '_cache',\n",
       " 'aic',\n",
       " 'betas',\n",
       " 'e_pred',\n",
       " 'epsilon',\n",
       " 'k',\n",
       " 'logll',\n",
       " 'mean_y',\n",
       " 'method',\n",
       " 'n',\n",
       " 'name_ds',\n",
       " 'name_w',\n",
       " 'name_x',\n",
       " 'name_y',\n",
       " 'pr2',\n",
       " 'pr2_e',\n",
       " 'predy',\n",
       " 'predy_e',\n",
       " 'rho',\n",
       " 'schwarz',\n",
       " 'sig2',\n",
       " 'sig2n',\n",
       " 'sig2n_k',\n",
       " 'std_err',\n",
       " 'std_y',\n",
       " 'summary',\n",
       " 'title',\n",
       " 'u',\n",
       " 'utu',\n",
       " 'vm',\n",
       " 'vm1',\n",
       " 'x',\n",
       " 'y',\n",
       " 'z_stat']"
      ]
     },
     "execution_count": 7,
     "metadata": {},
     "output_type": "execute_result"
    }
   ],
   "source": [
    "dir(reg1)"
   ]
  },
  {
   "cell_type": "markdown",
   "metadata": {},
   "source": [
    "the regression coefficients, with rho as last"
   ]
  },
  {
   "cell_type": "code",
   "execution_count": 8,
   "metadata": {
    "collapsed": false
   },
   "outputs": [
    {
     "data": {
      "text/plain": [
       "array([[ 6.78131634],\n",
       "       [ 0.78561936],\n",
       "       [ 5.58905817],\n",
       "       [ 8.02963443],\n",
       "       [ 8.43959593],\n",
       "       [ 6.63568084],\n",
       "       [ 3.99452317],\n",
       "       [-0.12678426],\n",
       "       [ 0.07447576],\n",
       "       [ 0.09945162],\n",
       "       [ 0.35638791]])"
      ]
     },
     "execution_count": 8,
     "metadata": {},
     "output_type": "execute_result"
    }
   ],
   "source": [
    "reg1.betas"
   ]
  },
  {
   "cell_type": "code",
   "execution_count": 9,
   "metadata": {
    "collapsed": false
   },
   "outputs": [
    {
     "data": {
      "text/plain": [
       "0.35638790556487165"
      ]
     },
     "execution_count": 9,
     "metadata": {},
     "output_type": "execute_result"
    }
   ],
   "source": [
    "reg1.betas[-1][0]"
   ]
  },
  {
   "cell_type": "code",
   "execution_count": 10,
   "metadata": {
    "collapsed": false
   },
   "outputs": [
    {
     "data": {
      "text/plain": [
       "0.35638790556487165"
      ]
     },
     "execution_count": 10,
     "metadata": {},
     "output_type": "execute_result"
    }
   ],
   "source": [
    "reg1.rho"
   ]
  },
  {
   "cell_type": "markdown",
   "metadata": {},
   "source": [
    "print the full set of results"
   ]
  },
  {
   "cell_type": "code",
   "execution_count": 11,
   "metadata": {
    "collapsed": false
   },
   "outputs": [
    {
     "name": "stdout",
     "output_type": "stream",
     "text": [
      "REGRESSION\n",
      "----------\n",
      "SUMMARY OF OUTPUT: MAXIMUM LIKELIHOOD SPATIAL LAG (METHOD = FULL)\n",
      "-----------------------------------------------------------------\n",
      "Data set            :      baltim\n",
      "Weights matrix      :   baltim_k4\n",
      "Dependent Variable  :       PRICE                Number of Observations:         211\n",
      "Mean dependent var  :     44.3072                Number of Variables   :          11\n",
      "S.D. dependent var  :     23.6061                Degrees of Freedom    :         200\n",
      "Pseudo R-squared    :      0.7076\n",
      "Spatial Pseudo R-squared:  0.6912\n",
      "Sigma-square ML     :     162.210                Log likelihood        :    -839.269\n",
      "S.E of regression   :      12.736                Akaike info criterion :    1700.537\n",
      "                                                 Schwarz criterion     :    1737.408\n",
      "\n",
      "------------------------------------------------------------------------------------\n",
      "            Variable     Coefficient       Std.Error     z-Statistic     Probability\n",
      "------------------------------------------------------------------------------------\n",
      "            CONSTANT       6.7813163       5.0775374       1.3355522       0.1816957\n",
      "                  AC       6.6356808       2.4150481       2.7476392       0.0060026\n",
      "                 AGE      -0.1267843       0.0525439      -2.4129221       0.0158252\n",
      "              FIREPL       8.4395959       2.4749866       3.4099563       0.0006497\n",
      "                 GAR       3.9945232       1.7565448       2.2740798       0.0229612\n",
      "               LOTSZ       0.0744758       0.0150258       4.9565350       0.0000007\n",
      "               NBATH       5.5890582       1.8040773       3.0980149       0.0019482\n",
      "               NROOM       0.7856194       1.0956555       0.7170314       0.4733547\n",
      "               PATIO       8.0296344       2.7953054       2.8725428       0.0040718\n",
      "                SQFT       0.0994516       0.1689110       0.5887812       0.5560080\n",
      "             W_PRICE       0.3563879       0.0559268       6.3724009       0.0000000\n",
      "------------------------------------------------------------------------------------\n",
      "================================ END OF REPORT =====================================\n"
     ]
    }
   ],
   "source": [
    "print reg1.summary"
   ]
  },
  {
   "cell_type": "markdown",
   "metadata": {},
   "source": [
    "###Ord Method###"
   ]
  },
  {
   "cell_type": "code",
   "execution_count": 12,
   "metadata": {
    "collapsed": false
   },
   "outputs": [],
   "source": [
    "reg2 = pysal.spreg.ML_Lag(y,x,w,method='ord',name_y=y_name,name_x=x_names,\n",
    "                          name_w = \"baltim_k4\",name_ds = \"baltim\")"
   ]
  },
  {
   "cell_type": "code",
   "execution_count": 13,
   "metadata": {
    "collapsed": false
   },
   "outputs": [
    {
     "name": "stdout",
     "output_type": "stream",
     "text": [
      "REGRESSION\n",
      "----------\n",
      "SUMMARY OF OUTPUT: MAXIMUM LIKELIHOOD SPATIAL LAG (METHOD = ORD)\n",
      "----------------------------------------------------------------\n",
      "Data set            :      baltim\n",
      "Weights matrix      :   baltim_k4\n",
      "Dependent Variable  :       PRICE                Number of Observations:         211\n",
      "Mean dependent var  :     44.3072                Number of Variables   :          11\n",
      "S.D. dependent var  :     23.6061                Degrees of Freedom    :         200\n",
      "Pseudo R-squared    :      0.7076\n",
      "Spatial Pseudo R-squared:  0.6912\n",
      "Sigma-square ML     :     162.210                Log likelihood        :    -839.269\n",
      "S.E of regression   :      12.736                Akaike info criterion :    1700.537\n",
      "                                                 Schwarz criterion     :    1737.408\n",
      "\n",
      "------------------------------------------------------------------------------------\n",
      "            Variable     Coefficient       Std.Error     z-Statistic     Probability\n",
      "------------------------------------------------------------------------------------\n",
      "            CONSTANT       6.7813163       5.0775374       1.3355522       0.1816957\n",
      "                  AC       6.6356808       2.4150481       2.7476392       0.0060026\n",
      "                 AGE      -0.1267843       0.0525439      -2.4129221       0.0158252\n",
      "              FIREPL       8.4395959       2.4749866       3.4099563       0.0006497\n",
      "                 GAR       3.9945232       1.7565448       2.2740798       0.0229612\n",
      "               LOTSZ       0.0744758       0.0150258       4.9565350       0.0000007\n",
      "               NBATH       5.5890582       1.8040773       3.0980149       0.0019482\n",
      "               NROOM       0.7856194       1.0956555       0.7170314       0.4733547\n",
      "               PATIO       8.0296344       2.7953054       2.8725428       0.0040718\n",
      "                SQFT       0.0994516       0.1689110       0.5887812       0.5560080\n",
      "             W_PRICE       0.3563879       0.0559268       6.3724009       0.0000000\n",
      "------------------------------------------------------------------------------------\n",
      "================================ END OF REPORT =====================================\n"
     ]
    }
   ],
   "source": [
    "print reg2.summary"
   ]
  },
  {
   "cell_type": "code",
   "execution_count": null,
   "metadata": {
    "collapsed": true
   },
   "outputs": [],
   "source": []
  },
  {
   "cell_type": "code",
   "execution_count": null,
   "metadata": {
    "collapsed": true
   },
   "outputs": [],
   "source": []
  }
 ],
 "metadata": {
  "kernelspec": {
   "display_name": "Python 2",
   "language": "python",
   "name": "python2"
  },
  "language_info": {
   "codemirror_mode": {
    "name": "ipython",
    "version": 2
   },
   "file_extension": ".py",
   "mimetype": "text/x-python",
   "name": "python",
   "nbconvert_exporter": "python",
   "pygments_lexer": "ipython2",
   "version": "2.7.10"
  }
 },
 "nbformat": 4,
 "nbformat_minor": 0
}
