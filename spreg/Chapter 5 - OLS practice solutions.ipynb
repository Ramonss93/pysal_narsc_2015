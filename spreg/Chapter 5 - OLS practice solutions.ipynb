{
 "cells": [
  {
   "cell_type": "markdown",
   "metadata": {},
   "source": [
    "##Solutions to Practice Example Chapter 5##"
   ]
  },
  {
   "cell_type": "code",
   "execution_count": 1,
   "metadata": {
    "collapsed": false
   },
   "outputs": [
    {
     "name": "stdout",
     "output_type": "stream",
     "text": [
      "Populating the interactive namespace from numpy and matplotlib\n"
     ]
    }
   ],
   "source": [
    "%pylab inline"
   ]
  },
  {
   "cell_type": "code",
   "execution_count": 2,
   "metadata": {
    "collapsed": false
   },
   "outputs": [],
   "source": [
    "import numpy as np\n",
    "import pysal"
   ]
  },
  {
   "cell_type": "code",
   "execution_count": 3,
   "metadata": {
    "collapsed": false
   },
   "outputs": [],
   "source": [
    "db = pysal.open('data/boston.dbf','r')"
   ]
  },
  {
   "cell_type": "code",
   "execution_count": 4,
   "metadata": {
    "collapsed": false
   },
   "outputs": [
    {
     "data": {
      "text/plain": [
       "506"
      ]
     },
     "execution_count": 4,
     "metadata": {},
     "output_type": "execute_result"
    }
   ],
   "source": [
    "len(db)"
   ]
  },
  {
   "cell_type": "code",
   "execution_count": 5,
   "metadata": {
    "collapsed": false
   },
   "outputs": [
    {
     "data": {
      "text/plain": [
       "['POLY_ID',\n",
       " 'ID',\n",
       " 'TOWN',\n",
       " 'TOWNNO',\n",
       " 'TRACT',\n",
       " 'LON',\n",
       " 'LAT',\n",
       " 'x',\n",
       " 'y',\n",
       " 'MEDV',\n",
       " 'CMEDV',\n",
       " 'CRIM',\n",
       " 'ZN',\n",
       " 'INDUS',\n",
       " 'CHAS',\n",
       " 'NOX',\n",
       " 'RM',\n",
       " 'AGE',\n",
       " 'DIS',\n",
       " 'RAD',\n",
       " 'TAX',\n",
       " 'PTRATIO',\n",
       " 'B',\n",
       " 'LSTAT']"
      ]
     },
     "execution_count": 5,
     "metadata": {},
     "output_type": "execute_result"
    }
   ],
   "source": [
    "db.header"
   ]
  },
  {
   "cell_type": "code",
   "execution_count": 6,
   "metadata": {
    "collapsed": false
   },
   "outputs": [],
   "source": [
    "y_name = 'MEDV'\n",
    "y = np.array([db.by_col(y_name)]).T"
   ]
  },
  {
   "cell_type": "code",
   "execution_count": 7,
   "metadata": {
    "collapsed": false
   },
   "outputs": [],
   "source": [
    "x_names = ['CRIM','CHAS','NOX','RM','AGE','DIS','LSTAT']\n",
    "x = np.array([db.by_col(var) for var in x_names]).T"
   ]
  },
  {
   "cell_type": "code",
   "execution_count": 8,
   "metadata": {
    "collapsed": false
   },
   "outputs": [],
   "source": [
    "w = pysal.knnW_from_shapefile('data/boston.shp',\n",
    "                                k=4,idVariable='POLY_ID')"
   ]
  },
  {
   "cell_type": "code",
   "execution_count": 9,
   "metadata": {
    "collapsed": false
   },
   "outputs": [
    {
     "data": {
      "text/plain": [
       "506"
      ]
     },
     "execution_count": 9,
     "metadata": {},
     "output_type": "execute_result"
    }
   ],
   "source": [
    "w.n"
   ]
  },
  {
   "cell_type": "code",
   "execution_count": 10,
   "metadata": {
    "collapsed": false
   },
   "outputs": [
    {
     "data": {
      "text/plain": [
       "{30: 1.0, 32: 1.0, 33: 1.0, 35: 1.0}"
      ]
     },
     "execution_count": 10,
     "metadata": {},
     "output_type": "execute_result"
    }
   ],
   "source": [
    "w[1]"
   ]
  },
  {
   "cell_type": "code",
   "execution_count": 11,
   "metadata": {
    "collapsed": false
   },
   "outputs": [],
   "source": [
    "w.transform = 'r'"
   ]
  },
  {
   "cell_type": "code",
   "execution_count": 12,
   "metadata": {
    "collapsed": false
   },
   "outputs": [],
   "source": [
    "kw = pysal.adaptive_kernelW_from_shapefile('data/boston.shp',\n",
    "                                             k=12,idVariable='POLY_ID')"
   ]
  },
  {
   "cell_type": "code",
   "execution_count": 13,
   "metadata": {
    "collapsed": false
   },
   "outputs": [
    {
     "data": {
      "text/plain": [
       "506"
      ]
     },
     "execution_count": 13,
     "metadata": {},
     "output_type": "execute_result"
    }
   ],
   "source": [
    "kw.n"
   ]
  },
  {
   "cell_type": "code",
   "execution_count": 14,
   "metadata": {
    "collapsed": false
   },
   "outputs": [
    {
     "data": {
      "text/plain": [
       "{1: 1.0,\n",
       " 23: 0.017975809698839718,\n",
       " 24: 0.07789763977511166,\n",
       " 25: 0.03599595976755843,\n",
       " 26: 9.99999900663795e-08,\n",
       " 28: 0.06731962890224807,\n",
       " 29: 0.1567134489385178,\n",
       " 30: 0.22098960210545193,\n",
       " 31: 0.14004706565547476,\n",
       " 32: 0.24298214626370784,\n",
       " 33: 0.15996168962289714,\n",
       " 34: 0.06768918779207955,\n",
       " 35: 0.1978979513164435}"
      ]
     },
     "execution_count": 14,
     "metadata": {},
     "output_type": "execute_result"
    }
   ],
   "source": [
    "kw[1]"
   ]
  },
  {
   "cell_type": "code",
   "execution_count": 15,
   "metadata": {
    "collapsed": false
   },
   "outputs": [],
   "source": [
    "reg1 = pysal.spreg.OLS(y,x,w=w,spat_diag=True,moran=True,\n",
    "                       name_y=y_name,name_x=x_names,name_w='boston_k4',\n",
    "                       name_ds='boston.shp')"
   ]
  },
  {
   "cell_type": "code",
   "execution_count": 16,
   "metadata": {
    "collapsed": false
   },
   "outputs": [
    {
     "name": "stdout",
     "output_type": "stream",
     "text": [
      "REGRESSION\n",
      "----------\n",
      "SUMMARY OF OUTPUT: ORDINARY LEAST SQUARES\n",
      "-----------------------------------------\n",
      "Data set            :  boston.shp\n",
      "Weights matrix      :   boston_k4\n",
      "Dependent Variable  :        MEDV                Number of Observations:         506\n",
      "Mean dependent var  :     22.5328                Number of Variables   :           8\n",
      "S.D. dependent var  :      9.1971                Degrees of Freedom    :         498\n",
      "R-squared           :      0.6788\n",
      "Adjusted R-squared  :      0.6743\n",
      "Sum squared residual:   13719.651                F-statistic           :    150.3613\n",
      "Sigma-square        :      27.550                Prob(F-statistic)     :  1.732e-118\n",
      "S.E. of regression  :       5.249                Log likelihood        :   -1552.895\n",
      "Sigma-square ML     :      27.114                Akaike info criterion :    3121.790\n",
      "S.E of regression ML:      5.2071                Schwarz criterion     :    3155.602\n",
      "\n",
      "------------------------------------------------------------------------------------\n",
      "            Variable     Coefficient       Std.Error     t-Statistic     Probability\n",
      "------------------------------------------------------------------------------------\n",
      "            CONSTANT      11.4725706       3.9048811       2.9380077       0.0034564\n",
      "                 AGE      -0.0168636       0.0143248      -1.1772306       0.2396658\n",
      "                CHAS       3.8639095       0.9385306       4.1169776       0.0000449\n",
      "                CRIM      -0.1074230       0.0315102      -3.4091522       0.0007045\n",
      "                 DIS      -1.0649851       0.1931115      -5.5148716       0.0000001\n",
      "               LSTAT      -0.5746656       0.0547460     -10.4969367       0.0000000\n",
      "                 NOX     -13.2572627       3.5597665      -3.7241945       0.0002183\n",
      "                  RM       4.9333429       0.4323621      11.4102121       0.0000000\n",
      "------------------------------------------------------------------------------------\n",
      "\n",
      "REGRESSION DIAGNOSTICS\n",
      "MULTICOLLINEARITY CONDITION NUMBER           47.587\n",
      "\n",
      "TEST ON NORMALITY OF ERRORS\n",
      "TEST                             DF        VALUE           PROB\n",
      "Jarque-Bera                       2         482.230           0.0000\n",
      "\n",
      "DIAGNOSTICS FOR HETEROSKEDASTICITY\n",
      "RANDOM COEFFICIENTS\n",
      "TEST                             DF        VALUE           PROB\n",
      "Breusch-Pagan test                7          97.286           0.0000\n",
      "Koenker-Bassett test              7          32.560           0.0000\n",
      "\n",
      "DIAGNOSTICS FOR SPATIAL DEPENDENCE\n",
      "TEST                           MI/DF       VALUE           PROB\n",
      "Moran's I (error)              0.4736        16.803           0.0000\n",
      "Lagrange Multiplier (lag)         1         167.220           0.0000\n",
      "Robust LM (lag)                   1           4.999           0.0254\n",
      "Lagrange Multiplier (error)       1         261.062           0.0000\n",
      "Robust LM (error)                 1          98.841           0.0000\n",
      "Lagrange Multiplier (SARMA)       2         266.061           0.0000\n",
      "\n",
      "================================ END OF REPORT =====================================\n"
     ]
    }
   ],
   "source": [
    "print reg1.summary"
   ]
  },
  {
   "cell_type": "code",
   "execution_count": 17,
   "metadata": {
    "collapsed": false
   },
   "outputs": [],
   "source": [
    "reg2 = pysal.spreg.OLS(y,x,w=w,robust='hac',gwk=kw,spat_diag=True,moran=True,\n",
    "                       name_y=y_name,name_x=x_names,name_w='boston_k4',name_gwk='boston_tri_k12',\n",
    "                       name_ds='boston.shp')"
   ]
  },
  {
   "cell_type": "code",
   "execution_count": 18,
   "metadata": {
    "collapsed": false
   },
   "outputs": [
    {
     "name": "stdout",
     "output_type": "stream",
     "text": [
      "REGRESSION\n",
      "----------\n",
      "SUMMARY OF OUTPUT: ORDINARY LEAST SQUARES\n",
      "-----------------------------------------\n",
      "Data set            :  boston.shp\n",
      "Weights matrix      :   boston_k4\n",
      "Dependent Variable  :        MEDV                Number of Observations:         506\n",
      "Mean dependent var  :     22.5328                Number of Variables   :           8\n",
      "S.D. dependent var  :      9.1971                Degrees of Freedom    :         498\n",
      "R-squared           :      0.6788\n",
      "Adjusted R-squared  :      0.6743\n",
      "Sum squared residual:   13719.651                F-statistic           :    150.3613\n",
      "Sigma-square        :      27.550                Prob(F-statistic)     :  1.732e-118\n",
      "S.E. of regression  :       5.249                Log likelihood        :   -1552.895\n",
      "Sigma-square ML     :      27.114                Akaike info criterion :    3121.790\n",
      "S.E of regression ML:      5.2071                Schwarz criterion     :    3155.602\n",
      "\n",
      "HAC Standard Errors; Kernel Weights: boston_tri_k12\n",
      "------------------------------------------------------------------------------------\n",
      "            Variable     Coefficient       Std.Error     t-Statistic     Probability\n",
      "------------------------------------------------------------------------------------\n",
      "            CONSTANT      11.4725706       9.1535525       1.2533462       0.2106678\n",
      "                 AGE      -0.0168636       0.0214346      -0.7867480       0.4318037\n",
      "                CHAS       3.8639095       1.4681591       2.6318056       0.0087567\n",
      "                CRIM      -0.1074230       0.0390349      -2.7519731       0.0061398\n",
      "                 DIS      -1.0649851       0.2383633      -4.4679079       0.0000098\n",
      "               LSTAT      -0.5746656       0.1316164      -4.3662150       0.0000154\n",
      "                 NOX     -13.2572627       4.9271588      -2.6906506       0.0073709\n",
      "                  RM       4.9333429       1.1433919       4.3146561       0.0000193\n",
      "------------------------------------------------------------------------------------\n",
      "\n",
      "REGRESSION DIAGNOSTICS\n",
      "MULTICOLLINEARITY CONDITION NUMBER           47.587\n",
      "\n",
      "TEST ON NORMALITY OF ERRORS\n",
      "TEST                             DF        VALUE           PROB\n",
      "Jarque-Bera                       2         482.230           0.0000\n",
      "\n",
      "DIAGNOSTICS FOR HETEROSKEDASTICITY\n",
      "RANDOM COEFFICIENTS\n",
      "TEST                             DF        VALUE           PROB\n",
      "Breusch-Pagan test                7          97.286           0.0000\n",
      "Koenker-Bassett test              7          32.560           0.0000\n",
      "\n",
      "DIAGNOSTICS FOR SPATIAL DEPENDENCE\n",
      "TEST                           MI/DF       VALUE           PROB\n",
      "Moran's I (error)              0.4736        16.803           0.0000\n",
      "Lagrange Multiplier (lag)         1         167.220           0.0000\n",
      "Robust LM (lag)                   1           4.999           0.0254\n",
      "Lagrange Multiplier (error)       1         261.062           0.0000\n",
      "Robust LM (error)                 1          98.841           0.0000\n",
      "Lagrange Multiplier (SARMA)       2         266.061           0.0000\n",
      "\n",
      "================================ END OF REPORT =====================================\n"
     ]
    }
   ],
   "source": [
    "print reg2.summary"
   ]
  },
  {
   "cell_type": "code",
   "execution_count": null,
   "metadata": {
    "collapsed": false
   },
   "outputs": [],
   "source": []
  },
  {
   "cell_type": "code",
   "execution_count": null,
   "metadata": {
    "collapsed": true
   },
   "outputs": [],
   "source": []
  }
 ],
 "metadata": {
  "kernelspec": {
   "display_name": "Python 2",
   "language": "python",
   "name": "python2"
  },
  "language_info": {
   "codemirror_mode": {
    "name": "ipython",
    "version": 2
   },
   "file_extension": ".py",
   "mimetype": "text/x-python",
   "name": "python",
   "nbconvert_exporter": "python",
   "pygments_lexer": "ipython2",
   "version": "2.7.10"
  }
 },
 "nbformat": 4,
 "nbformat_minor": 0
}
